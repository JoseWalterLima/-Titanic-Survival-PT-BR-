{
 "cells": [
  {
   "cell_type": "markdown",
   "id": "light-saturday",
   "metadata": {
    "papermill": {
     "duration": 0.086457,
     "end_time": "2021-07-08T18:30:52.002256",
     "exception": false,
     "start_time": "2021-07-08T18:30:51.915799",
     "status": "completed"
    },
    "tags": []
   },
   "source": [
    "# Introdução\n",
    "Esse é uma análise feita a título de estudo pessoal, com base no famoso dataset do Titanic: https://www.kaggle.com/c/titanic.\n",
    "Na primeira etapa desse notebook será feita uma análise exploratória dos dados, o que consiste em uma etapa anterior ao processo de previsão, para determinação das features mais relevantes na sobrevivência dos passageiros, e também para tratamento dos dados categóricos e missing values. Posteriormente será feito o ajuste de um modelo e submissão da previsão de sobrevivência no Titanic."
   ]
  },
  {
   "cell_type": "markdown",
   "id": "blond-firmware",
   "metadata": {
    "papermill": {
     "duration": 0.087094,
     "end_time": "2021-07-08T18:30:52.175282",
     "exception": false,
     "start_time": "2021-07-08T18:30:52.088188",
     "status": "completed"
    },
    "tags": []
   },
   "source": [
    "# Análise e Transformação dos Dados"
   ]
  },
  {
   "cell_type": "code",
   "execution_count": 1,
   "id": "norman-homeless",
   "metadata": {
    "execution": {
     "iopub.execute_input": "2021-07-08T18:30:52.355769Z",
     "iopub.status.busy": "2021-07-08T18:30:52.355110Z",
     "iopub.status.idle": "2021-07-08T18:30:52.359077Z",
     "shell.execute_reply": "2021-07-08T18:30:52.359471Z",
     "shell.execute_reply.started": "2021-07-08T18:09:49.698031Z"
    },
    "papermill": {
     "duration": 0.100549,
     "end_time": "2021-07-08T18:30:52.359762",
     "exception": false,
     "start_time": "2021-07-08T18:30:52.259213",
     "status": "completed"
    },
    "tags": []
   },
   "outputs": [],
   "source": [
    "# Bibliotecas para análise dos dados\n",
    "import pandas as pd \n",
    "import numpy as np "
   ]
  },
  {
   "cell_type": "code",
   "execution_count": 2,
   "id": "adverse-professional",
   "metadata": {
    "execution": {
     "iopub.execute_input": "2021-07-08T18:30:52.472458Z",
     "iopub.status.busy": "2021-07-08T18:30:52.471701Z",
     "iopub.status.idle": "2021-07-08T18:30:52.529021Z",
     "shell.execute_reply": "2021-07-08T18:30:52.528374Z",
     "shell.execute_reply.started": "2021-07-08T18:09:49.710384Z"
    },
    "papermill": {
     "duration": 0.115981,
     "end_time": "2021-07-08T18:30:52.529172",
     "exception": false,
     "start_time": "2021-07-08T18:30:52.413191",
     "status": "completed"
    },
    "tags": []
   },
   "outputs": [
    {
     "name": "stdout",
     "output_type": "stream",
     "text": [
      "Número de Linhas e Colunas: (891, 12)\n"
     ]
    },
    {
     "data": {
      "text/html": [
       "<div>\n",
       "<style scoped>\n",
       "    .dataframe tbody tr th:only-of-type {\n",
       "        vertical-align: middle;\n",
       "    }\n",
       "\n",
       "    .dataframe tbody tr th {\n",
       "        vertical-align: top;\n",
       "    }\n",
       "\n",
       "    .dataframe thead th {\n",
       "        text-align: right;\n",
       "    }\n",
       "</style>\n",
       "<table border=\"1\" class=\"dataframe\">\n",
       "  <thead>\n",
       "    <tr style=\"text-align: right;\">\n",
       "      <th></th>\n",
       "      <th>PassengerId</th>\n",
       "      <th>Survived</th>\n",
       "      <th>Pclass</th>\n",
       "      <th>Name</th>\n",
       "      <th>Sex</th>\n",
       "      <th>Age</th>\n",
       "      <th>SibSp</th>\n",
       "      <th>Parch</th>\n",
       "      <th>Ticket</th>\n",
       "      <th>Fare</th>\n",
       "      <th>Cabin</th>\n",
       "      <th>Embarked</th>\n",
       "    </tr>\n",
       "  </thead>\n",
       "  <tbody>\n",
       "    <tr>\n",
       "      <th>0</th>\n",
       "      <td>1</td>\n",
       "      <td>0</td>\n",
       "      <td>3</td>\n",
       "      <td>Braund, Mr. Owen Harris</td>\n",
       "      <td>male</td>\n",
       "      <td>22.0</td>\n",
       "      <td>1</td>\n",
       "      <td>0</td>\n",
       "      <td>A/5 21171</td>\n",
       "      <td>7.2500</td>\n",
       "      <td>NaN</td>\n",
       "      <td>S</td>\n",
       "    </tr>\n",
       "    <tr>\n",
       "      <th>1</th>\n",
       "      <td>2</td>\n",
       "      <td>1</td>\n",
       "      <td>1</td>\n",
       "      <td>Cumings, Mrs. John Bradley (Florence Briggs Th...</td>\n",
       "      <td>female</td>\n",
       "      <td>38.0</td>\n",
       "      <td>1</td>\n",
       "      <td>0</td>\n",
       "      <td>PC 17599</td>\n",
       "      <td>71.2833</td>\n",
       "      <td>C85</td>\n",
       "      <td>C</td>\n",
       "    </tr>\n",
       "    <tr>\n",
       "      <th>2</th>\n",
       "      <td>3</td>\n",
       "      <td>1</td>\n",
       "      <td>3</td>\n",
       "      <td>Heikkinen, Miss. Laina</td>\n",
       "      <td>female</td>\n",
       "      <td>26.0</td>\n",
       "      <td>0</td>\n",
       "      <td>0</td>\n",
       "      <td>STON/O2. 3101282</td>\n",
       "      <td>7.9250</td>\n",
       "      <td>NaN</td>\n",
       "      <td>S</td>\n",
       "    </tr>\n",
       "    <tr>\n",
       "      <th>3</th>\n",
       "      <td>4</td>\n",
       "      <td>1</td>\n",
       "      <td>1</td>\n",
       "      <td>Futrelle, Mrs. Jacques Heath (Lily May Peel)</td>\n",
       "      <td>female</td>\n",
       "      <td>35.0</td>\n",
       "      <td>1</td>\n",
       "      <td>0</td>\n",
       "      <td>113803</td>\n",
       "      <td>53.1000</td>\n",
       "      <td>C123</td>\n",
       "      <td>S</td>\n",
       "    </tr>\n",
       "    <tr>\n",
       "      <th>4</th>\n",
       "      <td>5</td>\n",
       "      <td>0</td>\n",
       "      <td>3</td>\n",
       "      <td>Allen, Mr. William Henry</td>\n",
       "      <td>male</td>\n",
       "      <td>35.0</td>\n",
       "      <td>0</td>\n",
       "      <td>0</td>\n",
       "      <td>373450</td>\n",
       "      <td>8.0500</td>\n",
       "      <td>NaN</td>\n",
       "      <td>S</td>\n",
       "    </tr>\n",
       "  </tbody>\n",
       "</table>\n",
       "</div>"
      ],
      "text/plain": [
       "   PassengerId  Survived  Pclass  \\\n",
       "0            1         0       3   \n",
       "1            2         1       1   \n",
       "2            3         1       3   \n",
       "3            4         1       1   \n",
       "4            5         0       3   \n",
       "\n",
       "                                                Name     Sex   Age  SibSp  \\\n",
       "0                            Braund, Mr. Owen Harris    male  22.0      1   \n",
       "1  Cumings, Mrs. John Bradley (Florence Briggs Th...  female  38.0      1   \n",
       "2                             Heikkinen, Miss. Laina  female  26.0      0   \n",
       "3       Futrelle, Mrs. Jacques Heath (Lily May Peel)  female  35.0      1   \n",
       "4                           Allen, Mr. William Henry    male  35.0      0   \n",
       "\n",
       "   Parch            Ticket     Fare Cabin Embarked  \n",
       "0      0         A/5 21171   7.2500   NaN        S  \n",
       "1      0          PC 17599  71.2833   C85        C  \n",
       "2      0  STON/O2. 3101282   7.9250   NaN        S  \n",
       "3      0            113803  53.1000  C123        S  \n",
       "4      0            373450   8.0500   NaN        S  "
      ]
     },
     "execution_count": 2,
     "metadata": {},
     "output_type": "execute_result"
    }
   ],
   "source": [
    "# Criando dataframe com os dados de Treino\n",
    "df = pd.read_csv(\"../input/titanic/train.csv\")\n",
    "\n",
    "# Visualização inicial do dataframe\n",
    "print(f'Número de Linhas e Colunas: {df.shape}')\n",
    "df.head()"
   ]
  },
  {
   "cell_type": "code",
   "execution_count": 3,
   "id": "changing-anatomy",
   "metadata": {
    "execution": {
     "iopub.execute_input": "2021-07-08T18:30:52.705667Z",
     "iopub.status.busy": "2021-07-08T18:30:52.705029Z",
     "iopub.status.idle": "2021-07-08T18:30:52.724394Z",
     "shell.execute_reply": "2021-07-08T18:30:52.723703Z",
     "shell.execute_reply.started": "2021-07-08T18:09:49.751614Z"
    },
    "papermill": {
     "duration": 0.110347,
     "end_time": "2021-07-08T18:30:52.724585",
     "exception": false,
     "start_time": "2021-07-08T18:30:52.614238",
     "status": "completed"
    },
    "tags": []
   },
   "outputs": [
    {
     "data": {
      "text/html": [
       "<div>\n",
       "<style scoped>\n",
       "    .dataframe tbody tr th:only-of-type {\n",
       "        vertical-align: middle;\n",
       "    }\n",
       "\n",
       "    .dataframe tbody tr th {\n",
       "        vertical-align: top;\n",
       "    }\n",
       "\n",
       "    .dataframe thead th {\n",
       "        text-align: right;\n",
       "    }\n",
       "</style>\n",
       "<table border=\"1\" class=\"dataframe\">\n",
       "  <thead>\n",
       "    <tr style=\"text-align: right;\">\n",
       "      <th></th>\n",
       "      <th>Id</th>\n",
       "      <th>Sobreviveu</th>\n",
       "      <th>Classe</th>\n",
       "      <th>Nome</th>\n",
       "      <th>Sexo</th>\n",
       "      <th>Idade</th>\n",
       "      <th>Familiares</th>\n",
       "      <th>Dependentes</th>\n",
       "      <th>Ticket</th>\n",
       "      <th>Preço da Passagem</th>\n",
       "      <th>Cabine</th>\n",
       "      <th>Local de Embarque</th>\n",
       "    </tr>\n",
       "  </thead>\n",
       "  <tbody>\n",
       "    <tr>\n",
       "      <th>0</th>\n",
       "      <td>1</td>\n",
       "      <td>0</td>\n",
       "      <td>3</td>\n",
       "      <td>Braund, Mr. Owen Harris</td>\n",
       "      <td>male</td>\n",
       "      <td>22.0</td>\n",
       "      <td>1</td>\n",
       "      <td>0</td>\n",
       "      <td>A/5 21171</td>\n",
       "      <td>7.2500</td>\n",
       "      <td>NaN</td>\n",
       "      <td>S</td>\n",
       "    </tr>\n",
       "    <tr>\n",
       "      <th>1</th>\n",
       "      <td>2</td>\n",
       "      <td>1</td>\n",
       "      <td>1</td>\n",
       "      <td>Cumings, Mrs. John Bradley (Florence Briggs Th...</td>\n",
       "      <td>female</td>\n",
       "      <td>38.0</td>\n",
       "      <td>1</td>\n",
       "      <td>0</td>\n",
       "      <td>PC 17599</td>\n",
       "      <td>71.2833</td>\n",
       "      <td>C85</td>\n",
       "      <td>C</td>\n",
       "    </tr>\n",
       "    <tr>\n",
       "      <th>2</th>\n",
       "      <td>3</td>\n",
       "      <td>1</td>\n",
       "      <td>3</td>\n",
       "      <td>Heikkinen, Miss. Laina</td>\n",
       "      <td>female</td>\n",
       "      <td>26.0</td>\n",
       "      <td>0</td>\n",
       "      <td>0</td>\n",
       "      <td>STON/O2. 3101282</td>\n",
       "      <td>7.9250</td>\n",
       "      <td>NaN</td>\n",
       "      <td>S</td>\n",
       "    </tr>\n",
       "    <tr>\n",
       "      <th>3</th>\n",
       "      <td>4</td>\n",
       "      <td>1</td>\n",
       "      <td>1</td>\n",
       "      <td>Futrelle, Mrs. Jacques Heath (Lily May Peel)</td>\n",
       "      <td>female</td>\n",
       "      <td>35.0</td>\n",
       "      <td>1</td>\n",
       "      <td>0</td>\n",
       "      <td>113803</td>\n",
       "      <td>53.1000</td>\n",
       "      <td>C123</td>\n",
       "      <td>S</td>\n",
       "    </tr>\n",
       "    <tr>\n",
       "      <th>4</th>\n",
       "      <td>5</td>\n",
       "      <td>0</td>\n",
       "      <td>3</td>\n",
       "      <td>Allen, Mr. William Henry</td>\n",
       "      <td>male</td>\n",
       "      <td>35.0</td>\n",
       "      <td>0</td>\n",
       "      <td>0</td>\n",
       "      <td>373450</td>\n",
       "      <td>8.0500</td>\n",
       "      <td>NaN</td>\n",
       "      <td>S</td>\n",
       "    </tr>\n",
       "  </tbody>\n",
       "</table>\n",
       "</div>"
      ],
      "text/plain": [
       "   Id  Sobreviveu  Classe                                               Nome  \\\n",
       "0   1           0       3                            Braund, Mr. Owen Harris   \n",
       "1   2           1       1  Cumings, Mrs. John Bradley (Florence Briggs Th...   \n",
       "2   3           1       3                             Heikkinen, Miss. Laina   \n",
       "3   4           1       1       Futrelle, Mrs. Jacques Heath (Lily May Peel)   \n",
       "4   5           0       3                           Allen, Mr. William Henry   \n",
       "\n",
       "     Sexo  Idade  Familiares  Dependentes            Ticket  \\\n",
       "0    male   22.0           1            0         A/5 21171   \n",
       "1  female   38.0           1            0          PC 17599   \n",
       "2  female   26.0           0            0  STON/O2. 3101282   \n",
       "3  female   35.0           1            0            113803   \n",
       "4    male   35.0           0            0            373450   \n",
       "\n",
       "   Preço da Passagem Cabine Local de Embarque  \n",
       "0             7.2500    NaN                 S  \n",
       "1            71.2833    C85                 C  \n",
       "2             7.9250    NaN                 S  \n",
       "3            53.1000   C123                 S  \n",
       "4             8.0500    NaN                 S  "
      ]
     },
     "execution_count": 3,
     "metadata": {},
     "output_type": "execute_result"
    }
   ],
   "source": [
    "# Alterar o nome das colunas para facilitar o entendimento \n",
    "df.columns = [\"Id\", \"Sobreviveu\", \"Classe\", \"Nome\", \"Sexo\", \"Idade\", \"Familiares\", \"Dependentes\", \"Ticket\", \"Preço da Passagem\", \"Cabine\", \"Local de Embarque\"]\n",
    "df.head()"
   ]
  },
  {
   "cell_type": "markdown",
   "id": "selected-induction",
   "metadata": {
    "papermill": {
     "duration": 0.084887,
     "end_time": "2021-07-08T18:30:52.894913",
     "exception": false,
     "start_time": "2021-07-08T18:30:52.810026",
     "status": "completed"
    },
    "tags": []
   },
   "source": [
    "**Dicionário dos Dados**:\n",
    "\n",
    "**ID**: Identificador do Passageiro (int)\n",
    "\n",
    "**Sobreviveu**: Se o passageiro sobreviveu (0 = Não, 1 = Sim)\n",
    "\n",
    "**Classe**: Classe na qual o passageiro viajou. (1 = Primeira Classe, 2 = Segunda Classe, 3 = Terceira Classe)\n",
    "\n",
    "**Nome**: Nome do passageiro, com o pronome de tratamento\n",
    "\n",
    "**Sexo**: Sexo do passageiro (Male, Female)\n",
    "\n",
    "**Idade**: Idade do passageiro (float)\n",
    "\n",
    "**Familiares**: Quantidade de irmãos e cônjuges relativos ao passageiro\n",
    "\n",
    "**Dependentes**: Quantidade de Filhos ou Pais (idosos) relativos ao passageiro\n",
    "\n",
    "**Ticket**: Número do bilhete do passageiro\n",
    "\n",
    "**Preço da Passagem**: Valor pago pelo passageiro para viajar (Dólar)\n",
    "\n",
    "**Cabine**: Número da Cabine do passageiro\n",
    "\n",
    "**Local de Embarque**: Foram 3 paradas antes de seguir para Nova York (C = Cherbourg, Q = Queenstown, S = Southampton)"
   ]
  },
  {
   "cell_type": "code",
   "execution_count": 4,
   "id": "insured-sixth",
   "metadata": {
    "execution": {
     "iopub.execute_input": "2021-07-08T18:30:53.081153Z",
     "iopub.status.busy": "2021-07-08T18:30:53.080339Z",
     "iopub.status.idle": "2021-07-08T18:30:53.109061Z",
     "shell.execute_reply": "2021-07-08T18:30:53.109437Z",
     "shell.execute_reply.started": "2021-07-08T18:09:49.775894Z"
    },
    "papermill": {
     "duration": 0.128313,
     "end_time": "2021-07-08T18:30:53.109594",
     "exception": false,
     "start_time": "2021-07-08T18:30:52.981281",
     "status": "completed"
    },
    "tags": []
   },
   "outputs": [
    {
     "data": {
      "text/plain": [
       "0    61.616162\n",
       "1    38.383838\n",
       "Name: Sobreviveu, dtype: float64"
      ]
     },
     "execution_count": 4,
     "metadata": {},
     "output_type": "execute_result"
    }
   ],
   "source": [
    "# Avaliar a distribuição da classe Target (Sobreviveu)\n",
    "df.Sobreviveu.value_counts(normalize=True)*100"
   ]
  },
  {
   "cell_type": "markdown",
   "id": "tutorial-adult",
   "metadata": {
    "papermill": {
     "duration": 0.055808,
     "end_time": "2021-07-08T18:30:53.222942",
     "exception": false,
     "start_time": "2021-07-08T18:30:53.167134",
     "status": "completed"
    },
    "tags": []
   },
   "source": [
    "Á classe alvo está desbalanceada, mas não de forma severa. O impacto disso pode ser avaliado através da matriz de confusão, despois da previsão. Por mais que a submissão avalie somente a acurácia (que não detecta erros tipo II), é importante considerar o impacto desse erro e buscar uma métrica adequada (F1, talvez) em situações de classes desbalanceadas.\n",
    "Outra questão é que todas as análises ficaram desbalanceadas, não devendo este comportamento ser confundido totalmente com correlação."
   ]
  },
  {
   "cell_type": "code",
   "execution_count": 5,
   "id": "environmental-occupation",
   "metadata": {
    "execution": {
     "iopub.execute_input": "2021-07-08T18:30:53.345849Z",
     "iopub.status.busy": "2021-07-08T18:30:53.345317Z",
     "iopub.status.idle": "2021-07-08T18:30:53.361103Z",
     "shell.execute_reply": "2021-07-08T18:30:53.360656Z",
     "shell.execute_reply.started": "2021-07-08T18:09:49.801107Z"
    },
    "papermill": {
     "duration": 0.081458,
     "end_time": "2021-07-08T18:30:53.361222",
     "exception": false,
     "start_time": "2021-07-08T18:30:53.279764",
     "status": "completed"
    },
    "tags": []
   },
   "outputs": [
    {
     "data": {
      "text/plain": [
       "Sexo    Sobreviveu\n",
       "female  0             25.796178\n",
       "        1             74.203822\n",
       "male    0             81.109185\n",
       "        1             18.890815\n",
       "Name: Sobreviveu, dtype: float64"
      ]
     },
     "execution_count": 5,
     "metadata": {},
     "output_type": "execute_result"
    }
   ],
   "source": [
    "# Avaliar a distribuição da Target por Sexo\n",
    "df.groupby('Sexo')['Sobreviveu'].value_counts(normalize=True).sort_index()*100"
   ]
  },
  {
   "cell_type": "markdown",
   "id": "black-spine",
   "metadata": {
    "papermill": {
     "duration": 0.055559,
     "end_time": "2021-07-08T18:30:53.473345",
     "exception": false,
     "start_time": "2021-07-08T18:30:53.417786",
     "status": "completed"
    },
    "tags": []
   },
   "source": [
    "É bem claro que o Sexo do passageiro foi um dos fatores determinantes na sua sobreviência. **74% das mulheres** que estavam no Titanic sobreviveram, enquanto apenas **19% dos homens** sobreviveram. Vamos avaliar se a Classe em que o passageiro viaja está relacionada à sobrevivência."
   ]
  },
  {
   "cell_type": "code",
   "execution_count": 6,
   "id": "instructional-manitoba",
   "metadata": {
    "execution": {
     "iopub.execute_input": "2021-07-08T18:30:53.594193Z",
     "iopub.status.busy": "2021-07-08T18:30:53.591769Z",
     "iopub.status.idle": "2021-07-08T18:30:53.599968Z",
     "shell.execute_reply": "2021-07-08T18:30:53.600513Z",
     "shell.execute_reply.started": "2021-07-08T18:09:49.819085Z"
    },
    "papermill": {
     "duration": 0.070552,
     "end_time": "2021-07-08T18:30:53.600709",
     "exception": false,
     "start_time": "2021-07-08T18:30:53.530157",
     "status": "completed"
    },
    "tags": []
   },
   "outputs": [
    {
     "data": {
      "text/plain": [
       "Classe  Sobreviveu\n",
       "1       0             37.037037\n",
       "        1             62.962963\n",
       "2       0             52.717391\n",
       "        1             47.282609\n",
       "3       0             75.763747\n",
       "        1             24.236253\n",
       "Name: Sobreviveu, dtype: float64"
      ]
     },
     "execution_count": 6,
     "metadata": {},
     "output_type": "execute_result"
    }
   ],
   "source": [
    "# Avaliar a distribuição da Target por Classe\n",
    "df.groupby('Classe')['Sobreviveu'].value_counts(normalize=True).sort_index()*100"
   ]
  },
  {
   "cell_type": "markdown",
   "id": "limiting-length",
   "metadata": {
    "papermill": {
     "duration": 0.090044,
     "end_time": "2021-07-08T18:30:53.778357",
     "exception": false,
     "start_time": "2021-07-08T18:30:53.688313",
     "status": "completed"
    },
    "tags": []
   },
   "source": [
    "Podemos identificar uma clara correlação entre a Classe em que o passageiro estava e sua probabilidade de sobreviver: sendo que **63%** da Primeira classe sobreviveu, **47%** da Segunda classe e apenas **24%** da Terceira classe."
   ]
  },
  {
   "cell_type": "code",
   "execution_count": 7,
   "id": "directed-pontiac",
   "metadata": {
    "execution": {
     "iopub.execute_input": "2021-07-08T18:30:53.960526Z",
     "iopub.status.busy": "2021-07-08T18:30:53.959825Z",
     "iopub.status.idle": "2021-07-08T18:30:53.991110Z",
     "shell.execute_reply": "2021-07-08T18:30:53.991707Z",
     "shell.execute_reply.started": "2021-07-08T18:09:49.834680Z"
    },
    "papermill": {
     "duration": 0.124917,
     "end_time": "2021-07-08T18:30:53.991886",
     "exception": false,
     "start_time": "2021-07-08T18:30:53.866969",
     "status": "completed"
    },
    "tags": []
   },
   "outputs": [
    {
     "data": {
      "text/html": [
       "<div>\n",
       "<style scoped>\n",
       "    .dataframe tbody tr th:only-of-type {\n",
       "        vertical-align: middle;\n",
       "    }\n",
       "\n",
       "    .dataframe tbody tr th {\n",
       "        vertical-align: top;\n",
       "    }\n",
       "\n",
       "    .dataframe thead th {\n",
       "        text-align: right;\n",
       "    }\n",
       "</style>\n",
       "<table border=\"1\" class=\"dataframe\">\n",
       "  <thead>\n",
       "    <tr style=\"text-align: right;\">\n",
       "      <th></th>\n",
       "      <th>Id</th>\n",
       "      <th>Sobreviveu</th>\n",
       "      <th>Classe</th>\n",
       "      <th>Idade</th>\n",
       "      <th>Familiares</th>\n",
       "      <th>Dependentes</th>\n",
       "      <th>Preço da Passagem</th>\n",
       "    </tr>\n",
       "  </thead>\n",
       "  <tbody>\n",
       "    <tr>\n",
       "      <th>count</th>\n",
       "      <td>891.000000</td>\n",
       "      <td>891.000000</td>\n",
       "      <td>891.000000</td>\n",
       "      <td>714.000000</td>\n",
       "      <td>891.000000</td>\n",
       "      <td>891.000000</td>\n",
       "      <td>891.000000</td>\n",
       "    </tr>\n",
       "    <tr>\n",
       "      <th>mean</th>\n",
       "      <td>446.000000</td>\n",
       "      <td>0.383838</td>\n",
       "      <td>2.308642</td>\n",
       "      <td>29.699118</td>\n",
       "      <td>0.523008</td>\n",
       "      <td>0.381594</td>\n",
       "      <td>32.204208</td>\n",
       "    </tr>\n",
       "    <tr>\n",
       "      <th>std</th>\n",
       "      <td>257.353842</td>\n",
       "      <td>0.486592</td>\n",
       "      <td>0.836071</td>\n",
       "      <td>14.526497</td>\n",
       "      <td>1.102743</td>\n",
       "      <td>0.806057</td>\n",
       "      <td>49.693429</td>\n",
       "    </tr>\n",
       "    <tr>\n",
       "      <th>min</th>\n",
       "      <td>1.000000</td>\n",
       "      <td>0.000000</td>\n",
       "      <td>1.000000</td>\n",
       "      <td>0.420000</td>\n",
       "      <td>0.000000</td>\n",
       "      <td>0.000000</td>\n",
       "      <td>0.000000</td>\n",
       "    </tr>\n",
       "    <tr>\n",
       "      <th>25%</th>\n",
       "      <td>223.500000</td>\n",
       "      <td>0.000000</td>\n",
       "      <td>2.000000</td>\n",
       "      <td>20.125000</td>\n",
       "      <td>0.000000</td>\n",
       "      <td>0.000000</td>\n",
       "      <td>7.910400</td>\n",
       "    </tr>\n",
       "    <tr>\n",
       "      <th>50%</th>\n",
       "      <td>446.000000</td>\n",
       "      <td>0.000000</td>\n",
       "      <td>3.000000</td>\n",
       "      <td>28.000000</td>\n",
       "      <td>0.000000</td>\n",
       "      <td>0.000000</td>\n",
       "      <td>14.454200</td>\n",
       "    </tr>\n",
       "    <tr>\n",
       "      <th>75%</th>\n",
       "      <td>668.500000</td>\n",
       "      <td>1.000000</td>\n",
       "      <td>3.000000</td>\n",
       "      <td>38.000000</td>\n",
       "      <td>1.000000</td>\n",
       "      <td>0.000000</td>\n",
       "      <td>31.000000</td>\n",
       "    </tr>\n",
       "    <tr>\n",
       "      <th>max</th>\n",
       "      <td>891.000000</td>\n",
       "      <td>1.000000</td>\n",
       "      <td>3.000000</td>\n",
       "      <td>80.000000</td>\n",
       "      <td>8.000000</td>\n",
       "      <td>6.000000</td>\n",
       "      <td>512.329200</td>\n",
       "    </tr>\n",
       "  </tbody>\n",
       "</table>\n",
       "</div>"
      ],
      "text/plain": [
       "               Id  Sobreviveu      Classe       Idade  Familiares  \\\n",
       "count  891.000000  891.000000  891.000000  714.000000  891.000000   \n",
       "mean   446.000000    0.383838    2.308642   29.699118    0.523008   \n",
       "std    257.353842    0.486592    0.836071   14.526497    1.102743   \n",
       "min      1.000000    0.000000    1.000000    0.420000    0.000000   \n",
       "25%    223.500000    0.000000    2.000000   20.125000    0.000000   \n",
       "50%    446.000000    0.000000    3.000000   28.000000    0.000000   \n",
       "75%    668.500000    1.000000    3.000000   38.000000    1.000000   \n",
       "max    891.000000    1.000000    3.000000   80.000000    8.000000   \n",
       "\n",
       "       Dependentes  Preço da Passagem  \n",
       "count   891.000000         891.000000  \n",
       "mean      0.381594          32.204208  \n",
       "std       0.806057          49.693429  \n",
       "min       0.000000           0.000000  \n",
       "25%       0.000000           7.910400  \n",
       "50%       0.000000          14.454200  \n",
       "75%       0.000000          31.000000  \n",
       "max       6.000000         512.329200  "
      ]
     },
     "execution_count": 7,
     "metadata": {},
     "output_type": "execute_result"
    }
   ],
   "source": [
    "# Avaliação Geral dos Dados\n",
    "df.describe()"
   ]
  },
  {
   "cell_type": "code",
   "execution_count": 8,
   "id": "sharing-attack",
   "metadata": {
    "execution": {
     "iopub.execute_input": "2021-07-08T18:30:54.171503Z",
     "iopub.status.busy": "2021-07-08T18:30:54.170695Z",
     "iopub.status.idle": "2021-07-08T18:30:54.179440Z",
     "shell.execute_reply": "2021-07-08T18:30:54.178798Z",
     "shell.execute_reply.started": "2021-07-08T18:09:49.879480Z"
    },
    "papermill": {
     "duration": 0.099255,
     "end_time": "2021-07-08T18:30:54.179575",
     "exception": false,
     "start_time": "2021-07-08T18:30:54.080320",
     "status": "completed"
    },
    "tags": []
   },
   "outputs": [
    {
     "data": {
      "text/plain": [
       "1    24.242424\n",
       "2    20.650954\n",
       "3    55.106622\n",
       "Name: Classe, dtype: float64"
      ]
     },
     "execution_count": 8,
     "metadata": {},
     "output_type": "execute_result"
    }
   ],
   "source": [
    "# Avaliar a distribuição dos passageiros pelas Classes do Navio\n",
    "df.Classe.value_counts(normalize=True).sort_index()*100"
   ]
  },
  {
   "cell_type": "code",
   "execution_count": 9,
   "id": "partial-comfort",
   "metadata": {
    "execution": {
     "iopub.execute_input": "2021-07-08T18:30:54.361506Z",
     "iopub.status.busy": "2021-07-08T18:30:54.360869Z",
     "iopub.status.idle": "2021-07-08T18:30:54.363447Z",
     "shell.execute_reply": "2021-07-08T18:30:54.363939Z",
     "shell.execute_reply.started": "2021-07-08T18:09:49.895625Z"
    },
    "papermill": {
     "duration": 0.09721,
     "end_time": "2021-07-08T18:30:54.364108",
     "exception": false,
     "start_time": "2021-07-08T18:30:54.266898",
     "status": "completed"
    },
    "tags": []
   },
   "outputs": [
    {
     "data": {
      "text/plain": [
       "male      64.758698\n",
       "female    35.241302\n",
       "Name: Sexo, dtype: float64"
      ]
     },
     "execution_count": 9,
     "metadata": {},
     "output_type": "execute_result"
    }
   ],
   "source": [
    "# Avaliar a distribuição dos passageiros por Sexo\n",
    "df.Sexo.value_counts(normalize=True)*100"
   ]
  },
  {
   "cell_type": "markdown",
   "id": "metallic-hearts",
   "metadata": {
    "papermill": {
     "duration": 0.087321,
     "end_time": "2021-07-08T18:30:54.538577",
     "exception": false,
     "start_time": "2021-07-08T18:30:54.451256",
     "status": "completed"
    },
    "tags": []
   },
   "source": [
    "**Analisando os dados iniciais, podemos perceber algumas características gerais dos passageiros do Titanic**:\n",
    "\n",
    "**1)** Haviam no navio desde bebês, com menos de um ano de vida, até idosos, sendo que o passageiro mais velho tinha 80 anos. Mas em geral os passageiros eram mais jovens, sendo a média de idade de 29,7 anos, e 75% dos passageiros tendo até 38 anos.\n",
    "\n",
    "**2)** O preço da passagem variou bastante, provavelmente em função da classe em que o passageiro viajava. O valor médio da passagem paga para viajar no Titanic foi de 32,20 dólares, mas 75% dos passageiros pagaram até 31 dólares. Os bilhetes mais caros custaram 512 dólares.\n",
    "\n",
    "**3)** A grande maioria dos passageiros viajava sem familiares (marido, esposa ou irmão) e não tinham dependentes (filhos e pais idosos).\n",
    "\n",
    "**4)** Mais da metade dos passageiros (55%) viajava na terceira classe. A segunda classe tinha menos passageiros que a primeira.\n",
    "\n",
    "**5)** Praticamente 65% dos passageiros eram homens.\n",
    "\n",
    "**6)** As mulheres sobrevivem em proporção muito maior que os homens.\n",
    "\n",
    "**7)** Existe uma correlação entre a Classe do passageiro e sua probabilidade de sobreviver."
   ]
  },
  {
   "cell_type": "code",
   "execution_count": 10,
   "id": "formed-blanket",
   "metadata": {
    "execution": {
     "iopub.execute_input": "2021-07-08T18:30:54.718352Z",
     "iopub.status.busy": "2021-07-08T18:30:54.717679Z",
     "iopub.status.idle": "2021-07-08T18:30:54.725858Z",
     "shell.execute_reply": "2021-07-08T18:30:54.726363Z",
     "shell.execute_reply.started": "2021-07-08T18:09:49.908661Z"
    },
    "papermill": {
     "duration": 0.100362,
     "end_time": "2021-07-08T18:30:54.726540",
     "exception": false,
     "start_time": "2021-07-08T18:30:54.626178",
     "status": "completed"
    },
    "tags": []
   },
   "outputs": [
    {
     "data": {
      "text/plain": [
       "Id                     0\n",
       "Sobreviveu             0\n",
       "Classe                 0\n",
       "Nome                   0\n",
       "Sexo                   0\n",
       "Idade                177\n",
       "Familiares             0\n",
       "Dependentes            0\n",
       "Ticket                 0\n",
       "Preço da Passagem      0\n",
       "Cabine               687\n",
       "Local de Embarque      2\n",
       "dtype: int64"
      ]
     },
     "execution_count": 10,
     "metadata": {},
     "output_type": "execute_result"
    }
   ],
   "source": [
    "# Avaliar a existência de valores faltantes\n",
    "df.isnull().sum()"
   ]
  },
  {
   "cell_type": "code",
   "execution_count": 11,
   "id": "molecular-magnet",
   "metadata": {
    "execution": {
     "iopub.execute_input": "2021-07-08T18:30:54.906394Z",
     "iopub.status.busy": "2021-07-08T18:30:54.905724Z",
     "iopub.status.idle": "2021-07-08T18:30:54.913639Z",
     "shell.execute_reply": "2021-07-08T18:30:54.912969Z",
     "shell.execute_reply.started": "2021-07-08T18:09:49.926953Z"
    },
    "papermill": {
     "duration": 0.098862,
     "end_time": "2021-07-08T18:30:54.913779",
     "exception": false,
     "start_time": "2021-07-08T18:30:54.814917",
     "status": "completed"
    },
    "tags": []
   },
   "outputs": [
    {
     "data": {
      "text/plain": [
       "19.865319865319865"
      ]
     },
     "execution_count": 11,
     "metadata": {},
     "output_type": "execute_result"
    }
   ],
   "source": [
    "# Proporção de passageiros sem o registro da Idade\n",
    "((df.Idade.isnull().sum())/df.shape[0])*100"
   ]
  },
  {
   "cell_type": "markdown",
   "id": "broad-chart",
   "metadata": {
    "papermill": {
     "duration": 0.088685,
     "end_time": "2021-07-08T18:30:55.090693",
     "exception": false,
     "start_time": "2021-07-08T18:30:55.002008",
     "status": "completed"
    },
    "tags": []
   },
   "source": [
    "20% dos passageiros da base estão sem a indicação da idade. Uma forma de corrigir esse dado é substituir a idade faltante pela média das idades, ou uma média para homens e uma média para mulheres. Caso a própria informação da Falta da idade seja relevante, podemos deixar isso como uma informação discreta, simplificando o ajuste do modelo."
   ]
  },
  {
   "cell_type": "code",
   "execution_count": 12,
   "id": "veterinary-topic",
   "metadata": {
    "execution": {
     "iopub.execute_input": "2021-07-08T18:30:55.274031Z",
     "iopub.status.busy": "2021-07-08T18:30:55.273112Z",
     "iopub.status.idle": "2021-07-08T18:30:56.536686Z",
     "shell.execute_reply": "2021-07-08T18:30:56.537081Z",
     "shell.execute_reply.started": "2021-07-08T18:09:49.943532Z"
    },
    "papermill": {
     "duration": 1.357813,
     "end_time": "2021-07-08T18:30:56.537238",
     "exception": false,
     "start_time": "2021-07-08T18:30:55.179425",
     "status": "completed"
    },
    "tags": []
   },
   "outputs": [
    {
     "data": {
      "text/plain": [
       "<AxesSubplot:xlabel='Idade', ylabel='Count'>"
      ]
     },
     "execution_count": 12,
     "metadata": {},
     "output_type": "execute_result"
    },
    {
     "data": {
      "image/png": "[encoded data removed]",
      "text/plain": [
       "<Figure size 432x288 with 1 Axes>"
      ]
     },
     "metadata": {
      "needs_background": "light"
     },
     "output_type": "display_data"
    }
   ],
   "source": [
    "# Avaliar a distribuição da classe Target pela Idade, a fim de validar alguma correlação\n",
    "import seaborn as sns\n",
    "sns.histplot(data=df.Sobreviveu, x=df.Idade, hue=df.Sobreviveu, bins=14)"
   ]
  },
  {
   "cell_type": "code",
   "execution_count": 13,
   "id": "statistical-floor",
   "metadata": {
    "execution": {
     "iopub.execute_input": "2021-07-08T18:30:56.663692Z",
     "iopub.status.busy": "2021-07-08T18:30:56.663064Z",
     "iopub.status.idle": "2021-07-08T18:30:56.667726Z",
     "shell.execute_reply": "2021-07-08T18:30:56.667277Z",
     "shell.execute_reply.started": "2021-07-08T18:09:50.579145Z"
    },
    "papermill": {
     "duration": 0.071804,
     "end_time": "2021-07-08T18:30:56.667872",
     "exception": false,
     "start_time": "2021-07-08T18:30:56.596068",
     "status": "completed"
    },
    "tags": []
   },
   "outputs": [],
   "source": [
    "# Criar nova coluna para as Faixas Etárias (criar também na base de teste)\n",
    "conditions = [\n",
    "    (df['Idade'] <= 6.0),\n",
    "    (df['Idade'] > 6.0),\n",
    "    (df['Idade'].isnull())]\n",
    "choices = [0, 1, 2]\n",
    "df['Faixa Etária'] = np.select(conditions, choices)"
   ]
  },
  {
   "cell_type": "code",
   "execution_count": 14,
   "id": "religious-albuquerque",
   "metadata": {
    "execution": {
     "iopub.execute_input": "2021-07-08T18:30:56.791631Z",
     "iopub.status.busy": "2021-07-08T18:30:56.790967Z",
     "iopub.status.idle": "2021-07-08T18:30:56.801185Z",
     "shell.execute_reply": "2021-07-08T18:30:56.800600Z",
     "shell.execute_reply.started": "2021-07-08T18:09:50.589815Z"
    },
    "papermill": {
     "duration": 0.074498,
     "end_time": "2021-07-08T18:30:56.801314",
     "exception": false,
     "start_time": "2021-07-08T18:30:56.726816",
     "status": "completed"
    },
    "tags": []
   },
   "outputs": [
    {
     "data": {
      "text/plain": [
       "Faixa Etária  Sobreviveu\n",
       "0             0             29.787234\n",
       "              1             70.212766\n",
       "1             0             61.469265\n",
       "              1             38.530735\n",
       "2             0             70.621469\n",
       "              1             29.378531\n",
       "Name: Sobreviveu, dtype: float64"
      ]
     },
     "execution_count": 14,
     "metadata": {},
     "output_type": "execute_result"
    }
   ],
   "source": [
    "# Avaliar a distriuição da Sobrevivência entre as Faixas Etárias criadas\n",
    "df.groupby('Faixa Etária')['Sobreviveu'].value_counts(normalize=True).sort_index()*100"
   ]
  },
  {
   "cell_type": "markdown",
   "id": "municipal-stamp",
   "metadata": {
    "papermill": {
     "duration": 0.088888,
     "end_time": "2021-07-08T18:30:56.978797",
     "exception": false,
     "start_time": "2021-07-08T18:30:56.889909",
     "status": "completed"
    },
    "tags": []
   },
   "source": [
    "É bastante diferente a distribuição da sobrevivência para passageiros que tinham o registro da idade e para os que não tinham. Além disso é perceptível que a única faixa etária com volume relevante de passageiros e que foi determinante para a sobreviência, foi a faixa etária de crianças pequenas. Dessa forma, serão criadas 3 faixas etárias para os passageiros: **0**: Crianças de 0 a 6 anos, **1**: Passageiros acima dos 6 anos e **2**: Passegeiros sem o registro da idade. Este procedimento pode ser mais adequado, uma vez que foi percebida uma correlação clara entre a Idade e a Sobrevivência, para justificar deixar a idade como variável contínua."
   ]
  },
  {
   "cell_type": "code",
   "execution_count": 15,
   "id": "republican-option",
   "metadata": {
    "execution": {
     "iopub.execute_input": "2021-07-08T18:30:57.178797Z",
     "iopub.status.busy": "2021-07-08T18:30:57.176623Z",
     "iopub.status.idle": "2021-07-08T18:30:57.371583Z",
     "shell.execute_reply": "2021-07-08T18:30:57.370903Z",
     "shell.execute_reply.started": "2021-07-08T18:09:50.608688Z"
    },
    "papermill": {
     "duration": 0.299149,
     "end_time": "2021-07-08T18:30:57.371730",
     "exception": false,
     "start_time": "2021-07-08T18:30:57.072581",
     "status": "completed"
    },
    "tags": []
   },
   "outputs": [
    {
     "data": {
      "text/plain": [
       "<AxesSubplot:xlabel='Preço da Passagem', ylabel='Count'>"
      ]
     },
     "execution_count": 15,
     "metadata": {},
     "output_type": "execute_result"
    },
    {
     "data": {
      "image/png": "[encoded data removed]",
      "text/plain": [
       "<Figure size 432x288 with 1 Axes>"
      ]
     },
     "metadata": {
      "needs_background": "light"
     },
     "output_type": "display_data"
    }
   ],
   "source": [
    "# Avaliar a distribuição da classe Target pelo Preço da Passagem, a fim de validar alguma correlação\n",
    "import seaborn as sns\n",
    "sns.histplot(data=df.Sobreviveu, x=df['Preço da Passagem'], hue=df.Sobreviveu, bins=12)"
   ]
  },
  {
   "cell_type": "code",
   "execution_count": 16,
   "id": "leading-wright",
   "metadata": {
    "execution": {
     "iopub.execute_input": "2021-07-08T18:30:57.563767Z",
     "iopub.status.busy": "2021-07-08T18:30:57.563127Z",
     "iopub.status.idle": "2021-07-08T18:30:57.565528Z",
     "shell.execute_reply": "2021-07-08T18:30:57.564993Z",
     "shell.execute_reply.started": "2021-07-08T18:09:50.855377Z"
    },
    "papermill": {
     "duration": 0.101415,
     "end_time": "2021-07-08T18:30:57.565661",
     "exception": false,
     "start_time": "2021-07-08T18:30:57.464246",
     "status": "completed"
    },
    "tags": []
   },
   "outputs": [],
   "source": [
    "# Criar nova coluna para a Renda (criar também na base de teste)\n",
    "conditions = [\n",
    "    (df['Preço da Passagem'] <= 48.0),\n",
    "    (df['Preço da Passagem'] > 48.0)]\n",
    "choices = [0, 1]\n",
    "df['Renda'] = np.select(conditions, choices)"
   ]
  },
  {
   "cell_type": "code",
   "execution_count": 17,
   "id": "dangerous-progressive",
   "metadata": {
    "execution": {
     "iopub.execute_input": "2021-07-08T18:30:57.756426Z",
     "iopub.status.busy": "2021-07-08T18:30:57.755488Z",
     "iopub.status.idle": "2021-07-08T18:30:57.766849Z",
     "shell.execute_reply": "2021-07-08T18:30:57.766152Z",
     "shell.execute_reply.started": "2021-07-08T18:09:50.864457Z"
    },
    "papermill": {
     "duration": 0.109985,
     "end_time": "2021-07-08T18:30:57.766997",
     "exception": false,
     "start_time": "2021-07-08T18:30:57.657012",
     "status": "completed"
    },
    "tags": []
   },
   "outputs": [
    {
     "data": {
      "text/plain": [
       "Renda  Sobreviveu\n",
       "0      0             68.225585\n",
       "       1             31.774415\n",
       "1      0             32.317073\n",
       "       1             67.682927\n",
       "Name: Sobreviveu, dtype: float64"
      ]
     },
     "execution_count": 17,
     "metadata": {},
     "output_type": "execute_result"
    }
   ],
   "source": [
    "# Avaliar a distriuição da Sobrevivência entre as Faixas de Renda\n",
    "df.groupby('Renda')['Sobreviveu'].value_counts(normalize=True).sort_index()*100"
   ]
  },
  {
   "cell_type": "code",
   "execution_count": 18,
   "id": "asian-olive",
   "metadata": {
    "execution": {
     "iopub.execute_input": "2021-07-08T18:30:57.958042Z",
     "iopub.status.busy": "2021-07-08T18:30:57.957352Z",
     "iopub.status.idle": "2021-07-08T18:30:57.960453Z",
     "shell.execute_reply": "2021-07-08T18:30:57.959905Z",
     "shell.execute_reply.started": "2021-07-08T18:09:50.884676Z"
    },
    "papermill": {
     "duration": 0.101117,
     "end_time": "2021-07-08T18:30:57.960589",
     "exception": false,
     "start_time": "2021-07-08T18:30:57.859472",
     "status": "completed"
    },
    "tags": []
   },
   "outputs": [
    {
     "data": {
      "text/plain": [
       "248"
      ]
     },
     "execution_count": 18,
     "metadata": {},
     "output_type": "execute_result"
    }
   ],
   "source": [
    "# Valores únicos para preço da passagem\n",
    "len(df['Preço da Passagem'].unique())"
   ]
  },
  {
   "cell_type": "markdown",
   "id": "heavy-sixth",
   "metadata": {
    "papermill": {
     "duration": 0.092848,
     "end_time": "2021-07-08T18:30:58.147606",
     "exception": false,
     "start_time": "2021-07-08T18:30:58.054758",
     "status": "completed"
    },
    "tags": []
   },
   "source": [
    "A variável Preço da Passagem apresenta alta cardinalidade e não tem uma correlação clara com a sobrevivência. Dessa forma, ao invés de usar o valores absolutos pagos pelos passageiros, faz mais sentido criar uma classe de Renda e fazer um corte onde existe a maior correlação do preço da passagem com a sobrevivência. Assim sendo, resolvi criar duas classes de renda, sendo que os passageiros que pagaram **até 48 dólares** serão de Baixa Renda (**0**) e os que pagaram **mais de 48 dólares** serão de Alta Renda (**1**). "
   ]
  },
  {
   "cell_type": "code",
   "execution_count": 19,
   "id": "baking-sleeping",
   "metadata": {
    "execution": {
     "iopub.execute_input": "2021-07-08T18:30:58.338988Z",
     "iopub.status.busy": "2021-07-08T18:30:58.338336Z",
     "iopub.status.idle": "2021-07-08T18:30:58.343028Z",
     "shell.execute_reply": "2021-07-08T18:30:58.342511Z",
     "shell.execute_reply.started": "2021-07-08T18:09:50.894682Z"
    },
    "papermill": {
     "duration": 0.102752,
     "end_time": "2021-07-08T18:30:58.343142",
     "exception": false,
     "start_time": "2021-07-08T18:30:58.240390",
     "status": "completed"
    },
    "tags": []
   },
   "outputs": [
    {
     "data": {
      "text/plain": [
       "77.10437710437711"
      ]
     },
     "execution_count": 19,
     "metadata": {},
     "output_type": "execute_result"
    }
   ],
   "source": [
    "# Proporção de passageiros que não tem indicação da Cabine\n",
    "((df.Cabine.isnull().sum())/df.shape[0])*100"
   ]
  },
  {
   "cell_type": "markdown",
   "id": "postal-dining",
   "metadata": {
    "papermill": {
     "duration": 0.061623,
     "end_time": "2021-07-08T18:30:58.464867",
     "exception": false,
     "start_time": "2021-07-08T18:30:58.403244",
     "status": "completed"
    },
    "tags": []
   },
   "source": [
    "77% dos passageiros estão sem o registro da cabine. A cabine é uma excelente variável de localização, podendo indicar a facilidade em sair ou não do navio, na hora do acidente. Precisamos avaliar a distribuição das cabines por Classe, Sexo e Sobrevivência e ver se isso indica algum padrão, para assim determinar a melhor forma de tratar essa feature."
   ]
  },
  {
   "cell_type": "code",
   "execution_count": 20,
   "id": "cleared-provincial",
   "metadata": {
    "execution": {
     "iopub.execute_input": "2021-07-08T18:30:58.602507Z",
     "iopub.status.busy": "2021-07-08T18:30:58.596249Z",
     "iopub.status.idle": "2021-07-08T18:30:58.607460Z",
     "shell.execute_reply": "2021-07-08T18:30:58.606868Z",
     "shell.execute_reply.started": "2021-07-08T18:09:50.909419Z"
    },
    "papermill": {
     "duration": 0.080394,
     "end_time": "2021-07-08T18:30:58.607622",
     "exception": false,
     "start_time": "2021-07-08T18:30:58.527228",
     "status": "completed"
    },
    "tags": []
   },
   "outputs": [
    {
     "name": "stdout",
     "output_type": "stream",
     "text": [
      "Sobrevivência de passageiros Com Cabine:\n",
      "0    33.333333\n",
      "1    66.666667\n",
      "Name: Sobreviveu, dtype: float64\n",
      "Sobrevivência de passageiros Sem Cabine:\n",
      "0    70.014556\n",
      "1    29.985444\n",
      "Name: Sobreviveu, dtype: float64\n"
     ]
    }
   ],
   "source": [
    "# Criar dataframes das pessoas Com e Sem o registro da Cabine\n",
    "null_cabin = df.loc[df['Cabine'].isna()]\n",
    "some_cabin = df.loc[df['Cabine'].notna()]\n",
    "\n",
    "# Avaliar a distribuição da Target nos passageiros Com e Sem o registro da Cabine\n",
    "print(f'Sobrevivência de passageiros Com Cabine:\\n{some_cabin.Sobreviveu.value_counts(normalize=True).sort_index()*100}')\n",
    "print(f'Sobrevivência de passageiros Sem Cabine:\\n{null_cabin.Sobreviveu.value_counts(normalize=True).sort_index()*100}')"
   ]
  },
  {
   "cell_type": "markdown",
   "id": "southwest-earthquake",
   "metadata": {
    "papermill": {
     "duration": 0.091482,
     "end_time": "2021-07-08T18:30:58.796044",
     "exception": false,
     "start_time": "2021-07-08T18:30:58.704562",
     "status": "completed"
    },
    "tags": []
   },
   "source": [
    "Parece haver uma pequena correlação entre ter o número da cabine e sobreviver. Vamos avaliar a distribuição por sexo e classe e ver se tem algum padrão, principalmente com a localização no navio, através da classe."
   ]
  },
  {
   "cell_type": "code",
   "execution_count": 21,
   "id": "secure-april",
   "metadata": {
    "execution": {
     "iopub.execute_input": "2021-07-08T18:30:58.994333Z",
     "iopub.status.busy": "2021-07-08T18:30:58.993793Z",
     "iopub.status.idle": "2021-07-08T18:30:58.999193Z",
     "shell.execute_reply": "2021-07-08T18:30:58.998295Z",
     "shell.execute_reply.started": "2021-07-08T18:09:50.931357Z"
    },
    "papermill": {
     "duration": 0.109229,
     "end_time": "2021-07-08T18:30:58.999365",
     "exception": false,
     "start_time": "2021-07-08T18:30:58.890136",
     "status": "completed"
    },
    "tags": []
   },
   "outputs": [
    {
     "name": "stdout",
     "output_type": "stream",
     "text": [
      "Classe dos passageiros Com Cabine:\n",
      "1    86.274510\n",
      "2     7.843137\n",
      "3     5.882353\n",
      "Name: Classe, dtype: float64\n",
      "Classe dos passageiros Sem Cabine:\n",
      "1     5.822416\n",
      "2    24.454148\n",
      "3    69.723435\n",
      "Name: Classe, dtype: float64\n"
     ]
    }
   ],
   "source": [
    "# Avaliar a distribuição dos passageiros Com e Sem Cabine por Classe\n",
    "print(f'Classe dos passageiros Com Cabine:\\n{some_cabin.Classe.value_counts(normalize=True).sort_index()*100}')\n",
    "print(f'Classe dos passageiros Sem Cabine:\\n{null_cabin.Classe.value_counts(normalize=True).sort_index()*100}')"
   ]
  },
  {
   "cell_type": "markdown",
   "id": "tropical-ladder",
   "metadata": {
    "papermill": {
     "duration": 0.094849,
     "end_time": "2021-07-08T18:30:59.190331",
     "exception": false,
     "start_time": "2021-07-08T18:30:59.095482",
     "status": "completed"
    },
    "tags": []
   },
   "source": [
    "Parece que a Primeira Classe era onde havia uma marcação correta das Cabines. Já a Segunda e a Terceira classes não tinham este controle. Como vimos que a Classe em que o passageiro viajava é um importante fator para determinar sua sobrevivência, o fato de ter uma cabine marcada pode ajudar a determinar a sobrevivência. Vamos avaliar a distribuição por Sexo, para determinar o padrão."
   ]
  },
  {
   "cell_type": "code",
   "execution_count": 22,
   "id": "large-walnut",
   "metadata": {
    "execution": {
     "iopub.execute_input": "2021-07-08T18:30:59.393746Z",
     "iopub.status.busy": "2021-07-08T18:30:59.392889Z",
     "iopub.status.idle": "2021-07-08T18:30:59.396853Z",
     "shell.execute_reply": "2021-07-08T18:30:59.396152Z",
     "shell.execute_reply.started": "2021-07-08T18:09:50.945902Z"
    },
    "papermill": {
     "duration": 0.109644,
     "end_time": "2021-07-08T18:30:59.396998",
     "exception": false,
     "start_time": "2021-07-08T18:30:59.287354",
     "status": "completed"
    },
    "tags": []
   },
   "outputs": [
    {
     "name": "stdout",
     "output_type": "stream",
     "text": [
      "Sexo dos passageiros Com Cabine:\n",
      "male      52.45098\n",
      "female    47.54902\n",
      "Name: Sexo, dtype: float64\n",
      "Sexo dos passageiros Sem Cabine:\n",
      "male      68.413392\n",
      "female    31.586608\n",
      "Name: Sexo, dtype: float64\n"
     ]
    }
   ],
   "source": [
    "# Avaliar a distribuição dos passageiros Com e Sem Cabine por Sexo\n",
    "print(f'Sexo dos passageiros Com Cabine:\\n{some_cabin.Sexo.value_counts(normalize=True)*100}')\n",
    "print(f'Sexo dos passageiros Sem Cabine:\\n{null_cabin.Sexo.value_counts(normalize=True)*100}')"
   ]
  },
  {
   "cell_type": "markdown",
   "id": "later-profession",
   "metadata": {
    "papermill": {
     "duration": 0.093564,
     "end_time": "2021-07-08T18:30:59.588370",
     "exception": false,
     "start_time": "2021-07-08T18:30:59.494806",
     "status": "completed"
    },
    "tags": []
   },
   "source": [
    "Sabemos que a maior parte dos passageiros do Titanic eram homens, ainda assim, no grupo de passageiros com indicação da Cabine, a distribuição é praticamente igual entre homens e mulheres. Por isso, mesmo que a correlação entre a Cabine e a Target pareça ser fraca, vale a pena determinar se o passageiro tem a indicação de cabine ou não. Vou substituir os passageiros sem Cabine por 0 e todos o que tem a marcação terão valor 1."
   ]
  },
  {
   "cell_type": "code",
   "execution_count": 23,
   "id": "postal-honduras",
   "metadata": {
    "execution": {
     "iopub.execute_input": "2021-07-08T18:30:59.785441Z",
     "iopub.status.busy": "2021-07-08T18:30:59.784729Z",
     "iopub.status.idle": "2021-07-08T18:30:59.795773Z",
     "shell.execute_reply": "2021-07-08T18:30:59.795262Z",
     "shell.execute_reply.started": "2021-07-08T18:09:50.965371Z"
    },
    "papermill": {
     "duration": 0.112517,
     "end_time": "2021-07-08T18:30:59.795905",
     "exception": false,
     "start_time": "2021-07-08T18:30:59.683388",
     "status": "completed"
    },
    "tags": []
   },
   "outputs": [
    {
     "data": {
      "text/html": [
       "<div>\n",
       "<style scoped>\n",
       "    .dataframe tbody tr th:only-of-type {\n",
       "        vertical-align: middle;\n",
       "    }\n",
       "\n",
       "    .dataframe tbody tr th {\n",
       "        vertical-align: top;\n",
       "    }\n",
       "\n",
       "    .dataframe thead th {\n",
       "        text-align: right;\n",
       "    }\n",
       "</style>\n",
       "<table border=\"1\" class=\"dataframe\">\n",
       "  <thead>\n",
       "    <tr style=\"text-align: right;\">\n",
       "      <th></th>\n",
       "      <th>Id</th>\n",
       "      <th>Sobreviveu</th>\n",
       "      <th>Classe</th>\n",
       "      <th>Nome</th>\n",
       "      <th>Sexo</th>\n",
       "      <th>Idade</th>\n",
       "      <th>Familiares</th>\n",
       "      <th>Dependentes</th>\n",
       "      <th>Ticket</th>\n",
       "      <th>Preço da Passagem</th>\n",
       "      <th>Cabine</th>\n",
       "      <th>Local de Embarque</th>\n",
       "      <th>Faixa Etária</th>\n",
       "      <th>Renda</th>\n",
       "    </tr>\n",
       "  </thead>\n",
       "  <tbody>\n",
       "    <tr>\n",
       "      <th>61</th>\n",
       "      <td>62</td>\n",
       "      <td>1</td>\n",
       "      <td>1</td>\n",
       "      <td>Icard, Miss. Amelie</td>\n",
       "      <td>female</td>\n",
       "      <td>38.0</td>\n",
       "      <td>0</td>\n",
       "      <td>0</td>\n",
       "      <td>113572</td>\n",
       "      <td>80.0</td>\n",
       "      <td>B28</td>\n",
       "      <td>NaN</td>\n",
       "      <td>1</td>\n",
       "      <td>1</td>\n",
       "    </tr>\n",
       "    <tr>\n",
       "      <th>829</th>\n",
       "      <td>830</td>\n",
       "      <td>1</td>\n",
       "      <td>1</td>\n",
       "      <td>Stone, Mrs. George Nelson (Martha Evelyn)</td>\n",
       "      <td>female</td>\n",
       "      <td>62.0</td>\n",
       "      <td>0</td>\n",
       "      <td>0</td>\n",
       "      <td>113572</td>\n",
       "      <td>80.0</td>\n",
       "      <td>B28</td>\n",
       "      <td>NaN</td>\n",
       "      <td>1</td>\n",
       "      <td>1</td>\n",
       "    </tr>\n",
       "  </tbody>\n",
       "</table>\n",
       "</div>"
      ],
      "text/plain": [
       "      Id  Sobreviveu  Classe                                       Nome  \\\n",
       "61    62           1       1                        Icard, Miss. Amelie   \n",
       "829  830           1       1  Stone, Mrs. George Nelson (Martha Evelyn)   \n",
       "\n",
       "       Sexo  Idade  Familiares  Dependentes  Ticket  Preço da Passagem Cabine  \\\n",
       "61   female   38.0           0            0  113572               80.0    B28   \n",
       "829  female   62.0           0            0  113572               80.0    B28   \n",
       "\n",
       "    Local de Embarque  Faixa Etária  Renda  \n",
       "61                NaN             1      1  \n",
       "829               NaN             1      1  "
      ]
     },
     "execution_count": 23,
     "metadata": {},
     "output_type": "execute_result"
    }
   ],
   "source": [
    "# Avaliar passageiros com Local de Embarque faltante\n",
    "df.loc[df['Local de Embarque'].isna()]"
   ]
  },
  {
   "cell_type": "markdown",
   "id": "hollow-classroom",
   "metadata": {
    "papermill": {
     "duration": 0.061298,
     "end_time": "2021-07-08T18:30:59.918250",
     "exception": false,
     "start_time": "2021-07-08T18:30:59.856952",
     "status": "completed"
    },
    "tags": []
   },
   "source": [
    "Estranho, as duas passageiras que não tem o local de embarque definido parecem ter o mesmo Ticket. Precisamos avaliar se existem muito tickets iguais e qual a utilizadade dessa informação."
   ]
  },
  {
   "cell_type": "code",
   "execution_count": 24,
   "id": "exciting-empire",
   "metadata": {
    "execution": {
     "iopub.execute_input": "2021-07-08T18:31:00.049144Z",
     "iopub.status.busy": "2021-07-08T18:31:00.048607Z",
     "iopub.status.idle": "2021-07-08T18:31:00.052993Z",
     "shell.execute_reply": "2021-07-08T18:31:00.052502Z",
     "shell.execute_reply.started": "2021-07-08T18:09:50.993146Z"
    },
    "papermill": {
     "duration": 0.072177,
     "end_time": "2021-07-08T18:31:00.053093",
     "exception": false,
     "start_time": "2021-07-08T18:30:59.980916",
     "status": "completed"
    },
    "tags": []
   },
   "outputs": [
    {
     "data": {
      "text/plain": [
       "681"
      ]
     },
     "execution_count": 24,
     "metadata": {},
     "output_type": "execute_result"
    }
   ],
   "source": [
    "# Avaliar o número de Tickets únicos \n",
    "len(df.Ticket.unique())"
   ]
  },
  {
   "cell_type": "markdown",
   "id": "personalized-accused",
   "metadata": {
    "papermill": {
     "duration": 0.063118,
     "end_time": "2021-07-08T18:31:00.179888",
     "exception": false,
     "start_time": "2021-07-08T18:31:00.116770",
     "status": "completed"
    },
    "tags": []
   },
   "source": [
    "No navio estão presentes 891 passageiros, e apenas 681 Tickets diferentes existem. Dessa forma, tem várias pessoas com o mesmo Ticket. Vamos avaliar os passageiros que tem o mesmo Ticket, e ver o que é possível extrair disso."
   ]
  },
  {
   "cell_type": "code",
   "execution_count": 25,
   "id": "optical-particle",
   "metadata": {
    "execution": {
     "iopub.execute_input": "2021-07-08T18:31:00.314010Z",
     "iopub.status.busy": "2021-07-08T18:31:00.311371Z",
     "iopub.status.idle": "2021-07-08T18:31:00.317157Z",
     "shell.execute_reply": "2021-07-08T18:31:00.317690Z",
     "shell.execute_reply.started": "2021-07-08T18:09:51.005697Z"
    },
    "papermill": {
     "duration": 0.074651,
     "end_time": "2021-07-08T18:31:00.317897",
     "exception": false,
     "start_time": "2021-07-08T18:31:00.243246",
     "status": "completed"
    },
    "tags": []
   },
   "outputs": [
    {
     "data": {
      "text/plain": [
       "CA. 2343    7\n",
       "1601        7\n",
       "347082      7\n",
       "CA 2144     6\n",
       "347088      6\n",
       "3101295     6\n",
       "Name: Ticket, dtype: int64"
      ]
     },
     "execution_count": 25,
     "metadata": {},
     "output_type": "execute_result"
    }
   ],
   "source": [
    "# Ver os Tickets que aparecem mais vezes na base\n",
    "df.Ticket.value_counts().head(6)"
   ]
  },
  {
   "cell_type": "code",
   "execution_count": 26,
   "id": "imported-minute",
   "metadata": {
    "execution": {
     "iopub.execute_input": "2021-07-08T18:31:00.526110Z",
     "iopub.status.busy": "2021-07-08T18:31:00.518220Z",
     "iopub.status.idle": "2021-07-08T18:31:00.531050Z",
     "shell.execute_reply": "2021-07-08T18:31:00.530575Z",
     "shell.execute_reply.started": "2021-07-08T18:09:51.027110Z"
    },
    "papermill": {
     "duration": 0.117201,
     "end_time": "2021-07-08T18:31:00.531178",
     "exception": false,
     "start_time": "2021-07-08T18:31:00.413977",
     "status": "completed"
    },
    "tags": []
   },
   "outputs": [
    {
     "data": {
      "text/html": [
       "<div>\n",
       "<style scoped>\n",
       "    .dataframe tbody tr th:only-of-type {\n",
       "        vertical-align: middle;\n",
       "    }\n",
       "\n",
       "    .dataframe tbody tr th {\n",
       "        vertical-align: top;\n",
       "    }\n",
       "\n",
       "    .dataframe thead th {\n",
       "        text-align: right;\n",
       "    }\n",
       "</style>\n",
       "<table border=\"1\" class=\"dataframe\">\n",
       "  <thead>\n",
       "    <tr style=\"text-align: right;\">\n",
       "      <th></th>\n",
       "      <th>Id</th>\n",
       "      <th>Sobreviveu</th>\n",
       "      <th>Classe</th>\n",
       "      <th>Nome</th>\n",
       "      <th>Sexo</th>\n",
       "      <th>Idade</th>\n",
       "      <th>Familiares</th>\n",
       "      <th>Dependentes</th>\n",
       "      <th>Ticket</th>\n",
       "      <th>Preço da Passagem</th>\n",
       "      <th>Cabine</th>\n",
       "      <th>Local de Embarque</th>\n",
       "      <th>Faixa Etária</th>\n",
       "      <th>Renda</th>\n",
       "    </tr>\n",
       "  </thead>\n",
       "  <tbody>\n",
       "    <tr>\n",
       "      <th>74</th>\n",
       "      <td>75</td>\n",
       "      <td>1</td>\n",
       "      <td>3</td>\n",
       "      <td>Bing, Mr. Lee</td>\n",
       "      <td>male</td>\n",
       "      <td>32.0</td>\n",
       "      <td>0</td>\n",
       "      <td>0</td>\n",
       "      <td>1601</td>\n",
       "      <td>56.4958</td>\n",
       "      <td>NaN</td>\n",
       "      <td>S</td>\n",
       "      <td>1</td>\n",
       "      <td>1</td>\n",
       "    </tr>\n",
       "    <tr>\n",
       "      <th>169</th>\n",
       "      <td>170</td>\n",
       "      <td>0</td>\n",
       "      <td>3</td>\n",
       "      <td>Ling, Mr. Lee</td>\n",
       "      <td>male</td>\n",
       "      <td>28.0</td>\n",
       "      <td>0</td>\n",
       "      <td>0</td>\n",
       "      <td>1601</td>\n",
       "      <td>56.4958</td>\n",
       "      <td>NaN</td>\n",
       "      <td>S</td>\n",
       "      <td>1</td>\n",
       "      <td>1</td>\n",
       "    </tr>\n",
       "    <tr>\n",
       "      <th>509</th>\n",
       "      <td>510</td>\n",
       "      <td>1</td>\n",
       "      <td>3</td>\n",
       "      <td>Lang, Mr. Fang</td>\n",
       "      <td>male</td>\n",
       "      <td>26.0</td>\n",
       "      <td>0</td>\n",
       "      <td>0</td>\n",
       "      <td>1601</td>\n",
       "      <td>56.4958</td>\n",
       "      <td>NaN</td>\n",
       "      <td>S</td>\n",
       "      <td>1</td>\n",
       "      <td>1</td>\n",
       "    </tr>\n",
       "    <tr>\n",
       "      <th>643</th>\n",
       "      <td>644</td>\n",
       "      <td>1</td>\n",
       "      <td>3</td>\n",
       "      <td>Foo, Mr. Choong</td>\n",
       "      <td>male</td>\n",
       "      <td>NaN</td>\n",
       "      <td>0</td>\n",
       "      <td>0</td>\n",
       "      <td>1601</td>\n",
       "      <td>56.4958</td>\n",
       "      <td>NaN</td>\n",
       "      <td>S</td>\n",
       "      <td>2</td>\n",
       "      <td>1</td>\n",
       "    </tr>\n",
       "    <tr>\n",
       "      <th>692</th>\n",
       "      <td>693</td>\n",
       "      <td>1</td>\n",
       "      <td>3</td>\n",
       "      <td>Lam, Mr. Ali</td>\n",
       "      <td>male</td>\n",
       "      <td>NaN</td>\n",
       "      <td>0</td>\n",
       "      <td>0</td>\n",
       "      <td>1601</td>\n",
       "      <td>56.4958</td>\n",
       "      <td>NaN</td>\n",
       "      <td>S</td>\n",
       "      <td>2</td>\n",
       "      <td>1</td>\n",
       "    </tr>\n",
       "    <tr>\n",
       "      <th>826</th>\n",
       "      <td>827</td>\n",
       "      <td>0</td>\n",
       "      <td>3</td>\n",
       "      <td>Lam, Mr. Len</td>\n",
       "      <td>male</td>\n",
       "      <td>NaN</td>\n",
       "      <td>0</td>\n",
       "      <td>0</td>\n",
       "      <td>1601</td>\n",
       "      <td>56.4958</td>\n",
       "      <td>NaN</td>\n",
       "      <td>S</td>\n",
       "      <td>2</td>\n",
       "      <td>1</td>\n",
       "    </tr>\n",
       "    <tr>\n",
       "      <th>838</th>\n",
       "      <td>839</td>\n",
       "      <td>1</td>\n",
       "      <td>3</td>\n",
       "      <td>Chip, Mr. Chang</td>\n",
       "      <td>male</td>\n",
       "      <td>32.0</td>\n",
       "      <td>0</td>\n",
       "      <td>0</td>\n",
       "      <td>1601</td>\n",
       "      <td>56.4958</td>\n",
       "      <td>NaN</td>\n",
       "      <td>S</td>\n",
       "      <td>1</td>\n",
       "      <td>1</td>\n",
       "    </tr>\n",
       "  </tbody>\n",
       "</table>\n",
       "</div>"
      ],
      "text/plain": [
       "      Id  Sobreviveu  Classe             Nome  Sexo  Idade  Familiares  \\\n",
       "74    75           1       3    Bing, Mr. Lee  male   32.0           0   \n",
       "169  170           0       3    Ling, Mr. Lee  male   28.0           0   \n",
       "509  510           1       3   Lang, Mr. Fang  male   26.0           0   \n",
       "643  644           1       3  Foo, Mr. Choong  male    NaN           0   \n",
       "692  693           1       3     Lam, Mr. Ali  male    NaN           0   \n",
       "826  827           0       3     Lam, Mr. Len  male    NaN           0   \n",
       "838  839           1       3  Chip, Mr. Chang  male   32.0           0   \n",
       "\n",
       "     Dependentes Ticket  Preço da Passagem Cabine Local de Embarque  \\\n",
       "74             0   1601            56.4958    NaN                 S   \n",
       "169            0   1601            56.4958    NaN                 S   \n",
       "509            0   1601            56.4958    NaN                 S   \n",
       "643            0   1601            56.4958    NaN                 S   \n",
       "692            0   1601            56.4958    NaN                 S   \n",
       "826            0   1601            56.4958    NaN                 S   \n",
       "838            0   1601            56.4958    NaN                 S   \n",
       "\n",
       "     Faixa Etária  Renda  \n",
       "74              1      1  \n",
       "169             1      1  \n",
       "509             1      1  \n",
       "643             2      1  \n",
       "692             2      1  \n",
       "826             2      1  \n",
       "838             1      1  "
      ]
     },
     "execution_count": 26,
     "metadata": {},
     "output_type": "execute_result"
    }
   ],
   "source": [
    "# Avaliar os passageiros com o Ticket 1601\n",
    "df.loc[df['Ticket']=='1601']"
   ]
  },
  {
   "cell_type": "code",
   "execution_count": 27,
   "id": "boxed-singapore",
   "metadata": {
    "execution": {
     "iopub.execute_input": "2021-07-08T18:31:00.678815Z",
     "iopub.status.busy": "2021-07-08T18:31:00.677713Z",
     "iopub.status.idle": "2021-07-08T18:31:00.682912Z",
     "shell.execute_reply": "2021-07-08T18:31:00.682490Z",
     "shell.execute_reply.started": "2021-07-08T18:09:51.058735Z"
    },
    "papermill": {
     "duration": 0.088707,
     "end_time": "2021-07-08T18:31:00.683022",
     "exception": false,
     "start_time": "2021-07-08T18:31:00.594315",
     "status": "completed"
    },
    "tags": []
   },
   "outputs": [
    {
     "data": {
      "text/html": [
       "<div>\n",
       "<style scoped>\n",
       "    .dataframe tbody tr th:only-of-type {\n",
       "        vertical-align: middle;\n",
       "    }\n",
       "\n",
       "    .dataframe tbody tr th {\n",
       "        vertical-align: top;\n",
       "    }\n",
       "\n",
       "    .dataframe thead th {\n",
       "        text-align: right;\n",
       "    }\n",
       "</style>\n",
       "<table border=\"1\" class=\"dataframe\">\n",
       "  <thead>\n",
       "    <tr style=\"text-align: right;\">\n",
       "      <th></th>\n",
       "      <th>Id</th>\n",
       "      <th>Sobreviveu</th>\n",
       "      <th>Classe</th>\n",
       "      <th>Nome</th>\n",
       "      <th>Sexo</th>\n",
       "      <th>Idade</th>\n",
       "      <th>Familiares</th>\n",
       "      <th>Dependentes</th>\n",
       "      <th>Ticket</th>\n",
       "      <th>Preço da Passagem</th>\n",
       "      <th>Cabine</th>\n",
       "      <th>Local de Embarque</th>\n",
       "      <th>Faixa Etária</th>\n",
       "      <th>Renda</th>\n",
       "    </tr>\n",
       "  </thead>\n",
       "  <tbody>\n",
       "    <tr>\n",
       "      <th>13</th>\n",
       "      <td>14</td>\n",
       "      <td>0</td>\n",
       "      <td>3</td>\n",
       "      <td>Andersson, Mr. Anders Johan</td>\n",
       "      <td>male</td>\n",
       "      <td>39.0</td>\n",
       "      <td>1</td>\n",
       "      <td>5</td>\n",
       "      <td>347082</td>\n",
       "      <td>31.275</td>\n",
       "      <td>NaN</td>\n",
       "      <td>S</td>\n",
       "      <td>1</td>\n",
       "      <td>0</td>\n",
       "    </tr>\n",
       "    <tr>\n",
       "      <th>119</th>\n",
       "      <td>120</td>\n",
       "      <td>0</td>\n",
       "      <td>3</td>\n",
       "      <td>Andersson, Miss. Ellis Anna Maria</td>\n",
       "      <td>female</td>\n",
       "      <td>2.0</td>\n",
       "      <td>4</td>\n",
       "      <td>2</td>\n",
       "      <td>347082</td>\n",
       "      <td>31.275</td>\n",
       "      <td>NaN</td>\n",
       "      <td>S</td>\n",
       "      <td>0</td>\n",
       "      <td>0</td>\n",
       "    </tr>\n",
       "    <tr>\n",
       "      <th>541</th>\n",
       "      <td>542</td>\n",
       "      <td>0</td>\n",
       "      <td>3</td>\n",
       "      <td>Andersson, Miss. Ingeborg Constanzia</td>\n",
       "      <td>female</td>\n",
       "      <td>9.0</td>\n",
       "      <td>4</td>\n",
       "      <td>2</td>\n",
       "      <td>347082</td>\n",
       "      <td>31.275</td>\n",
       "      <td>NaN</td>\n",
       "      <td>S</td>\n",
       "      <td>1</td>\n",
       "      <td>0</td>\n",
       "    </tr>\n",
       "    <tr>\n",
       "      <th>542</th>\n",
       "      <td>543</td>\n",
       "      <td>0</td>\n",
       "      <td>3</td>\n",
       "      <td>Andersson, Miss. Sigrid Elisabeth</td>\n",
       "      <td>female</td>\n",
       "      <td>11.0</td>\n",
       "      <td>4</td>\n",
       "      <td>2</td>\n",
       "      <td>347082</td>\n",
       "      <td>31.275</td>\n",
       "      <td>NaN</td>\n",
       "      <td>S</td>\n",
       "      <td>1</td>\n",
       "      <td>0</td>\n",
       "    </tr>\n",
       "    <tr>\n",
       "      <th>610</th>\n",
       "      <td>611</td>\n",
       "      <td>0</td>\n",
       "      <td>3</td>\n",
       "      <td>Andersson, Mrs. Anders Johan (Alfrida Konstant...</td>\n",
       "      <td>female</td>\n",
       "      <td>39.0</td>\n",
       "      <td>1</td>\n",
       "      <td>5</td>\n",
       "      <td>347082</td>\n",
       "      <td>31.275</td>\n",
       "      <td>NaN</td>\n",
       "      <td>S</td>\n",
       "      <td>1</td>\n",
       "      <td>0</td>\n",
       "    </tr>\n",
       "    <tr>\n",
       "      <th>813</th>\n",
       "      <td>814</td>\n",
       "      <td>0</td>\n",
       "      <td>3</td>\n",
       "      <td>Andersson, Miss. Ebba Iris Alfrida</td>\n",
       "      <td>female</td>\n",
       "      <td>6.0</td>\n",
       "      <td>4</td>\n",
       "      <td>2</td>\n",
       "      <td>347082</td>\n",
       "      <td>31.275</td>\n",
       "      <td>NaN</td>\n",
       "      <td>S</td>\n",
       "      <td>0</td>\n",
       "      <td>0</td>\n",
       "    </tr>\n",
       "    <tr>\n",
       "      <th>850</th>\n",
       "      <td>851</td>\n",
       "      <td>0</td>\n",
       "      <td>3</td>\n",
       "      <td>Andersson, Master. Sigvard Harald Elias</td>\n",
       "      <td>male</td>\n",
       "      <td>4.0</td>\n",
       "      <td>4</td>\n",
       "      <td>2</td>\n",
       "      <td>347082</td>\n",
       "      <td>31.275</td>\n",
       "      <td>NaN</td>\n",
       "      <td>S</td>\n",
       "      <td>0</td>\n",
       "      <td>0</td>\n",
       "    </tr>\n",
       "  </tbody>\n",
       "</table>\n",
       "</div>"
      ],
      "text/plain": [
       "      Id  Sobreviveu  Classe  \\\n",
       "13    14           0       3   \n",
       "119  120           0       3   \n",
       "541  542           0       3   \n",
       "542  543           0       3   \n",
       "610  611           0       3   \n",
       "813  814           0       3   \n",
       "850  851           0       3   \n",
       "\n",
       "                                                  Nome    Sexo  Idade  \\\n",
       "13                         Andersson, Mr. Anders Johan    male   39.0   \n",
       "119                  Andersson, Miss. Ellis Anna Maria  female    2.0   \n",
       "541               Andersson, Miss. Ingeborg Constanzia  female    9.0   \n",
       "542                  Andersson, Miss. Sigrid Elisabeth  female   11.0   \n",
       "610  Andersson, Mrs. Anders Johan (Alfrida Konstant...  female   39.0   \n",
       "813                 Andersson, Miss. Ebba Iris Alfrida  female    6.0   \n",
       "850            Andersson, Master. Sigvard Harald Elias    male    4.0   \n",
       "\n",
       "     Familiares  Dependentes  Ticket  Preço da Passagem Cabine  \\\n",
       "13            1            5  347082             31.275    NaN   \n",
       "119           4            2  347082             31.275    NaN   \n",
       "541           4            2  347082             31.275    NaN   \n",
       "542           4            2  347082             31.275    NaN   \n",
       "610           1            5  347082             31.275    NaN   \n",
       "813           4            2  347082             31.275    NaN   \n",
       "850           4            2  347082             31.275    NaN   \n",
       "\n",
       "    Local de Embarque  Faixa Etária  Renda  \n",
       "13                  S             1      0  \n",
       "119                 S             0      0  \n",
       "541                 S             1      0  \n",
       "542                 S             1      0  \n",
       "610                 S             1      0  \n",
       "813                 S             0      0  \n",
       "850                 S             0      0  "
      ]
     },
     "execution_count": 27,
     "metadata": {},
     "output_type": "execute_result"
    }
   ],
   "source": [
    "# Avaliar os passageiros com o Ticket 347082\n",
    "df.loc[df['Ticket']=='347082']"
   ]
  },
  {
   "cell_type": "code",
   "execution_count": 28,
   "id": "according-lawyer",
   "metadata": {
    "execution": {
     "iopub.execute_input": "2021-07-08T18:31:00.831533Z",
     "iopub.status.busy": "2021-07-08T18:31:00.830876Z",
     "iopub.status.idle": "2021-07-08T18:31:00.834510Z",
     "shell.execute_reply": "2021-07-08T18:31:00.833986Z",
     "shell.execute_reply.started": "2021-07-08T18:09:51.089579Z"
    },
    "papermill": {
     "duration": 0.087253,
     "end_time": "2021-07-08T18:31:00.834644",
     "exception": false,
     "start_time": "2021-07-08T18:31:00.747391",
     "status": "completed"
    },
    "tags": []
   },
   "outputs": [
    {
     "data": {
      "text/html": [
       "<div>\n",
       "<style scoped>\n",
       "    .dataframe tbody tr th:only-of-type {\n",
       "        vertical-align: middle;\n",
       "    }\n",
       "\n",
       "    .dataframe tbody tr th {\n",
       "        vertical-align: top;\n",
       "    }\n",
       "\n",
       "    .dataframe thead th {\n",
       "        text-align: right;\n",
       "    }\n",
       "</style>\n",
       "<table border=\"1\" class=\"dataframe\">\n",
       "  <thead>\n",
       "    <tr style=\"text-align: right;\">\n",
       "      <th></th>\n",
       "      <th>Id</th>\n",
       "      <th>Sobreviveu</th>\n",
       "      <th>Classe</th>\n",
       "      <th>Nome</th>\n",
       "      <th>Sexo</th>\n",
       "      <th>Idade</th>\n",
       "      <th>Familiares</th>\n",
       "      <th>Dependentes</th>\n",
       "      <th>Ticket</th>\n",
       "      <th>Preço da Passagem</th>\n",
       "      <th>Cabine</th>\n",
       "      <th>Local de Embarque</th>\n",
       "      <th>Faixa Etária</th>\n",
       "      <th>Renda</th>\n",
       "    </tr>\n",
       "  </thead>\n",
       "  <tbody>\n",
       "    <tr>\n",
       "      <th>159</th>\n",
       "      <td>160</td>\n",
       "      <td>0</td>\n",
       "      <td>3</td>\n",
       "      <td>Sage, Master. Thomas Henry</td>\n",
       "      <td>male</td>\n",
       "      <td>NaN</td>\n",
       "      <td>8</td>\n",
       "      <td>2</td>\n",
       "      <td>CA. 2343</td>\n",
       "      <td>69.55</td>\n",
       "      <td>NaN</td>\n",
       "      <td>S</td>\n",
       "      <td>2</td>\n",
       "      <td>1</td>\n",
       "    </tr>\n",
       "    <tr>\n",
       "      <th>180</th>\n",
       "      <td>181</td>\n",
       "      <td>0</td>\n",
       "      <td>3</td>\n",
       "      <td>Sage, Miss. Constance Gladys</td>\n",
       "      <td>female</td>\n",
       "      <td>NaN</td>\n",
       "      <td>8</td>\n",
       "      <td>2</td>\n",
       "      <td>CA. 2343</td>\n",
       "      <td>69.55</td>\n",
       "      <td>NaN</td>\n",
       "      <td>S</td>\n",
       "      <td>2</td>\n",
       "      <td>1</td>\n",
       "    </tr>\n",
       "    <tr>\n",
       "      <th>201</th>\n",
       "      <td>202</td>\n",
       "      <td>0</td>\n",
       "      <td>3</td>\n",
       "      <td>Sage, Mr. Frederick</td>\n",
       "      <td>male</td>\n",
       "      <td>NaN</td>\n",
       "      <td>8</td>\n",
       "      <td>2</td>\n",
       "      <td>CA. 2343</td>\n",
       "      <td>69.55</td>\n",
       "      <td>NaN</td>\n",
       "      <td>S</td>\n",
       "      <td>2</td>\n",
       "      <td>1</td>\n",
       "    </tr>\n",
       "    <tr>\n",
       "      <th>324</th>\n",
       "      <td>325</td>\n",
       "      <td>0</td>\n",
       "      <td>3</td>\n",
       "      <td>Sage, Mr. George John Jr</td>\n",
       "      <td>male</td>\n",
       "      <td>NaN</td>\n",
       "      <td>8</td>\n",
       "      <td>2</td>\n",
       "      <td>CA. 2343</td>\n",
       "      <td>69.55</td>\n",
       "      <td>NaN</td>\n",
       "      <td>S</td>\n",
       "      <td>2</td>\n",
       "      <td>1</td>\n",
       "    </tr>\n",
       "    <tr>\n",
       "      <th>792</th>\n",
       "      <td>793</td>\n",
       "      <td>0</td>\n",
       "      <td>3</td>\n",
       "      <td>Sage, Miss. Stella Anna</td>\n",
       "      <td>female</td>\n",
       "      <td>NaN</td>\n",
       "      <td>8</td>\n",
       "      <td>2</td>\n",
       "      <td>CA. 2343</td>\n",
       "      <td>69.55</td>\n",
       "      <td>NaN</td>\n",
       "      <td>S</td>\n",
       "      <td>2</td>\n",
       "      <td>1</td>\n",
       "    </tr>\n",
       "    <tr>\n",
       "      <th>846</th>\n",
       "      <td>847</td>\n",
       "      <td>0</td>\n",
       "      <td>3</td>\n",
       "      <td>Sage, Mr. Douglas Bullen</td>\n",
       "      <td>male</td>\n",
       "      <td>NaN</td>\n",
       "      <td>8</td>\n",
       "      <td>2</td>\n",
       "      <td>CA. 2343</td>\n",
       "      <td>69.55</td>\n",
       "      <td>NaN</td>\n",
       "      <td>S</td>\n",
       "      <td>2</td>\n",
       "      <td>1</td>\n",
       "    </tr>\n",
       "    <tr>\n",
       "      <th>863</th>\n",
       "      <td>864</td>\n",
       "      <td>0</td>\n",
       "      <td>3</td>\n",
       "      <td>Sage, Miss. Dorothy Edith \"Dolly\"</td>\n",
       "      <td>female</td>\n",
       "      <td>NaN</td>\n",
       "      <td>8</td>\n",
       "      <td>2</td>\n",
       "      <td>CA. 2343</td>\n",
       "      <td>69.55</td>\n",
       "      <td>NaN</td>\n",
       "      <td>S</td>\n",
       "      <td>2</td>\n",
       "      <td>1</td>\n",
       "    </tr>\n",
       "  </tbody>\n",
       "</table>\n",
       "</div>"
      ],
      "text/plain": [
       "      Id  Sobreviveu  Classe                               Nome    Sexo  \\\n",
       "159  160           0       3         Sage, Master. Thomas Henry    male   \n",
       "180  181           0       3       Sage, Miss. Constance Gladys  female   \n",
       "201  202           0       3                Sage, Mr. Frederick    male   \n",
       "324  325           0       3           Sage, Mr. George John Jr    male   \n",
       "792  793           0       3            Sage, Miss. Stella Anna  female   \n",
       "846  847           0       3           Sage, Mr. Douglas Bullen    male   \n",
       "863  864           0       3  Sage, Miss. Dorothy Edith \"Dolly\"  female   \n",
       "\n",
       "     Idade  Familiares  Dependentes    Ticket  Preço da Passagem Cabine  \\\n",
       "159    NaN           8            2  CA. 2343              69.55    NaN   \n",
       "180    NaN           8            2  CA. 2343              69.55    NaN   \n",
       "201    NaN           8            2  CA. 2343              69.55    NaN   \n",
       "324    NaN           8            2  CA. 2343              69.55    NaN   \n",
       "792    NaN           8            2  CA. 2343              69.55    NaN   \n",
       "846    NaN           8            2  CA. 2343              69.55    NaN   \n",
       "863    NaN           8            2  CA. 2343              69.55    NaN   \n",
       "\n",
       "    Local de Embarque  Faixa Etária  Renda  \n",
       "159                 S             2      1  \n",
       "180                 S             2      1  \n",
       "201                 S             2      1  \n",
       "324                 S             2      1  \n",
       "792                 S             2      1  \n",
       "846                 S             2      1  \n",
       "863                 S             2      1  "
      ]
     },
     "execution_count": 28,
     "metadata": {},
     "output_type": "execute_result"
    }
   ],
   "source": [
    "# Avaliar os passageiros com o Ticket CA. 2343\n",
    "df.loc[df['Ticket']=='CA. 2343']"
   ]
  },
  {
   "cell_type": "code",
   "execution_count": 29,
   "id": "nervous-composite",
   "metadata": {
    "execution": {
     "iopub.execute_input": "2021-07-08T18:31:01.051003Z",
     "iopub.status.busy": "2021-07-08T18:31:01.043054Z",
     "iopub.status.idle": "2021-07-08T18:31:01.055525Z",
     "shell.execute_reply": "2021-07-08T18:31:01.054981Z",
     "shell.execute_reply.started": "2021-07-08T18:09:51.116999Z"
    },
    "papermill": {
     "duration": 0.124444,
     "end_time": "2021-07-08T18:31:01.055663",
     "exception": false,
     "start_time": "2021-07-08T18:31:00.931219",
     "status": "completed"
    },
    "tags": []
   },
   "outputs": [
    {
     "data": {
      "text/html": [
       "<div>\n",
       "<style scoped>\n",
       "    .dataframe tbody tr th:only-of-type {\n",
       "        vertical-align: middle;\n",
       "    }\n",
       "\n",
       "    .dataframe tbody tr th {\n",
       "        vertical-align: top;\n",
       "    }\n",
       "\n",
       "    .dataframe thead th {\n",
       "        text-align: right;\n",
       "    }\n",
       "</style>\n",
       "<table border=\"1\" class=\"dataframe\">\n",
       "  <thead>\n",
       "    <tr style=\"text-align: right;\">\n",
       "      <th></th>\n",
       "      <th>Id</th>\n",
       "      <th>Sobreviveu</th>\n",
       "      <th>Classe</th>\n",
       "      <th>Nome</th>\n",
       "      <th>Sexo</th>\n",
       "      <th>Idade</th>\n",
       "      <th>Familiares</th>\n",
       "      <th>Dependentes</th>\n",
       "      <th>Ticket</th>\n",
       "      <th>Preço da Passagem</th>\n",
       "      <th>Cabine</th>\n",
       "      <th>Local de Embarque</th>\n",
       "      <th>Faixa Etária</th>\n",
       "      <th>Renda</th>\n",
       "    </tr>\n",
       "  </thead>\n",
       "  <tbody>\n",
       "    <tr>\n",
       "      <th>59</th>\n",
       "      <td>60</td>\n",
       "      <td>0</td>\n",
       "      <td>3</td>\n",
       "      <td>Goodwin, Master. William Frederick</td>\n",
       "      <td>male</td>\n",
       "      <td>11.0</td>\n",
       "      <td>5</td>\n",
       "      <td>2</td>\n",
       "      <td>CA 2144</td>\n",
       "      <td>46.9</td>\n",
       "      <td>NaN</td>\n",
       "      <td>S</td>\n",
       "      <td>1</td>\n",
       "      <td>0</td>\n",
       "    </tr>\n",
       "    <tr>\n",
       "      <th>71</th>\n",
       "      <td>72</td>\n",
       "      <td>0</td>\n",
       "      <td>3</td>\n",
       "      <td>Goodwin, Miss. Lillian Amy</td>\n",
       "      <td>female</td>\n",
       "      <td>16.0</td>\n",
       "      <td>5</td>\n",
       "      <td>2</td>\n",
       "      <td>CA 2144</td>\n",
       "      <td>46.9</td>\n",
       "      <td>NaN</td>\n",
       "      <td>S</td>\n",
       "      <td>1</td>\n",
       "      <td>0</td>\n",
       "    </tr>\n",
       "    <tr>\n",
       "      <th>386</th>\n",
       "      <td>387</td>\n",
       "      <td>0</td>\n",
       "      <td>3</td>\n",
       "      <td>Goodwin, Master. Sidney Leonard</td>\n",
       "      <td>male</td>\n",
       "      <td>1.0</td>\n",
       "      <td>5</td>\n",
       "      <td>2</td>\n",
       "      <td>CA 2144</td>\n",
       "      <td>46.9</td>\n",
       "      <td>NaN</td>\n",
       "      <td>S</td>\n",
       "      <td>0</td>\n",
       "      <td>0</td>\n",
       "    </tr>\n",
       "    <tr>\n",
       "      <th>480</th>\n",
       "      <td>481</td>\n",
       "      <td>0</td>\n",
       "      <td>3</td>\n",
       "      <td>Goodwin, Master. Harold Victor</td>\n",
       "      <td>male</td>\n",
       "      <td>9.0</td>\n",
       "      <td>5</td>\n",
       "      <td>2</td>\n",
       "      <td>CA 2144</td>\n",
       "      <td>46.9</td>\n",
       "      <td>NaN</td>\n",
       "      <td>S</td>\n",
       "      <td>1</td>\n",
       "      <td>0</td>\n",
       "    </tr>\n",
       "    <tr>\n",
       "      <th>678</th>\n",
       "      <td>679</td>\n",
       "      <td>0</td>\n",
       "      <td>3</td>\n",
       "      <td>Goodwin, Mrs. Frederick (Augusta Tyler)</td>\n",
       "      <td>female</td>\n",
       "      <td>43.0</td>\n",
       "      <td>1</td>\n",
       "      <td>6</td>\n",
       "      <td>CA 2144</td>\n",
       "      <td>46.9</td>\n",
       "      <td>NaN</td>\n",
       "      <td>S</td>\n",
       "      <td>1</td>\n",
       "      <td>0</td>\n",
       "    </tr>\n",
       "    <tr>\n",
       "      <th>683</th>\n",
       "      <td>684</td>\n",
       "      <td>0</td>\n",
       "      <td>3</td>\n",
       "      <td>Goodwin, Mr. Charles Edward</td>\n",
       "      <td>male</td>\n",
       "      <td>14.0</td>\n",
       "      <td>5</td>\n",
       "      <td>2</td>\n",
       "      <td>CA 2144</td>\n",
       "      <td>46.9</td>\n",
       "      <td>NaN</td>\n",
       "      <td>S</td>\n",
       "      <td>1</td>\n",
       "      <td>0</td>\n",
       "    </tr>\n",
       "  </tbody>\n",
       "</table>\n",
       "</div>"
      ],
      "text/plain": [
       "      Id  Sobreviveu  Classe                                     Nome    Sexo  \\\n",
       "59    60           0       3       Goodwin, Master. William Frederick    male   \n",
       "71    72           0       3               Goodwin, Miss. Lillian Amy  female   \n",
       "386  387           0       3          Goodwin, Master. Sidney Leonard    male   \n",
       "480  481           0       3           Goodwin, Master. Harold Victor    male   \n",
       "678  679           0       3  Goodwin, Mrs. Frederick (Augusta Tyler)  female   \n",
       "683  684           0       3              Goodwin, Mr. Charles Edward    male   \n",
       "\n",
       "     Idade  Familiares  Dependentes   Ticket  Preço da Passagem Cabine  \\\n",
       "59    11.0           5            2  CA 2144               46.9    NaN   \n",
       "71    16.0           5            2  CA 2144               46.9    NaN   \n",
       "386    1.0           5            2  CA 2144               46.9    NaN   \n",
       "480    9.0           5            2  CA 2144               46.9    NaN   \n",
       "678   43.0           1            6  CA 2144               46.9    NaN   \n",
       "683   14.0           5            2  CA 2144               46.9    NaN   \n",
       "\n",
       "    Local de Embarque  Faixa Etária  Renda  \n",
       "59                  S             1      0  \n",
       "71                  S             1      0  \n",
       "386                 S             0      0  \n",
       "480                 S             1      0  \n",
       "678                 S             1      0  \n",
       "683                 S             1      0  "
      ]
     },
     "execution_count": 29,
     "metadata": {},
     "output_type": "execute_result"
    }
   ],
   "source": [
    "# Avaliar os passageiros com o Ticket CA 2144\n",
    "df.loc[df['Ticket']=='CA 2144']"
   ]
  },
  {
   "cell_type": "code",
   "execution_count": 30,
   "id": "forward-pleasure",
   "metadata": {
    "execution": {
     "iopub.execute_input": "2021-07-08T18:31:01.274436Z",
     "iopub.status.busy": "2021-07-08T18:31:01.273902Z",
     "iopub.status.idle": "2021-07-08T18:31:01.278200Z",
     "shell.execute_reply": "2021-07-08T18:31:01.277757Z",
     "shell.execute_reply.started": "2021-07-08T18:09:51.148163Z"
    },
    "papermill": {
     "duration": 0.121529,
     "end_time": "2021-07-08T18:31:01.278320",
     "exception": false,
     "start_time": "2021-07-08T18:31:01.156791",
     "status": "completed"
    },
    "tags": []
   },
   "outputs": [
    {
     "data": {
      "text/html": [
       "<div>\n",
       "<style scoped>\n",
       "    .dataframe tbody tr th:only-of-type {\n",
       "        vertical-align: middle;\n",
       "    }\n",
       "\n",
       "    .dataframe tbody tr th {\n",
       "        vertical-align: top;\n",
       "    }\n",
       "\n",
       "    .dataframe thead th {\n",
       "        text-align: right;\n",
       "    }\n",
       "</style>\n",
       "<table border=\"1\" class=\"dataframe\">\n",
       "  <thead>\n",
       "    <tr style=\"text-align: right;\">\n",
       "      <th></th>\n",
       "      <th>Id</th>\n",
       "      <th>Sobreviveu</th>\n",
       "      <th>Classe</th>\n",
       "      <th>Nome</th>\n",
       "      <th>Sexo</th>\n",
       "      <th>Idade</th>\n",
       "      <th>Familiares</th>\n",
       "      <th>Dependentes</th>\n",
       "      <th>Ticket</th>\n",
       "      <th>Preço da Passagem</th>\n",
       "      <th>Cabine</th>\n",
       "      <th>Local de Embarque</th>\n",
       "      <th>Faixa Etária</th>\n",
       "      <th>Renda</th>\n",
       "    </tr>\n",
       "  </thead>\n",
       "  <tbody>\n",
       "    <tr>\n",
       "      <th>50</th>\n",
       "      <td>51</td>\n",
       "      <td>0</td>\n",
       "      <td>3</td>\n",
       "      <td>Panula, Master. Juha Niilo</td>\n",
       "      <td>male</td>\n",
       "      <td>7.0</td>\n",
       "      <td>4</td>\n",
       "      <td>1</td>\n",
       "      <td>3101295</td>\n",
       "      <td>39.6875</td>\n",
       "      <td>NaN</td>\n",
       "      <td>S</td>\n",
       "      <td>1</td>\n",
       "      <td>0</td>\n",
       "    </tr>\n",
       "    <tr>\n",
       "      <th>164</th>\n",
       "      <td>165</td>\n",
       "      <td>0</td>\n",
       "      <td>3</td>\n",
       "      <td>Panula, Master. Eino Viljami</td>\n",
       "      <td>male</td>\n",
       "      <td>1.0</td>\n",
       "      <td>4</td>\n",
       "      <td>1</td>\n",
       "      <td>3101295</td>\n",
       "      <td>39.6875</td>\n",
       "      <td>NaN</td>\n",
       "      <td>S</td>\n",
       "      <td>0</td>\n",
       "      <td>0</td>\n",
       "    </tr>\n",
       "    <tr>\n",
       "      <th>266</th>\n",
       "      <td>267</td>\n",
       "      <td>0</td>\n",
       "      <td>3</td>\n",
       "      <td>Panula, Mr. Ernesti Arvid</td>\n",
       "      <td>male</td>\n",
       "      <td>16.0</td>\n",
       "      <td>4</td>\n",
       "      <td>1</td>\n",
       "      <td>3101295</td>\n",
       "      <td>39.6875</td>\n",
       "      <td>NaN</td>\n",
       "      <td>S</td>\n",
       "      <td>1</td>\n",
       "      <td>0</td>\n",
       "    </tr>\n",
       "    <tr>\n",
       "      <th>638</th>\n",
       "      <td>639</td>\n",
       "      <td>0</td>\n",
       "      <td>3</td>\n",
       "      <td>Panula, Mrs. Juha (Maria Emilia Ojala)</td>\n",
       "      <td>female</td>\n",
       "      <td>41.0</td>\n",
       "      <td>0</td>\n",
       "      <td>5</td>\n",
       "      <td>3101295</td>\n",
       "      <td>39.6875</td>\n",
       "      <td>NaN</td>\n",
       "      <td>S</td>\n",
       "      <td>1</td>\n",
       "      <td>0</td>\n",
       "    </tr>\n",
       "    <tr>\n",
       "      <th>686</th>\n",
       "      <td>687</td>\n",
       "      <td>0</td>\n",
       "      <td>3</td>\n",
       "      <td>Panula, Mr. Jaako Arnold</td>\n",
       "      <td>male</td>\n",
       "      <td>14.0</td>\n",
       "      <td>4</td>\n",
       "      <td>1</td>\n",
       "      <td>3101295</td>\n",
       "      <td>39.6875</td>\n",
       "      <td>NaN</td>\n",
       "      <td>S</td>\n",
       "      <td>1</td>\n",
       "      <td>0</td>\n",
       "    </tr>\n",
       "    <tr>\n",
       "      <th>824</th>\n",
       "      <td>825</td>\n",
       "      <td>0</td>\n",
       "      <td>3</td>\n",
       "      <td>Panula, Master. Urho Abraham</td>\n",
       "      <td>male</td>\n",
       "      <td>2.0</td>\n",
       "      <td>4</td>\n",
       "      <td>1</td>\n",
       "      <td>3101295</td>\n",
       "      <td>39.6875</td>\n",
       "      <td>NaN</td>\n",
       "      <td>S</td>\n",
       "      <td>0</td>\n",
       "      <td>0</td>\n",
       "    </tr>\n",
       "  </tbody>\n",
       "</table>\n",
       "</div>"
      ],
      "text/plain": [
       "      Id  Sobreviveu  Classe                                    Nome    Sexo  \\\n",
       "50    51           0       3              Panula, Master. Juha Niilo    male   \n",
       "164  165           0       3            Panula, Master. Eino Viljami    male   \n",
       "266  267           0       3               Panula, Mr. Ernesti Arvid    male   \n",
       "638  639           0       3  Panula, Mrs. Juha (Maria Emilia Ojala)  female   \n",
       "686  687           0       3                Panula, Mr. Jaako Arnold    male   \n",
       "824  825           0       3            Panula, Master. Urho Abraham    male   \n",
       "\n",
       "     Idade  Familiares  Dependentes   Ticket  Preço da Passagem Cabine  \\\n",
       "50     7.0           4            1  3101295            39.6875    NaN   \n",
       "164    1.0           4            1  3101295            39.6875    NaN   \n",
       "266   16.0           4            1  3101295            39.6875    NaN   \n",
       "638   41.0           0            5  3101295            39.6875    NaN   \n",
       "686   14.0           4            1  3101295            39.6875    NaN   \n",
       "824    2.0           4            1  3101295            39.6875    NaN   \n",
       "\n",
       "    Local de Embarque  Faixa Etária  Renda  \n",
       "50                  S             1      0  \n",
       "164                 S             0      0  \n",
       "266                 S             1      0  \n",
       "638                 S             1      0  \n",
       "686                 S             1      0  \n",
       "824                 S             0      0  "
      ]
     },
     "execution_count": 30,
     "metadata": {},
     "output_type": "execute_result"
    }
   ],
   "source": [
    "# Avaliar os passageiros com o Ticket 3101295\n",
    "df.loc[df['Ticket']=='3101295']"
   ]
  },
  {
   "cell_type": "code",
   "execution_count": 31,
   "id": "shaped-mattress",
   "metadata": {
    "execution": {
     "iopub.execute_input": "2021-07-08T18:31:01.428849Z",
     "iopub.status.busy": "2021-07-08T18:31:01.428263Z",
     "iopub.status.idle": "2021-07-08T18:31:01.431862Z",
     "shell.execute_reply": "2021-07-08T18:31:01.432277Z",
     "shell.execute_reply.started": "2021-07-08T18:09:51.179325Z"
    },
    "papermill": {
     "duration": 0.087358,
     "end_time": "2021-07-08T18:31:01.432432",
     "exception": false,
     "start_time": "2021-07-08T18:31:01.345074",
     "status": "completed"
    },
    "tags": []
   },
   "outputs": [
    {
     "data": {
      "text/html": [
       "<div>\n",
       "<style scoped>\n",
       "    .dataframe tbody tr th:only-of-type {\n",
       "        vertical-align: middle;\n",
       "    }\n",
       "\n",
       "    .dataframe tbody tr th {\n",
       "        vertical-align: top;\n",
       "    }\n",
       "\n",
       "    .dataframe thead th {\n",
       "        text-align: right;\n",
       "    }\n",
       "</style>\n",
       "<table border=\"1\" class=\"dataframe\">\n",
       "  <thead>\n",
       "    <tr style=\"text-align: right;\">\n",
       "      <th></th>\n",
       "      <th>Id</th>\n",
       "      <th>Sobreviveu</th>\n",
       "      <th>Classe</th>\n",
       "      <th>Nome</th>\n",
       "      <th>Sexo</th>\n",
       "      <th>Idade</th>\n",
       "      <th>Familiares</th>\n",
       "      <th>Dependentes</th>\n",
       "      <th>Ticket</th>\n",
       "      <th>Preço da Passagem</th>\n",
       "      <th>Cabine</th>\n",
       "      <th>Local de Embarque</th>\n",
       "      <th>Faixa Etária</th>\n",
       "      <th>Renda</th>\n",
       "    </tr>\n",
       "  </thead>\n",
       "  <tbody>\n",
       "    <tr>\n",
       "      <th>63</th>\n",
       "      <td>64</td>\n",
       "      <td>0</td>\n",
       "      <td>3</td>\n",
       "      <td>Skoog, Master. Harald</td>\n",
       "      <td>male</td>\n",
       "      <td>4.0</td>\n",
       "      <td>3</td>\n",
       "      <td>2</td>\n",
       "      <td>347088</td>\n",
       "      <td>27.9</td>\n",
       "      <td>NaN</td>\n",
       "      <td>S</td>\n",
       "      <td>0</td>\n",
       "      <td>0</td>\n",
       "    </tr>\n",
       "    <tr>\n",
       "      <th>167</th>\n",
       "      <td>168</td>\n",
       "      <td>0</td>\n",
       "      <td>3</td>\n",
       "      <td>Skoog, Mrs. William (Anna Bernhardina Karlsson)</td>\n",
       "      <td>female</td>\n",
       "      <td>45.0</td>\n",
       "      <td>1</td>\n",
       "      <td>4</td>\n",
       "      <td>347088</td>\n",
       "      <td>27.9</td>\n",
       "      <td>NaN</td>\n",
       "      <td>S</td>\n",
       "      <td>1</td>\n",
       "      <td>0</td>\n",
       "    </tr>\n",
       "    <tr>\n",
       "      <th>360</th>\n",
       "      <td>361</td>\n",
       "      <td>0</td>\n",
       "      <td>3</td>\n",
       "      <td>Skoog, Mr. Wilhelm</td>\n",
       "      <td>male</td>\n",
       "      <td>40.0</td>\n",
       "      <td>1</td>\n",
       "      <td>4</td>\n",
       "      <td>347088</td>\n",
       "      <td>27.9</td>\n",
       "      <td>NaN</td>\n",
       "      <td>S</td>\n",
       "      <td>1</td>\n",
       "      <td>0</td>\n",
       "    </tr>\n",
       "    <tr>\n",
       "      <th>634</th>\n",
       "      <td>635</td>\n",
       "      <td>0</td>\n",
       "      <td>3</td>\n",
       "      <td>Skoog, Miss. Mabel</td>\n",
       "      <td>female</td>\n",
       "      <td>9.0</td>\n",
       "      <td>3</td>\n",
       "      <td>2</td>\n",
       "      <td>347088</td>\n",
       "      <td>27.9</td>\n",
       "      <td>NaN</td>\n",
       "      <td>S</td>\n",
       "      <td>1</td>\n",
       "      <td>0</td>\n",
       "    </tr>\n",
       "    <tr>\n",
       "      <th>642</th>\n",
       "      <td>643</td>\n",
       "      <td>0</td>\n",
       "      <td>3</td>\n",
       "      <td>Skoog, Miss. Margit Elizabeth</td>\n",
       "      <td>female</td>\n",
       "      <td>2.0</td>\n",
       "      <td>3</td>\n",
       "      <td>2</td>\n",
       "      <td>347088</td>\n",
       "      <td>27.9</td>\n",
       "      <td>NaN</td>\n",
       "      <td>S</td>\n",
       "      <td>0</td>\n",
       "      <td>0</td>\n",
       "    </tr>\n",
       "    <tr>\n",
       "      <th>819</th>\n",
       "      <td>820</td>\n",
       "      <td>0</td>\n",
       "      <td>3</td>\n",
       "      <td>Skoog, Master. Karl Thorsten</td>\n",
       "      <td>male</td>\n",
       "      <td>10.0</td>\n",
       "      <td>3</td>\n",
       "      <td>2</td>\n",
       "      <td>347088</td>\n",
       "      <td>27.9</td>\n",
       "      <td>NaN</td>\n",
       "      <td>S</td>\n",
       "      <td>1</td>\n",
       "      <td>0</td>\n",
       "    </tr>\n",
       "  </tbody>\n",
       "</table>\n",
       "</div>"
      ],
      "text/plain": [
       "      Id  Sobreviveu  Classe                                             Nome  \\\n",
       "63    64           0       3                            Skoog, Master. Harald   \n",
       "167  168           0       3  Skoog, Mrs. William (Anna Bernhardina Karlsson)   \n",
       "360  361           0       3                               Skoog, Mr. Wilhelm   \n",
       "634  635           0       3                               Skoog, Miss. Mabel   \n",
       "642  643           0       3                    Skoog, Miss. Margit Elizabeth   \n",
       "819  820           0       3                     Skoog, Master. Karl Thorsten   \n",
       "\n",
       "       Sexo  Idade  Familiares  Dependentes  Ticket  Preço da Passagem Cabine  \\\n",
       "63     male    4.0           3            2  347088               27.9    NaN   \n",
       "167  female   45.0           1            4  347088               27.9    NaN   \n",
       "360    male   40.0           1            4  347088               27.9    NaN   \n",
       "634  female    9.0           3            2  347088               27.9    NaN   \n",
       "642  female    2.0           3            2  347088               27.9    NaN   \n",
       "819    male   10.0           3            2  347088               27.9    NaN   \n",
       "\n",
       "    Local de Embarque  Faixa Etária  Renda  \n",
       "63                  S             0      0  \n",
       "167                 S             1      0  \n",
       "360                 S             1      0  \n",
       "634                 S             1      0  \n",
       "642                 S             0      0  \n",
       "819                 S             1      0  "
      ]
     },
     "execution_count": 31,
     "metadata": {},
     "output_type": "execute_result"
    }
   ],
   "source": [
    " # Avaliar os passageiros com o Ticket 347088\n",
    "df.loc[df['Ticket']=='347088'] "
   ]
  },
  {
   "cell_type": "markdown",
   "id": "complex-reunion",
   "metadata": {
    "papermill": {
     "duration": 0.066438,
     "end_time": "2021-07-08T18:31:01.565676",
     "exception": false,
     "start_time": "2021-07-08T18:31:01.499238",
     "status": "completed"
    },
    "tags": []
   },
   "source": [
    "Uma relação muito interessante apareceu, o Ticket parece indicar pessoas da mesma família. Isso pode ser percebido avaliando a coluna do Ticket e também do nome, onde a primeira palavra do nome parece indicar a família. A relação entre o Ticket (família) e a sobrevivência é muito clara, sendo que em praticamente todos os casos avaliados, todos os familiares morreram. Mas nos casos em que o Ticket é o mesmo mas as pessoas não são da mesma família, parece não haver relação entre sobreviver ou não. Pode ser que a família, através do Sobrenome, seja um indicativo mais forte."
   ]
  },
  {
   "cell_type": "code",
   "execution_count": 32,
   "id": "inside-safety",
   "metadata": {
    "execution": {
     "iopub.execute_input": "2021-07-08T18:31:01.725506Z",
     "iopub.status.busy": "2021-07-08T18:31:01.724797Z",
     "iopub.status.idle": "2021-07-08T18:31:01.749745Z",
     "shell.execute_reply": "2021-07-08T18:31:01.750275Z",
     "shell.execute_reply.started": "2021-07-08T18:09:51.214658Z"
    },
    "papermill": {
     "duration": 0.118738,
     "end_time": "2021-07-08T18:31:01.750439",
     "exception": false,
     "start_time": "2021-07-08T18:31:01.631701",
     "status": "completed"
    },
    "tags": []
   },
   "outputs": [
    {
     "data": {
      "text/html": [
       "<div>\n",
       "<style scoped>\n",
       "    .dataframe tbody tr th:only-of-type {\n",
       "        vertical-align: middle;\n",
       "    }\n",
       "\n",
       "    .dataframe tbody tr th {\n",
       "        vertical-align: top;\n",
       "    }\n",
       "\n",
       "    .dataframe thead th {\n",
       "        text-align: right;\n",
       "    }\n",
       "</style>\n",
       "<table border=\"1\" class=\"dataframe\">\n",
       "  <thead>\n",
       "    <tr style=\"text-align: right;\">\n",
       "      <th></th>\n",
       "      <th>Id</th>\n",
       "      <th>Sobreviveu</th>\n",
       "      <th>Classe</th>\n",
       "      <th>Nome</th>\n",
       "      <th>Sexo</th>\n",
       "      <th>Idade</th>\n",
       "      <th>Familiares</th>\n",
       "      <th>Dependentes</th>\n",
       "      <th>Ticket</th>\n",
       "      <th>Preço da Passagem</th>\n",
       "      <th>Cabine</th>\n",
       "      <th>Local de Embarque</th>\n",
       "      <th>Faixa Etária</th>\n",
       "      <th>Renda</th>\n",
       "      <th>Sobrenome</th>\n",
       "      <th>Grupo</th>\n",
       "    </tr>\n",
       "  </thead>\n",
       "  <tbody>\n",
       "    <tr>\n",
       "      <th>0</th>\n",
       "      <td>1</td>\n",
       "      <td>0</td>\n",
       "      <td>3</td>\n",
       "      <td>Braund, Mr. Owen Harris</td>\n",
       "      <td>male</td>\n",
       "      <td>22.0</td>\n",
       "      <td>1</td>\n",
       "      <td>0</td>\n",
       "      <td>A/5 21171</td>\n",
       "      <td>7.2500</td>\n",
       "      <td>NaN</td>\n",
       "      <td>S</td>\n",
       "      <td>1</td>\n",
       "      <td>0</td>\n",
       "      <td>Braund</td>\n",
       "      <td>1</td>\n",
       "    </tr>\n",
       "    <tr>\n",
       "      <th>1</th>\n",
       "      <td>2</td>\n",
       "      <td>1</td>\n",
       "      <td>1</td>\n",
       "      <td>Cumings, Mrs. John Bradley (Florence Briggs Th...</td>\n",
       "      <td>female</td>\n",
       "      <td>38.0</td>\n",
       "      <td>1</td>\n",
       "      <td>0</td>\n",
       "      <td>PC 17599</td>\n",
       "      <td>71.2833</td>\n",
       "      <td>C85</td>\n",
       "      <td>C</td>\n",
       "      <td>1</td>\n",
       "      <td>1</td>\n",
       "      <td>Cumings</td>\n",
       "      <td>0</td>\n",
       "    </tr>\n",
       "    <tr>\n",
       "      <th>2</th>\n",
       "      <td>3</td>\n",
       "      <td>1</td>\n",
       "      <td>3</td>\n",
       "      <td>Heikkinen, Miss. Laina</td>\n",
       "      <td>female</td>\n",
       "      <td>26.0</td>\n",
       "      <td>0</td>\n",
       "      <td>0</td>\n",
       "      <td>STON/O2. 3101282</td>\n",
       "      <td>7.9250</td>\n",
       "      <td>NaN</td>\n",
       "      <td>S</td>\n",
       "      <td>1</td>\n",
       "      <td>0</td>\n",
       "      <td>Heikkinen</td>\n",
       "      <td>0</td>\n",
       "    </tr>\n",
       "    <tr>\n",
       "      <th>3</th>\n",
       "      <td>4</td>\n",
       "      <td>1</td>\n",
       "      <td>1</td>\n",
       "      <td>Futrelle, Mrs. Jacques Heath (Lily May Peel)</td>\n",
       "      <td>female</td>\n",
       "      <td>35.0</td>\n",
       "      <td>1</td>\n",
       "      <td>0</td>\n",
       "      <td>113803</td>\n",
       "      <td>53.1000</td>\n",
       "      <td>C123</td>\n",
       "      <td>S</td>\n",
       "      <td>1</td>\n",
       "      <td>1</td>\n",
       "      <td>Futrelle</td>\n",
       "      <td>1</td>\n",
       "    </tr>\n",
       "    <tr>\n",
       "      <th>4</th>\n",
       "      <td>5</td>\n",
       "      <td>0</td>\n",
       "      <td>3</td>\n",
       "      <td>Allen, Mr. William Henry</td>\n",
       "      <td>male</td>\n",
       "      <td>35.0</td>\n",
       "      <td>0</td>\n",
       "      <td>0</td>\n",
       "      <td>373450</td>\n",
       "      <td>8.0500</td>\n",
       "      <td>NaN</td>\n",
       "      <td>S</td>\n",
       "      <td>1</td>\n",
       "      <td>0</td>\n",
       "      <td>Allen</td>\n",
       "      <td>1</td>\n",
       "    </tr>\n",
       "  </tbody>\n",
       "</table>\n",
       "</div>"
      ],
      "text/plain": [
       "   Id  Sobreviveu  Classe                                               Nome  \\\n",
       "0   1           0       3                            Braund, Mr. Owen Harris   \n",
       "1   2           1       1  Cumings, Mrs. John Bradley (Florence Briggs Th...   \n",
       "2   3           1       3                             Heikkinen, Miss. Laina   \n",
       "3   4           1       1       Futrelle, Mrs. Jacques Heath (Lily May Peel)   \n",
       "4   5           0       3                           Allen, Mr. William Henry   \n",
       "\n",
       "     Sexo  Idade  Familiares  Dependentes            Ticket  \\\n",
       "0    male   22.0           1            0         A/5 21171   \n",
       "1  female   38.0           1            0          PC 17599   \n",
       "2  female   26.0           0            0  STON/O2. 3101282   \n",
       "3  female   35.0           1            0            113803   \n",
       "4    male   35.0           0            0            373450   \n",
       "\n",
       "   Preço da Passagem Cabine Local de Embarque  Faixa Etária  Renda  Sobrenome  \\\n",
       "0             7.2500    NaN                 S             1      0     Braund   \n",
       "1            71.2833    C85                 C             1      1    Cumings   \n",
       "2             7.9250    NaN                 S             1      0  Heikkinen   \n",
       "3            53.1000   C123                 S             1      1   Futrelle   \n",
       "4             8.0500    NaN                 S             1      0      Allen   \n",
       "\n",
       "   Grupo  \n",
       "0      1  \n",
       "1      0  \n",
       "2      0  \n",
       "3      1  \n",
       "4      1  "
      ]
     },
     "execution_count": 32,
     "metadata": {},
     "output_type": "execute_result"
    }
   ],
   "source": [
    "# Identificar passageiros da mesma família (esse processo precisa ser feito na base de Teste)\n",
    "df['Sobrenome'] = df['Nome'].str.split(',').str[0]\n",
    "df['Grupo'] = df.duplicated(subset=['Sobrenome'], keep=False)\n",
    "df['Grupo'] = df['Grupo'].replace({True: 1, False: 0})\n",
    "df.head()"
   ]
  },
  {
   "cell_type": "markdown",
   "id": "prompt-freight",
   "metadata": {
    "papermill": {
     "duration": 0.06568,
     "end_time": "2021-07-08T18:31:01.885070",
     "exception": false,
     "start_time": "2021-07-08T18:31:01.819390",
     "status": "completed"
    },
    "tags": []
   },
   "source": [
    "Certo, agora todas as pessoas que estavam em grupo, ou seja, da **mesma Família**, estão identificadas pela coluna grupo. Vamos avaliar a distribuição da Target pelos passageiros que estavam em grupos e os que não estavam."
   ]
  },
  {
   "cell_type": "code",
   "execution_count": 33,
   "id": "seeing-beauty",
   "metadata": {
    "execution": {
     "iopub.execute_input": "2021-07-08T18:31:02.022206Z",
     "iopub.status.busy": "2021-07-08T18:31:02.021512Z",
     "iopub.status.idle": "2021-07-08T18:31:02.032547Z",
     "shell.execute_reply": "2021-07-08T18:31:02.033045Z",
     "shell.execute_reply.started": "2021-07-08T18:09:51.248824Z"
    },
    "papermill": {
     "duration": 0.081694,
     "end_time": "2021-07-08T18:31:02.033191",
     "exception": false,
     "start_time": "2021-07-08T18:31:01.951497",
     "status": "completed"
    },
    "tags": []
   },
   "outputs": [
    {
     "data": {
      "text/plain": [
       "Grupo  Sobreviveu\n",
       "0      0             64.044944\n",
       "       1             35.955056\n",
       "1      0             57.983193\n",
       "       1             42.016807\n",
       "Name: Sobreviveu, dtype: float64"
      ]
     },
     "execution_count": 33,
     "metadata": {},
     "output_type": "execute_result"
    }
   ],
   "source": [
    "# Avaliar a distribuição da Target entre as pessoas que estavam em grupo ou família, e as que estavam sozinhas.\n",
    "df.groupby('Grupo')['Sobreviveu'].value_counts(normalize=True).sort_index()*100"
   ]
  },
  {
   "cell_type": "markdown",
   "id": "previous-silence",
   "metadata": {
    "papermill": {
     "duration": 0.067026,
     "end_time": "2021-07-08T18:31:02.168812",
     "exception": false,
     "start_time": "2021-07-08T18:31:02.101786",
     "status": "completed"
    },
    "tags": []
   },
   "source": [
    "Está bem claro que as pessoas que estavem em família, ou grupo, tiveram uma probabilidade um pouco maior de sobreviver. Além disso, essa informação é útil porque o resultado de um familiar impacta no resultado dos outros familiares. Esta informação pode estar relacionada às Classes dos pasageiros, onde as famílias da primeira classe podem ter tido prioridade no resgate. Vamos avaliar a dostribuição dos grupos por Classe."
   ]
  },
  {
   "cell_type": "code",
   "execution_count": 34,
   "id": "judicial-backing",
   "metadata": {
    "execution": {
     "iopub.execute_input": "2021-07-08T18:31:02.307302Z",
     "iopub.status.busy": "2021-07-08T18:31:02.306621Z",
     "iopub.status.idle": "2021-07-08T18:31:02.316939Z",
     "shell.execute_reply": "2021-07-08T18:31:02.317378Z",
     "shell.execute_reply.started": "2021-07-08T18:09:51.265754Z"
    },
    "papermill": {
     "duration": 0.081047,
     "end_time": "2021-07-08T18:31:02.317511",
     "exception": false,
     "start_time": "2021-07-08T18:31:02.236464",
     "status": "completed"
    },
    "tags": []
   },
   "outputs": [
    {
     "data": {
      "text/plain": [
       "Classe  Grupo\n",
       "1       0        61.111111\n",
       "        1        38.888889\n",
       "2       0        60.326087\n",
       "        1        39.673913\n",
       "3       0        59.266802\n",
       "        1        40.733198\n",
       "Name: Grupo, dtype: float64"
      ]
     },
     "execution_count": 34,
     "metadata": {},
     "output_type": "execute_result"
    }
   ],
   "source": [
    "# Avaliar a distribuição das famílias ou grupos, pelas Classes do Navio.\n",
    "df.groupby('Classe')['Grupo'].value_counts(normalize=True).sort_index()*100"
   ]
  },
  {
   "cell_type": "markdown",
   "id": "together-therapy",
   "metadata": {
    "papermill": {
     "duration": 0.066483,
     "end_time": "2021-07-08T18:31:02.451641",
     "exception": false,
     "start_time": "2021-07-08T18:31:02.385158",
     "status": "completed"
    },
    "tags": []
   },
   "source": [
    "A maior parte dos passageiros estava sem a família, mas ainda assim uma parcela significativa estava com a família. Esta informação parare ser bastante relevante, logo a informação de Grupo será utilizada no lugar do Ticket. Pode ser que o nome do passageiro indique algumas coisa, pois temos as classificações das famílias. Dessa forma, pode ser que alguém com o título de Lord ao algo parecido possa ter maior probabilidade de sobreviver. Precisamos fazer uma análise dos nomes."
   ]
  },
  {
   "cell_type": "code",
   "execution_count": 35,
   "id": "variable-comfort",
   "metadata": {
    "execution": {
     "iopub.execute_input": "2021-07-08T18:31:02.587584Z",
     "iopub.status.busy": "2021-07-08T18:31:02.586938Z",
     "iopub.status.idle": "2021-07-08T18:31:02.615821Z",
     "shell.execute_reply": "2021-07-08T18:31:02.616310Z",
     "shell.execute_reply.started": "2021-07-08T18:09:51.285090Z"
    },
    "papermill": {
     "duration": 0.098281,
     "end_time": "2021-07-08T18:31:02.616462",
     "exception": false,
     "start_time": "2021-07-08T18:31:02.518181",
     "status": "completed"
    },
    "tags": []
   },
   "outputs": [
    {
     "data": {
      "text/html": [
       "<div>\n",
       "<style scoped>\n",
       "    .dataframe tbody tr th:only-of-type {\n",
       "        vertical-align: middle;\n",
       "    }\n",
       "\n",
       "    .dataframe tbody tr th {\n",
       "        vertical-align: top;\n",
       "    }\n",
       "\n",
       "    .dataframe thead th {\n",
       "        text-align: right;\n",
       "    }\n",
       "</style>\n",
       "<table border=\"1\" class=\"dataframe\">\n",
       "  <thead>\n",
       "    <tr style=\"text-align: right;\">\n",
       "      <th></th>\n",
       "      <th>Id</th>\n",
       "      <th>Sobreviveu</th>\n",
       "      <th>Classe</th>\n",
       "      <th>Nome</th>\n",
       "      <th>Sexo</th>\n",
       "      <th>Idade</th>\n",
       "      <th>Familiares</th>\n",
       "      <th>Dependentes</th>\n",
       "      <th>Ticket</th>\n",
       "      <th>Preço da Passagem</th>\n",
       "      <th>Cabine</th>\n",
       "      <th>Local de Embarque</th>\n",
       "      <th>Faixa Etária</th>\n",
       "      <th>Renda</th>\n",
       "      <th>Sobrenome</th>\n",
       "      <th>Grupo</th>\n",
       "      <th>Título</th>\n",
       "    </tr>\n",
       "  </thead>\n",
       "  <tbody>\n",
       "    <tr>\n",
       "      <th>0</th>\n",
       "      <td>1</td>\n",
       "      <td>0</td>\n",
       "      <td>3</td>\n",
       "      <td>Braund, Mr. Owen Harris</td>\n",
       "      <td>male</td>\n",
       "      <td>22.0</td>\n",
       "      <td>1</td>\n",
       "      <td>0</td>\n",
       "      <td>A/5 21171</td>\n",
       "      <td>7.2500</td>\n",
       "      <td>NaN</td>\n",
       "      <td>S</td>\n",
       "      <td>1</td>\n",
       "      <td>0</td>\n",
       "      <td>Braund</td>\n",
       "      <td>1</td>\n",
       "      <td>Mr</td>\n",
       "    </tr>\n",
       "    <tr>\n",
       "      <th>1</th>\n",
       "      <td>2</td>\n",
       "      <td>1</td>\n",
       "      <td>1</td>\n",
       "      <td>Cumings, Mrs. John Bradley (Florence Briggs Th...</td>\n",
       "      <td>female</td>\n",
       "      <td>38.0</td>\n",
       "      <td>1</td>\n",
       "      <td>0</td>\n",
       "      <td>PC 17599</td>\n",
       "      <td>71.2833</td>\n",
       "      <td>C85</td>\n",
       "      <td>C</td>\n",
       "      <td>1</td>\n",
       "      <td>1</td>\n",
       "      <td>Cumings</td>\n",
       "      <td>0</td>\n",
       "      <td>Mrs</td>\n",
       "    </tr>\n",
       "    <tr>\n",
       "      <th>2</th>\n",
       "      <td>3</td>\n",
       "      <td>1</td>\n",
       "      <td>3</td>\n",
       "      <td>Heikkinen, Miss. Laina</td>\n",
       "      <td>female</td>\n",
       "      <td>26.0</td>\n",
       "      <td>0</td>\n",
       "      <td>0</td>\n",
       "      <td>STON/O2. 3101282</td>\n",
       "      <td>7.9250</td>\n",
       "      <td>NaN</td>\n",
       "      <td>S</td>\n",
       "      <td>1</td>\n",
       "      <td>0</td>\n",
       "      <td>Heikkinen</td>\n",
       "      <td>0</td>\n",
       "      <td>Miss</td>\n",
       "    </tr>\n",
       "    <tr>\n",
       "      <th>3</th>\n",
       "      <td>4</td>\n",
       "      <td>1</td>\n",
       "      <td>1</td>\n",
       "      <td>Futrelle, Mrs. Jacques Heath (Lily May Peel)</td>\n",
       "      <td>female</td>\n",
       "      <td>35.0</td>\n",
       "      <td>1</td>\n",
       "      <td>0</td>\n",
       "      <td>113803</td>\n",
       "      <td>53.1000</td>\n",
       "      <td>C123</td>\n",
       "      <td>S</td>\n",
       "      <td>1</td>\n",
       "      <td>1</td>\n",
       "      <td>Futrelle</td>\n",
       "      <td>1</td>\n",
       "      <td>Mrs</td>\n",
       "    </tr>\n",
       "    <tr>\n",
       "      <th>4</th>\n",
       "      <td>5</td>\n",
       "      <td>0</td>\n",
       "      <td>3</td>\n",
       "      <td>Allen, Mr. William Henry</td>\n",
       "      <td>male</td>\n",
       "      <td>35.0</td>\n",
       "      <td>0</td>\n",
       "      <td>0</td>\n",
       "      <td>373450</td>\n",
       "      <td>8.0500</td>\n",
       "      <td>NaN</td>\n",
       "      <td>S</td>\n",
       "      <td>1</td>\n",
       "      <td>0</td>\n",
       "      <td>Allen</td>\n",
       "      <td>1</td>\n",
       "      <td>Mr</td>\n",
       "    </tr>\n",
       "  </tbody>\n",
       "</table>\n",
       "</div>"
      ],
      "text/plain": [
       "   Id  Sobreviveu  Classe                                               Nome  \\\n",
       "0   1           0       3                            Braund, Mr. Owen Harris   \n",
       "1   2           1       1  Cumings, Mrs. John Bradley (Florence Briggs Th...   \n",
       "2   3           1       3                             Heikkinen, Miss. Laina   \n",
       "3   4           1       1       Futrelle, Mrs. Jacques Heath (Lily May Peel)   \n",
       "4   5           0       3                           Allen, Mr. William Henry   \n",
       "\n",
       "     Sexo  Idade  Familiares  Dependentes            Ticket  \\\n",
       "0    male   22.0           1            0         A/5 21171   \n",
       "1  female   38.0           1            0          PC 17599   \n",
       "2  female   26.0           0            0  STON/O2. 3101282   \n",
       "3  female   35.0           1            0            113803   \n",
       "4    male   35.0           0            0            373450   \n",
       "\n",
       "   Preço da Passagem Cabine Local de Embarque  Faixa Etária  Renda  Sobrenome  \\\n",
       "0             7.2500    NaN                 S             1      0     Braund   \n",
       "1            71.2833    C85                 C             1      1    Cumings   \n",
       "2             7.9250    NaN                 S             1      0  Heikkinen   \n",
       "3            53.1000   C123                 S             1      1   Futrelle   \n",
       "4             8.0500    NaN                 S             1      0      Allen   \n",
       "\n",
       "   Grupo Título  \n",
       "0      1     Mr  \n",
       "1      0    Mrs  \n",
       "2      0   Miss  \n",
       "3      1    Mrs  \n",
       "4      1     Mr  "
      ]
     },
     "execution_count": 35,
     "metadata": {},
     "output_type": "execute_result"
    }
   ],
   "source": [
    "# Criar coluna com os Títulos dos passageiros (esse processo precisa ser feito na base de Teste)\n",
    "df['Título'] = df['Nome'].str.split(',').str[1]\n",
    "df['Título'] = df['Título'].str.split('.').str[0]\n",
    "df.head()"
   ]
  },
  {
   "cell_type": "code",
   "execution_count": 36,
   "id": "pretty-miracle",
   "metadata": {
    "execution": {
     "iopub.execute_input": "2021-07-08T18:31:02.754232Z",
     "iopub.status.busy": "2021-07-08T18:31:02.753559Z",
     "iopub.status.idle": "2021-07-08T18:31:02.764182Z",
     "shell.execute_reply": "2021-07-08T18:31:02.764634Z",
     "shell.execute_reply.started": "2021-07-08T18:09:51.317275Z"
    },
    "papermill": {
     "duration": 0.08117,
     "end_time": "2021-07-08T18:31:02.764772",
     "exception": false,
     "start_time": "2021-07-08T18:31:02.683602",
     "status": "completed"
    },
    "tags": []
   },
   "outputs": [
    {
     "data": {
      "text/plain": [
       "Título         Sobreviveu\n",
       " Capt          0               1\n",
       " Col           0               1\n",
       "               1               1\n",
       " Don           0               1\n",
       " Dr            0               4\n",
       "               1               3\n",
       " Jonkheer      0               1\n",
       " Lady          1               1\n",
       " Major         0               1\n",
       "               1               1\n",
       " Master        0              17\n",
       "               1              23\n",
       " Miss          0              55\n",
       "               1             127\n",
       " Mlle          1               2\n",
       " Mme           1               1\n",
       " Mr            0             436\n",
       "               1              81\n",
       " Mrs           0              26\n",
       "               1              99\n",
       " Ms            1               1\n",
       " Rev           0               6\n",
       " Sir           1               1\n",
       " the Countess  1               1\n",
       "Name: Sobreviveu, dtype: int64"
      ]
     },
     "execution_count": 36,
     "metadata": {},
     "output_type": "execute_result"
    }
   ],
   "source": [
    "# Avaliar a distribuição da Target pelos Títulos dos passageiros\n",
    "df.groupby('Título')['Sobreviveu'].value_counts().sort_index()"
   ]
  },
  {
   "cell_type": "markdown",
   "id": "placed-blend",
   "metadata": {
    "papermill": {
     "duration": 0.066684,
     "end_time": "2021-07-08T18:31:02.898559",
     "exception": false,
     "start_time": "2021-07-08T18:31:02.831875",
     "status": "completed"
    },
    "tags": []
   },
   "source": [
    "Os títulos: **Miss**, **Mr** e **Mrs** são bem indicativos de sobrevivência ou não. Parece haver grande valor nessa informação de título. Por isso,e ela será tranformada em categórica e utilizada na previsão. A tranforação será simplificada, onde **Miss** e **Mrs** terão valor 0, **Mr** Terá valor 1 e os demais valor 2. \n",
    "\n",
    "Fiz vários testes e o título que realmente impacta nos resultados é o de **Mr**. Dessa forma, buscando simplificar a análise, vou considerar apenas uma classe de título, sendo **Mr** como 0 e todos os demais como 1."
   ]
  },
  {
   "cell_type": "code",
   "execution_count": 37,
   "id": "stable-linux",
   "metadata": {
    "execution": {
     "iopub.execute_input": "2021-07-08T18:31:03.038482Z",
     "iopub.status.busy": "2021-07-08T18:31:03.037741Z",
     "iopub.status.idle": "2021-07-08T18:31:03.061287Z",
     "shell.execute_reply": "2021-07-08T18:31:03.060825Z",
     "shell.execute_reply.started": "2021-07-08T18:09:51.335627Z"
    },
    "papermill": {
     "duration": 0.095225,
     "end_time": "2021-07-08T18:31:03.061414",
     "exception": false,
     "start_time": "2021-07-08T18:31:02.966189",
     "status": "completed"
    },
    "tags": []
   },
   "outputs": [
    {
     "data": {
      "text/html": [
       "<div>\n",
       "<style scoped>\n",
       "    .dataframe tbody tr th:only-of-type {\n",
       "        vertical-align: middle;\n",
       "    }\n",
       "\n",
       "    .dataframe tbody tr th {\n",
       "        vertical-align: top;\n",
       "    }\n",
       "\n",
       "    .dataframe thead th {\n",
       "        text-align: right;\n",
       "    }\n",
       "</style>\n",
       "<table border=\"1\" class=\"dataframe\">\n",
       "  <thead>\n",
       "    <tr style=\"text-align: right;\">\n",
       "      <th></th>\n",
       "      <th>Id</th>\n",
       "      <th>Sobreviveu</th>\n",
       "      <th>Classe</th>\n",
       "      <th>Nome</th>\n",
       "      <th>Sexo</th>\n",
       "      <th>Idade</th>\n",
       "      <th>Familiares</th>\n",
       "      <th>Dependentes</th>\n",
       "      <th>Ticket</th>\n",
       "      <th>Preço da Passagem</th>\n",
       "      <th>Cabine</th>\n",
       "      <th>Local de Embarque</th>\n",
       "      <th>Faixa Etária</th>\n",
       "      <th>Renda</th>\n",
       "      <th>Sobrenome</th>\n",
       "      <th>Grupo</th>\n",
       "      <th>Título</th>\n",
       "    </tr>\n",
       "  </thead>\n",
       "  <tbody>\n",
       "    <tr>\n",
       "      <th>0</th>\n",
       "      <td>1</td>\n",
       "      <td>0</td>\n",
       "      <td>3</td>\n",
       "      <td>Braund, Mr. Owen Harris</td>\n",
       "      <td>male</td>\n",
       "      <td>22.0</td>\n",
       "      <td>1</td>\n",
       "      <td>0</td>\n",
       "      <td>A/5 21171</td>\n",
       "      <td>7.2500</td>\n",
       "      <td>NaN</td>\n",
       "      <td>S</td>\n",
       "      <td>1</td>\n",
       "      <td>0</td>\n",
       "      <td>Braund</td>\n",
       "      <td>1</td>\n",
       "      <td>Mr</td>\n",
       "    </tr>\n",
       "    <tr>\n",
       "      <th>1</th>\n",
       "      <td>2</td>\n",
       "      <td>1</td>\n",
       "      <td>1</td>\n",
       "      <td>Cumings, Mrs. John Bradley (Florence Briggs Th...</td>\n",
       "      <td>female</td>\n",
       "      <td>38.0</td>\n",
       "      <td>1</td>\n",
       "      <td>0</td>\n",
       "      <td>PC 17599</td>\n",
       "      <td>71.2833</td>\n",
       "      <td>C85</td>\n",
       "      <td>C</td>\n",
       "      <td>1</td>\n",
       "      <td>1</td>\n",
       "      <td>Cumings</td>\n",
       "      <td>0</td>\n",
       "      <td>Mrs</td>\n",
       "    </tr>\n",
       "    <tr>\n",
       "      <th>2</th>\n",
       "      <td>3</td>\n",
       "      <td>1</td>\n",
       "      <td>3</td>\n",
       "      <td>Heikkinen, Miss. Laina</td>\n",
       "      <td>female</td>\n",
       "      <td>26.0</td>\n",
       "      <td>0</td>\n",
       "      <td>0</td>\n",
       "      <td>STON/O2. 3101282</td>\n",
       "      <td>7.9250</td>\n",
       "      <td>NaN</td>\n",
       "      <td>S</td>\n",
       "      <td>1</td>\n",
       "      <td>0</td>\n",
       "      <td>Heikkinen</td>\n",
       "      <td>0</td>\n",
       "      <td>Miss</td>\n",
       "    </tr>\n",
       "    <tr>\n",
       "      <th>3</th>\n",
       "      <td>4</td>\n",
       "      <td>1</td>\n",
       "      <td>1</td>\n",
       "      <td>Futrelle, Mrs. Jacques Heath (Lily May Peel)</td>\n",
       "      <td>female</td>\n",
       "      <td>35.0</td>\n",
       "      <td>1</td>\n",
       "      <td>0</td>\n",
       "      <td>113803</td>\n",
       "      <td>53.1000</td>\n",
       "      <td>C123</td>\n",
       "      <td>S</td>\n",
       "      <td>1</td>\n",
       "      <td>1</td>\n",
       "      <td>Futrelle</td>\n",
       "      <td>1</td>\n",
       "      <td>Mrs</td>\n",
       "    </tr>\n",
       "    <tr>\n",
       "      <th>4</th>\n",
       "      <td>5</td>\n",
       "      <td>0</td>\n",
       "      <td>3</td>\n",
       "      <td>Allen, Mr. William Henry</td>\n",
       "      <td>male</td>\n",
       "      <td>35.0</td>\n",
       "      <td>0</td>\n",
       "      <td>0</td>\n",
       "      <td>373450</td>\n",
       "      <td>8.0500</td>\n",
       "      <td>NaN</td>\n",
       "      <td>S</td>\n",
       "      <td>1</td>\n",
       "      <td>0</td>\n",
       "      <td>Allen</td>\n",
       "      <td>1</td>\n",
       "      <td>Mr</td>\n",
       "    </tr>\n",
       "  </tbody>\n",
       "</table>\n",
       "</div>"
      ],
      "text/plain": [
       "   Id  Sobreviveu  Classe                                               Nome  \\\n",
       "0   1           0       3                            Braund, Mr. Owen Harris   \n",
       "1   2           1       1  Cumings, Mrs. John Bradley (Florence Briggs Th...   \n",
       "2   3           1       3                             Heikkinen, Miss. Laina   \n",
       "3   4           1       1       Futrelle, Mrs. Jacques Heath (Lily May Peel)   \n",
       "4   5           0       3                           Allen, Mr. William Henry   \n",
       "\n",
       "     Sexo  Idade  Familiares  Dependentes            Ticket  \\\n",
       "0    male   22.0           1            0         A/5 21171   \n",
       "1  female   38.0           1            0          PC 17599   \n",
       "2  female   26.0           0            0  STON/O2. 3101282   \n",
       "3  female   35.0           1            0            113803   \n",
       "4    male   35.0           0            0            373450   \n",
       "\n",
       "   Preço da Passagem Cabine Local de Embarque  Faixa Etária  Renda  Sobrenome  \\\n",
       "0             7.2500    NaN                 S             1      0     Braund   \n",
       "1            71.2833    C85                 C             1      1    Cumings   \n",
       "2             7.9250    NaN                 S             1      0  Heikkinen   \n",
       "3            53.1000   C123                 S             1      1   Futrelle   \n",
       "4             8.0500    NaN                 S             1      0      Allen   \n",
       "\n",
       "   Grupo Título  \n",
       "0      1     Mr  \n",
       "1      0    Mrs  \n",
       "2      0   Miss  \n",
       "3      1    Mrs  \n",
       "4      1     Mr  "
      ]
     },
     "execution_count": 37,
     "metadata": {},
     "output_type": "execute_result"
    }
   ],
   "source": [
    "# Avaliar a situação atual do Dataframe\n",
    "df.head()"
   ]
  },
  {
   "cell_type": "markdown",
   "id": "significant-personality",
   "metadata": {
    "papermill": {
     "duration": 0.069713,
     "end_time": "2021-07-08T18:31:03.202375",
     "exception": false,
     "start_time": "2021-07-08T18:31:03.132662",
     "status": "completed"
    },
    "tags": []
   },
   "source": [
    "Considerando tudo que foi discutido anteriormente, o valor faltante para a **Cabine** será simplesmente completado com Zero, pois o simples fato de ter uma cabine marcada já trás grande informação sobre a sobrevivência. O Local de Embarque sem identificação será transformado em categórica de 0 a 2. Este mesmo tratamento será aplicado na base de Teste, que será utilizada para fazer a submissão. "
   ]
  },
  {
   "cell_type": "code",
   "execution_count": 38,
   "id": "marine-lodging",
   "metadata": {
    "execution": {
     "iopub.execute_input": "2021-07-08T18:31:03.345293Z",
     "iopub.status.busy": "2021-07-08T18:31:03.344751Z",
     "iopub.status.idle": "2021-07-08T18:31:03.352872Z",
     "shell.execute_reply": "2021-07-08T18:31:03.352418Z",
     "shell.execute_reply.started": "2021-07-08T18:09:51.362461Z"
    },
    "papermill": {
     "duration": 0.081188,
     "end_time": "2021-07-08T18:31:03.352996",
     "exception": false,
     "start_time": "2021-07-08T18:31:03.271808",
     "status": "completed"
    },
    "tags": []
   },
   "outputs": [
    {
     "data": {
      "text/plain": [
       "Local de Embarque  Sobreviveu\n",
       "C                  0             44.642857\n",
       "                   1             55.357143\n",
       "Q                  0             61.038961\n",
       "                   1             38.961039\n",
       "S                  0             66.304348\n",
       "                   1             33.695652\n",
       "Name: Sobreviveu, dtype: float64"
      ]
     },
     "execution_count": 38,
     "metadata": {},
     "output_type": "execute_result"
    }
   ],
   "source": [
    "# Avaliando a distribuição do Embarque por Classe\n",
    "df.groupby('Local de Embarque')['Sobreviveu'].value_counts(normalize=True).sort_index()*100"
   ]
  },
  {
   "cell_type": "code",
   "execution_count": 39,
   "id": "dying-administrator",
   "metadata": {
    "execution": {
     "iopub.execute_input": "2021-07-08T18:31:03.490329Z",
     "iopub.status.busy": "2021-07-08T18:31:03.489821Z",
     "iopub.status.idle": "2021-07-08T18:31:03.498979Z",
     "shell.execute_reply": "2021-07-08T18:31:03.498547Z",
     "shell.execute_reply.started": "2021-07-08T18:09:51.384006Z"
    },
    "papermill": {
     "duration": 0.078899,
     "end_time": "2021-07-08T18:31:03.499093",
     "exception": false,
     "start_time": "2021-07-08T18:31:03.420194",
     "status": "completed"
    },
    "tags": []
   },
   "outputs": [
    {
     "data": {
      "text/plain": [
       "Id                   0\n",
       "Sobreviveu           0\n",
       "Classe               0\n",
       "Nome                 0\n",
       "Sexo                 0\n",
       "Idade                0\n",
       "Familiares           0\n",
       "Dependentes          0\n",
       "Ticket               0\n",
       "Preço da Passagem    0\n",
       "Cabine               0\n",
       "Local de Embarque    0\n",
       "Faixa Etária         0\n",
       "Renda                0\n",
       "Sobrenome            0\n",
       "Grupo                0\n",
       "Título               0\n",
       "dtype: int64"
      ]
     },
     "execution_count": 39,
     "metadata": {},
     "output_type": "execute_result"
    }
   ],
   "source": [
    "# Subistituir os missing values por 0\n",
    "df.fillna(value=0, inplace=True)\n",
    "df.isnull().sum()"
   ]
  },
  {
   "cell_type": "code",
   "execution_count": 40,
   "id": "indie-henry",
   "metadata": {
    "execution": {
     "iopub.execute_input": "2021-07-08T18:31:03.649488Z",
     "iopub.status.busy": "2021-07-08T18:31:03.645382Z",
     "iopub.status.idle": "2021-07-08T18:31:03.652252Z",
     "shell.execute_reply": "2021-07-08T18:31:03.652684Z",
     "shell.execute_reply.started": "2021-07-08T18:09:51.404576Z"
    },
    "papermill": {
     "duration": 0.085445,
     "end_time": "2021-07-08T18:31:03.652820",
     "exception": false,
     "start_time": "2021-07-08T18:31:03.567375",
     "status": "completed"
    },
    "tags": []
   },
   "outputs": [
    {
     "data": {
      "text/html": [
       "<div>\n",
       "<style scoped>\n",
       "    .dataframe tbody tr th:only-of-type {\n",
       "        vertical-align: middle;\n",
       "    }\n",
       "\n",
       "    .dataframe tbody tr th {\n",
       "        vertical-align: top;\n",
       "    }\n",
       "\n",
       "    .dataframe thead th {\n",
       "        text-align: right;\n",
       "    }\n",
       "</style>\n",
       "<table border=\"1\" class=\"dataframe\">\n",
       "  <thead>\n",
       "    <tr style=\"text-align: right;\">\n",
       "      <th></th>\n",
       "      <th>Sobreviveu</th>\n",
       "      <th>Classe</th>\n",
       "      <th>Sexo</th>\n",
       "      <th>Familiares</th>\n",
       "      <th>Dependentes</th>\n",
       "      <th>Cabine</th>\n",
       "      <th>Local de Embarque</th>\n",
       "      <th>Faixa Etária</th>\n",
       "      <th>Renda</th>\n",
       "      <th>Grupo</th>\n",
       "      <th>Título</th>\n",
       "    </tr>\n",
       "  </thead>\n",
       "  <tbody>\n",
       "    <tr>\n",
       "      <th>0</th>\n",
       "      <td>0</td>\n",
       "      <td>3</td>\n",
       "      <td>male</td>\n",
       "      <td>1</td>\n",
       "      <td>0</td>\n",
       "      <td>0</td>\n",
       "      <td>S</td>\n",
       "      <td>1</td>\n",
       "      <td>0</td>\n",
       "      <td>1</td>\n",
       "      <td>Mr</td>\n",
       "    </tr>\n",
       "    <tr>\n",
       "      <th>1</th>\n",
       "      <td>1</td>\n",
       "      <td>1</td>\n",
       "      <td>female</td>\n",
       "      <td>1</td>\n",
       "      <td>0</td>\n",
       "      <td>C85</td>\n",
       "      <td>C</td>\n",
       "      <td>1</td>\n",
       "      <td>1</td>\n",
       "      <td>0</td>\n",
       "      <td>Mrs</td>\n",
       "    </tr>\n",
       "    <tr>\n",
       "      <th>2</th>\n",
       "      <td>1</td>\n",
       "      <td>3</td>\n",
       "      <td>female</td>\n",
       "      <td>0</td>\n",
       "      <td>0</td>\n",
       "      <td>0</td>\n",
       "      <td>S</td>\n",
       "      <td>1</td>\n",
       "      <td>0</td>\n",
       "      <td>0</td>\n",
       "      <td>Miss</td>\n",
       "    </tr>\n",
       "    <tr>\n",
       "      <th>3</th>\n",
       "      <td>1</td>\n",
       "      <td>1</td>\n",
       "      <td>female</td>\n",
       "      <td>1</td>\n",
       "      <td>0</td>\n",
       "      <td>C123</td>\n",
       "      <td>S</td>\n",
       "      <td>1</td>\n",
       "      <td>1</td>\n",
       "      <td>1</td>\n",
       "      <td>Mrs</td>\n",
       "    </tr>\n",
       "    <tr>\n",
       "      <th>4</th>\n",
       "      <td>0</td>\n",
       "      <td>3</td>\n",
       "      <td>male</td>\n",
       "      <td>0</td>\n",
       "      <td>0</td>\n",
       "      <td>0</td>\n",
       "      <td>S</td>\n",
       "      <td>1</td>\n",
       "      <td>0</td>\n",
       "      <td>1</td>\n",
       "      <td>Mr</td>\n",
       "    </tr>\n",
       "  </tbody>\n",
       "</table>\n",
       "</div>"
      ],
      "text/plain": [
       "   Sobreviveu  Classe    Sexo  Familiares  Dependentes Cabine  \\\n",
       "0           0       3    male           1            0      0   \n",
       "1           1       1  female           1            0    C85   \n",
       "2           1       3  female           0            0      0   \n",
       "3           1       1  female           1            0   C123   \n",
       "4           0       3    male           0            0      0   \n",
       "\n",
       "  Local de Embarque  Faixa Etária  Renda  Grupo Título  \n",
       "0                 S             1      0      1     Mr  \n",
       "1                 C             1      1      0    Mrs  \n",
       "2                 S             1      0      0   Miss  \n",
       "3                 S             1      1      1    Mrs  \n",
       "4                 S             1      0      1     Mr  "
      ]
     },
     "execution_count": 40,
     "metadata": {},
     "output_type": "execute_result"
    }
   ],
   "source": [
    "# Excluir as features que não serão utilizadas na previsão\n",
    "df.drop(columns=['Id', 'Nome', 'Ticket', 'Idade', 'Sobrenome', 'Preço da Passagem'], inplace=True)\n",
    "df.head()"
   ]
  },
  {
   "cell_type": "code",
   "execution_count": 41,
   "id": "peripheral-samuel",
   "metadata": {
    "execution": {
     "iopub.execute_input": "2021-07-08T18:31:03.792128Z",
     "iopub.status.busy": "2021-07-08T18:31:03.791576Z",
     "iopub.status.idle": "2021-07-08T18:31:03.794915Z",
     "shell.execute_reply": "2021-07-08T18:31:03.795311Z",
     "shell.execute_reply.started": "2021-07-08T18:09:51.424763Z"
    },
    "papermill": {
     "duration": 0.075395,
     "end_time": "2021-07-08T18:31:03.795446",
     "exception": false,
     "start_time": "2021-07-08T18:31:03.720051",
     "status": "completed"
    },
    "tags": []
   },
   "outputs": [
    {
     "data": {
      "text/plain": [
       "Sobreviveu            int64\n",
       "Classe                int64\n",
       "Sexo                 object\n",
       "Familiares            int64\n",
       "Dependentes           int64\n",
       "Cabine               object\n",
       "Local de Embarque    object\n",
       "Faixa Etária          int64\n",
       "Renda                 int64\n",
       "Grupo                 int64\n",
       "Título               object\n",
       "dtype: object"
      ]
     },
     "execution_count": 41,
     "metadata": {},
     "output_type": "execute_result"
    }
   ],
   "source": [
    "# Avaliar os tipos de Dados\n",
    "df.dtypes"
   ]
  },
  {
   "cell_type": "markdown",
   "id": "biological-involvement",
   "metadata": {
    "papermill": {
     "duration": 0.108561,
     "end_time": "2021-07-08T18:31:03.973774",
     "exception": false,
     "start_time": "2021-07-08T18:31:03.865213",
     "status": "completed"
    },
    "tags": []
   },
   "source": [
    "**Formatação dos dados:**\n",
    "\n",
    "**Classe**: Será transformada em categórica, para que seja aplicado One-Hot-Encoding.\n",
    "\n",
    "**Sexo**: Mulher terá valor 0 e Homem valor 1.\n",
    "\n",
    "**Cabine**: Se tiver a Cabine ficará com valor 1, os demais já estão como 0.\n",
    "\n",
    "**Local de Embarque**: Será transformada em categórica, para que seja aplicado One-Hot-Encoding.\n",
    "\n",
    "**Faixa Etária**: Idade < 6 = 0, Idade > 6 = 1, Sem idade  = 2.\n",
    "\n",
    "**Renda**: Baixa Renda = 0, Alta Renda = 1.\n",
    "\n",
    "**Título**: Será transformado em categórica, para que seja aplicado One-Hot-Encoding.\n",
    "\n",
    "**Preço da Passagem**: Será normalizado com um scaler."
   ]
  },
  {
   "cell_type": "code",
   "execution_count": 42,
   "id": "legendary-butler",
   "metadata": {
    "execution": {
     "iopub.execute_input": "2021-07-08T18:31:04.148240Z",
     "iopub.status.busy": "2021-07-08T18:31:04.147412Z",
     "iopub.status.idle": "2021-07-08T18:31:04.151663Z",
     "shell.execute_reply": "2021-07-08T18:31:04.151033Z",
     "shell.execute_reply.started": "2021-07-08T18:09:51.436747Z"
    },
    "papermill": {
     "duration": 0.108906,
     "end_time": "2021-07-08T18:31:04.151795",
     "exception": false,
     "start_time": "2021-07-08T18:31:04.042889",
     "status": "completed"
    },
    "tags": []
   },
   "outputs": [
    {
     "data": {
      "text/html": [
       "<div>\n",
       "<style scoped>\n",
       "    .dataframe tbody tr th:only-of-type {\n",
       "        vertical-align: middle;\n",
       "    }\n",
       "\n",
       "    .dataframe tbody tr th {\n",
       "        vertical-align: top;\n",
       "    }\n",
       "\n",
       "    .dataframe thead th {\n",
       "        text-align: right;\n",
       "    }\n",
       "</style>\n",
       "<table border=\"1\" class=\"dataframe\">\n",
       "  <thead>\n",
       "    <tr style=\"text-align: right;\">\n",
       "      <th></th>\n",
       "      <th>Sobreviveu</th>\n",
       "      <th>Classe</th>\n",
       "      <th>Sexo</th>\n",
       "      <th>Familiares</th>\n",
       "      <th>Dependentes</th>\n",
       "      <th>Cabine</th>\n",
       "      <th>Local de Embarque</th>\n",
       "      <th>Faixa Etária</th>\n",
       "      <th>Renda</th>\n",
       "      <th>Grupo</th>\n",
       "      <th>Título</th>\n",
       "    </tr>\n",
       "  </thead>\n",
       "  <tbody>\n",
       "    <tr>\n",
       "      <th>0</th>\n",
       "      <td>0</td>\n",
       "      <td>3</td>\n",
       "      <td>1</td>\n",
       "      <td>1</td>\n",
       "      <td>0</td>\n",
       "      <td>0</td>\n",
       "      <td>1</td>\n",
       "      <td>1</td>\n",
       "      <td>0</td>\n",
       "      <td>1</td>\n",
       "      <td>0</td>\n",
       "    </tr>\n",
       "    <tr>\n",
       "      <th>1</th>\n",
       "      <td>1</td>\n",
       "      <td>1</td>\n",
       "      <td>0</td>\n",
       "      <td>1</td>\n",
       "      <td>0</td>\n",
       "      <td>1</td>\n",
       "      <td>2</td>\n",
       "      <td>1</td>\n",
       "      <td>1</td>\n",
       "      <td>0</td>\n",
       "      <td>1</td>\n",
       "    </tr>\n",
       "    <tr>\n",
       "      <th>2</th>\n",
       "      <td>1</td>\n",
       "      <td>3</td>\n",
       "      <td>0</td>\n",
       "      <td>0</td>\n",
       "      <td>0</td>\n",
       "      <td>0</td>\n",
       "      <td>1</td>\n",
       "      <td>1</td>\n",
       "      <td>0</td>\n",
       "      <td>0</td>\n",
       "      <td>1</td>\n",
       "    </tr>\n",
       "    <tr>\n",
       "      <th>3</th>\n",
       "      <td>1</td>\n",
       "      <td>1</td>\n",
       "      <td>0</td>\n",
       "      <td>1</td>\n",
       "      <td>0</td>\n",
       "      <td>1</td>\n",
       "      <td>1</td>\n",
       "      <td>1</td>\n",
       "      <td>1</td>\n",
       "      <td>1</td>\n",
       "      <td>1</td>\n",
       "    </tr>\n",
       "    <tr>\n",
       "      <th>4</th>\n",
       "      <td>0</td>\n",
       "      <td>3</td>\n",
       "      <td>1</td>\n",
       "      <td>0</td>\n",
       "      <td>0</td>\n",
       "      <td>0</td>\n",
       "      <td>1</td>\n",
       "      <td>1</td>\n",
       "      <td>0</td>\n",
       "      <td>1</td>\n",
       "      <td>0</td>\n",
       "    </tr>\n",
       "  </tbody>\n",
       "</table>\n",
       "</div>"
      ],
      "text/plain": [
       "   Sobreviveu Classe  Sexo  Familiares  Dependentes  Cabine Local de Embarque  \\\n",
       "0           0      3     1           1            0       0                 1   \n",
       "1           1      1     0           1            0       1                 2   \n",
       "2           1      3     0           0            0       0                 1   \n",
       "3           1      1     0           1            0       1                 1   \n",
       "4           0      3     1           0            0       0                 1   \n",
       "\n",
       "  Faixa Etária  Renda  Grupo  Título  \n",
       "0            1      0      1       0  \n",
       "1            1      1      0       1  \n",
       "2            1      0      0       1  \n",
       "3            1      1      1       1  \n",
       "4            1      0      1       0  "
      ]
     },
     "execution_count": 42,
     "metadata": {},
     "output_type": "execute_result"
    }
   ],
   "source": [
    "# Fazer as transformações nos dados (essas mesmas transformações precisam ser aplicadas nos dados de Teste)\n",
    "df['Classe'] = df['Classe'].astype(str)\n",
    "df['Sexo'] = df['Sexo'].replace({'male': 1, 'female': 0})\n",
    "df.loc[df['Cabine'] != 0, 'Cabine'] = 1\n",
    "df['Cabine'] = df['Cabine'].astype(int)\n",
    "df['Local de Embarque'] = df['Local de Embarque'].replace({'S': 1, 'C': 2, 'Q': 3, 0: 2}).astype(str)\n",
    "df['Título'] = df['Título'].str.strip()\n",
    "df['Título'] = df['Título'].replace({'Mr': 0})\n",
    "df.loc[df['Título'] != 0, 'Título'] = 1\n",
    "df['Título'] = df['Título'].astype(int)\n",
    "df['Faixa Etária'] = df['Faixa Etária'].astype(str)\n",
    "df.head()"
   ]
  },
  {
   "cell_type": "code",
   "execution_count": 43,
   "id": "hispanic-hardwood",
   "metadata": {
    "execution": {
     "iopub.execute_input": "2021-07-08T18:31:04.370727Z",
     "iopub.status.busy": "2021-07-08T18:31:04.369970Z",
     "iopub.status.idle": "2021-07-08T18:31:04.373337Z",
     "shell.execute_reply": "2021-07-08T18:31:04.372890Z",
     "shell.execute_reply.started": "2021-07-08T18:09:51.477538Z"
    },
    "papermill": {
     "duration": 0.114427,
     "end_time": "2021-07-08T18:31:04.373436",
     "exception": false,
     "start_time": "2021-07-08T18:31:04.259009",
     "status": "completed"
    },
    "tags": []
   },
   "outputs": [
    {
     "data": {
      "text/plain": [
       "Sobreviveu            int64\n",
       "Classe               object\n",
       "Sexo                  int64\n",
       "Familiares            int64\n",
       "Dependentes           int64\n",
       "Cabine                int64\n",
       "Local de Embarque    object\n",
       "Faixa Etária         object\n",
       "Renda                 int64\n",
       "Grupo                 int64\n",
       "Título                int64\n",
       "dtype: object"
      ]
     },
     "execution_count": 43,
     "metadata": {},
     "output_type": "execute_result"
    }
   ],
   "source": [
    "# Avaliar os tipos de Dados, depois da transformação\n",
    "df.dtypes"
   ]
  },
  {
   "cell_type": "markdown",
   "id": "regular-remains",
   "metadata": {
    "papermill": {
     "duration": 0.069675,
     "end_time": "2021-07-08T18:31:04.511983",
     "exception": false,
     "start_time": "2021-07-08T18:31:04.442308",
     "status": "completed"
    },
    "tags": []
   },
   "source": [
    "# Treinamento e Validação do Modelo"
   ]
  },
  {
   "cell_type": "markdown",
   "id": "rapid-difficulty",
   "metadata": {
    "papermill": {
     "duration": 0.069963,
     "end_time": "2021-07-08T18:31:04.652358",
     "exception": false,
     "start_time": "2021-07-08T18:31:04.582395",
     "status": "completed"
    },
    "tags": []
   },
   "source": [
    "Agora que a base está pronta, podemos treinar um modelo para tentar prever a sobrevivência de um passageiros, dadas as características deste indivíduo. O primeiro passo consiste em dividir a base em duas partes, uma para Treino e Validação e outra para Teste do modelo. Isso precisa ser feito para que os processo de Normalização e One-Hot-Encoding sejam feitos na base de treino e as transformções sejam aplicadas na base de teste."
   ]
  },
  {
   "cell_type": "code",
   "execution_count": 44,
   "id": "documented-logan",
   "metadata": {
    "execution": {
     "iopub.execute_input": "2021-07-08T18:31:04.800298Z",
     "iopub.status.busy": "2021-07-08T18:31:04.799401Z",
     "iopub.status.idle": "2021-07-08T18:31:05.061525Z",
     "shell.execute_reply": "2021-07-08T18:31:05.060805Z",
     "shell.execute_reply.started": "2021-07-08T18:11:46.722180Z"
    },
    "papermill": {
     "duration": 0.339282,
     "end_time": "2021-07-08T18:31:05.061665",
     "exception": false,
     "start_time": "2021-07-08T18:31:04.722383",
     "status": "completed"
    },
    "tags": []
   },
   "outputs": [],
   "source": [
    "# Criar a matriz com as features e o vetor com a classe target\n",
    "X = df.drop('Sobreviveu', axis = 1)\n",
    "y = df['Sobreviveu']  \n",
    "\n",
    "# Dividir a base em Treino e Teste\n",
    "from sklearn.model_selection import train_test_split\n",
    "X_train, X_test, y_train, y_test = train_test_split(X, y, test_size=0.30, random_state=64)"
   ]
  },
  {
   "cell_type": "code",
   "execution_count": 45,
   "id": "exotic-springfield",
   "metadata": {
    "execution": {
     "iopub.execute_input": "2021-07-08T18:31:05.302064Z",
     "iopub.status.busy": "2021-07-08T18:31:05.287779Z",
     "iopub.status.idle": "2021-07-08T18:31:05.306615Z",
     "shell.execute_reply": "2021-07-08T18:31:05.306183Z",
     "shell.execute_reply.started": "2021-07-08T18:11:49.021669Z"
    },
    "papermill": {
     "duration": 0.13615,
     "end_time": "2021-07-08T18:31:05.306766",
     "exception": false,
     "start_time": "2021-07-08T18:31:05.170616",
     "status": "completed"
    },
    "tags": []
   },
   "outputs": [
    {
     "data": {
      "text/html": [
       "<div>\n",
       "<style scoped>\n",
       "    .dataframe tbody tr th:only-of-type {\n",
       "        vertical-align: middle;\n",
       "    }\n",
       "\n",
       "    .dataframe tbody tr th {\n",
       "        vertical-align: top;\n",
       "    }\n",
       "\n",
       "    .dataframe thead th {\n",
       "        text-align: right;\n",
       "    }\n",
       "</style>\n",
       "<table border=\"1\" class=\"dataframe\">\n",
       "  <thead>\n",
       "    <tr style=\"text-align: right;\">\n",
       "      <th></th>\n",
       "      <th>Sexo</th>\n",
       "      <th>Familiares</th>\n",
       "      <th>Dependentes</th>\n",
       "      <th>Cabine</th>\n",
       "      <th>Renda</th>\n",
       "      <th>Grupo</th>\n",
       "      <th>Título</th>\n",
       "      <th>Classe_1</th>\n",
       "      <th>Classe_2</th>\n",
       "      <th>Classe_3</th>\n",
       "      <th>Local de Embarque_1</th>\n",
       "      <th>Local de Embarque_2</th>\n",
       "      <th>Local de Embarque_3</th>\n",
       "      <th>Faixa Etária_0</th>\n",
       "      <th>Faixa Etária_1</th>\n",
       "      <th>Faixa Etária_2</th>\n",
       "    </tr>\n",
       "  </thead>\n",
       "  <tbody>\n",
       "    <tr>\n",
       "      <th>312</th>\n",
       "      <td>0</td>\n",
       "      <td>1</td>\n",
       "      <td>1</td>\n",
       "      <td>0</td>\n",
       "      <td>0</td>\n",
       "      <td>0</td>\n",
       "      <td>1</td>\n",
       "      <td>0</td>\n",
       "      <td>1</td>\n",
       "      <td>0</td>\n",
       "      <td>1</td>\n",
       "      <td>0</td>\n",
       "      <td>0</td>\n",
       "      <td>0</td>\n",
       "      <td>1</td>\n",
       "      <td>0</td>\n",
       "    </tr>\n",
       "    <tr>\n",
       "      <th>749</th>\n",
       "      <td>1</td>\n",
       "      <td>0</td>\n",
       "      <td>0</td>\n",
       "      <td>0</td>\n",
       "      <td>0</td>\n",
       "      <td>0</td>\n",
       "      <td>0</td>\n",
       "      <td>0</td>\n",
       "      <td>0</td>\n",
       "      <td>1</td>\n",
       "      <td>0</td>\n",
       "      <td>0</td>\n",
       "      <td>1</td>\n",
       "      <td>0</td>\n",
       "      <td>1</td>\n",
       "      <td>0</td>\n",
       "    </tr>\n",
       "    <tr>\n",
       "      <th>264</th>\n",
       "      <td>0</td>\n",
       "      <td>0</td>\n",
       "      <td>0</td>\n",
       "      <td>0</td>\n",
       "      <td>0</td>\n",
       "      <td>0</td>\n",
       "      <td>1</td>\n",
       "      <td>0</td>\n",
       "      <td>0</td>\n",
       "      <td>1</td>\n",
       "      <td>0</td>\n",
       "      <td>0</td>\n",
       "      <td>1</td>\n",
       "      <td>0</td>\n",
       "      <td>0</td>\n",
       "      <td>1</td>\n",
       "    </tr>\n",
       "    <tr>\n",
       "      <th>83</th>\n",
       "      <td>1</td>\n",
       "      <td>0</td>\n",
       "      <td>0</td>\n",
       "      <td>0</td>\n",
       "      <td>0</td>\n",
       "      <td>0</td>\n",
       "      <td>0</td>\n",
       "      <td>1</td>\n",
       "      <td>0</td>\n",
       "      <td>0</td>\n",
       "      <td>1</td>\n",
       "      <td>0</td>\n",
       "      <td>0</td>\n",
       "      <td>0</td>\n",
       "      <td>1</td>\n",
       "      <td>0</td>\n",
       "    </tr>\n",
       "    <tr>\n",
       "      <th>213</th>\n",
       "      <td>1</td>\n",
       "      <td>0</td>\n",
       "      <td>0</td>\n",
       "      <td>0</td>\n",
       "      <td>0</td>\n",
       "      <td>0</td>\n",
       "      <td>0</td>\n",
       "      <td>0</td>\n",
       "      <td>1</td>\n",
       "      <td>0</td>\n",
       "      <td>1</td>\n",
       "      <td>0</td>\n",
       "      <td>0</td>\n",
       "      <td>0</td>\n",
       "      <td>1</td>\n",
       "      <td>0</td>\n",
       "    </tr>\n",
       "  </tbody>\n",
       "</table>\n",
       "</div>"
      ],
      "text/plain": [
       "     Sexo  Familiares  Dependentes  Cabine  Renda  Grupo  Título  Classe_1  \\\n",
       "312     0           1            1       0      0      0       1         0   \n",
       "749     1           0            0       0      0      0       0         0   \n",
       "264     0           0            0       0      0      0       1         0   \n",
       "83      1           0            0       0      0      0       0         1   \n",
       "213     1           0            0       0      0      0       0         0   \n",
       "\n",
       "     Classe_2  Classe_3  Local de Embarque_1  Local de Embarque_2  \\\n",
       "312         1         0                    1                    0   \n",
       "749         0         1                    0                    0   \n",
       "264         0         1                    0                    0   \n",
       "83          0         0                    1                    0   \n",
       "213         1         0                    1                    0   \n",
       "\n",
       "     Local de Embarque_3  Faixa Etária_0  Faixa Etária_1  Faixa Etária_2  \n",
       "312                    0               0               1               0  \n",
       "749                    1               0               1               0  \n",
       "264                    1               0               0               1  \n",
       "83                     0               0               1               0  \n",
       "213                    0               0               1               0  "
      ]
     },
     "execution_count": 45,
     "metadata": {},
     "output_type": "execute_result"
    }
   ],
   "source": [
    "# Tratar colunas categóricas para colunas numéricas (label enconde)\n",
    "X_train = pd.get_dummies(X_train)\n",
    "X_train.head()"
   ]
  },
  {
   "cell_type": "code",
   "execution_count": 46,
   "id": "considered-dressing",
   "metadata": {
    "execution": {
     "iopub.execute_input": "2021-07-08T18:31:05.470641Z",
     "iopub.status.busy": "2021-07-08T18:31:05.470121Z",
     "iopub.status.idle": "2021-07-08T18:31:05.475560Z",
     "shell.execute_reply": "2021-07-08T18:31:05.475032Z",
     "shell.execute_reply.started": "2021-07-08T18:11:51.058854Z"
    },
    "papermill": {
     "duration": 0.099137,
     "end_time": "2021-07-08T18:31:05.475674",
     "exception": false,
     "start_time": "2021-07-08T18:31:05.376537",
     "status": "completed"
    },
    "tags": []
   },
   "outputs": [
    {
     "data": {
      "text/html": [
       "<div>\n",
       "<style scoped>\n",
       "    .dataframe tbody tr th:only-of-type {\n",
       "        vertical-align: middle;\n",
       "    }\n",
       "\n",
       "    .dataframe tbody tr th {\n",
       "        vertical-align: top;\n",
       "    }\n",
       "\n",
       "    .dataframe thead th {\n",
       "        text-align: right;\n",
       "    }\n",
       "</style>\n",
       "<table border=\"1\" class=\"dataframe\">\n",
       "  <thead>\n",
       "    <tr style=\"text-align: right;\">\n",
       "      <th></th>\n",
       "      <th>Sexo</th>\n",
       "      <th>Familiares</th>\n",
       "      <th>Dependentes</th>\n",
       "      <th>Cabine</th>\n",
       "      <th>Renda</th>\n",
       "      <th>Grupo</th>\n",
       "      <th>Título</th>\n",
       "      <th>Classe_1</th>\n",
       "      <th>Classe_2</th>\n",
       "      <th>Classe_3</th>\n",
       "      <th>Local de Embarque_1</th>\n",
       "      <th>Local de Embarque_2</th>\n",
       "      <th>Local de Embarque_3</th>\n",
       "      <th>Faixa Etária_0</th>\n",
       "      <th>Faixa Etária_1</th>\n",
       "      <th>Faixa Etária_2</th>\n",
       "    </tr>\n",
       "  </thead>\n",
       "  <tbody>\n",
       "    <tr>\n",
       "      <th>189</th>\n",
       "      <td>1</td>\n",
       "      <td>0</td>\n",
       "      <td>0</td>\n",
       "      <td>0</td>\n",
       "      <td>0</td>\n",
       "      <td>0</td>\n",
       "      <td>0</td>\n",
       "      <td>0</td>\n",
       "      <td>0</td>\n",
       "      <td>1</td>\n",
       "      <td>1</td>\n",
       "      <td>0</td>\n",
       "      <td>0</td>\n",
       "      <td>0</td>\n",
       "      <td>1</td>\n",
       "      <td>0</td>\n",
       "    </tr>\n",
       "    <tr>\n",
       "      <th>726</th>\n",
       "      <td>0</td>\n",
       "      <td>3</td>\n",
       "      <td>0</td>\n",
       "      <td>0</td>\n",
       "      <td>0</td>\n",
       "      <td>1</td>\n",
       "      <td>1</td>\n",
       "      <td>0</td>\n",
       "      <td>1</td>\n",
       "      <td>0</td>\n",
       "      <td>1</td>\n",
       "      <td>0</td>\n",
       "      <td>0</td>\n",
       "      <td>0</td>\n",
       "      <td>1</td>\n",
       "      <td>0</td>\n",
       "    </tr>\n",
       "    <tr>\n",
       "      <th>218</th>\n",
       "      <td>0</td>\n",
       "      <td>0</td>\n",
       "      <td>0</td>\n",
       "      <td>1</td>\n",
       "      <td>1</td>\n",
       "      <td>0</td>\n",
       "      <td>1</td>\n",
       "      <td>1</td>\n",
       "      <td>0</td>\n",
       "      <td>0</td>\n",
       "      <td>0</td>\n",
       "      <td>1</td>\n",
       "      <td>0</td>\n",
       "      <td>0</td>\n",
       "      <td>1</td>\n",
       "      <td>0</td>\n",
       "    </tr>\n",
       "    <tr>\n",
       "      <th>290</th>\n",
       "      <td>0</td>\n",
       "      <td>0</td>\n",
       "      <td>0</td>\n",
       "      <td>0</td>\n",
       "      <td>1</td>\n",
       "      <td>0</td>\n",
       "      <td>1</td>\n",
       "      <td>1</td>\n",
       "      <td>0</td>\n",
       "      <td>0</td>\n",
       "      <td>1</td>\n",
       "      <td>0</td>\n",
       "      <td>0</td>\n",
       "      <td>0</td>\n",
       "      <td>1</td>\n",
       "      <td>0</td>\n",
       "    </tr>\n",
       "    <tr>\n",
       "      <th>816</th>\n",
       "      <td>0</td>\n",
       "      <td>0</td>\n",
       "      <td>0</td>\n",
       "      <td>0</td>\n",
       "      <td>0</td>\n",
       "      <td>0</td>\n",
       "      <td>1</td>\n",
       "      <td>0</td>\n",
       "      <td>0</td>\n",
       "      <td>1</td>\n",
       "      <td>1</td>\n",
       "      <td>0</td>\n",
       "      <td>0</td>\n",
       "      <td>0</td>\n",
       "      <td>1</td>\n",
       "      <td>0</td>\n",
       "    </tr>\n",
       "  </tbody>\n",
       "</table>\n",
       "</div>"
      ],
      "text/plain": [
       "     Sexo  Familiares  Dependentes  Cabine  Renda  Grupo  Título  Classe_1  \\\n",
       "189     1           0            0       0      0      0       0         0   \n",
       "726     0           3            0       0      0      1       1         0   \n",
       "218     0           0            0       1      1      0       1         1   \n",
       "290     0           0            0       0      1      0       1         1   \n",
       "816     0           0            0       0      0      0       1         0   \n",
       "\n",
       "     Classe_2  Classe_3  Local de Embarque_1  Local de Embarque_2  \\\n",
       "189         0         1                    1                    0   \n",
       "726         1         0                    1                    0   \n",
       "218         0         0                    0                    1   \n",
       "290         0         0                    1                    0   \n",
       "816         0         1                    1                    0   \n",
       "\n",
       "     Local de Embarque_3  Faixa Etária_0  Faixa Etária_1  Faixa Etária_2  \n",
       "189                    0               0               1               0  \n",
       "726                    0               0               1               0  \n",
       "218                    0               0               1               0  \n",
       "290                    0               0               1               0  \n",
       "816                    0               0               1               0  "
      ]
     },
     "execution_count": 46,
     "metadata": {},
     "output_type": "execute_result"
    }
   ],
   "source": [
    "# Tratar colunas categóricas para colunas numéricas (label enconde)\n",
    "X_test = pd.get_dummies(X_test)\n",
    "X_test.head()"
   ]
  },
  {
   "cell_type": "code",
   "execution_count": 47,
   "id": "acute-destiny",
   "metadata": {
    "execution": {
     "iopub.execute_input": "2021-07-08T18:31:05.631859Z",
     "iopub.status.busy": "2021-07-08T18:31:05.626208Z",
     "iopub.status.idle": "2021-07-08T18:31:05.634774Z",
     "shell.execute_reply": "2021-07-08T18:31:05.634279Z",
     "shell.execute_reply.started": "2021-07-08T18:11:54.311803Z"
    },
    "papermill": {
     "duration": 0.087582,
     "end_time": "2021-07-08T18:31:05.634907",
     "exception": false,
     "start_time": "2021-07-08T18:31:05.547325",
     "status": "completed"
    },
    "tags": []
   },
   "outputs": [],
   "source": [
    "# Criar Scaler para tranformar Dataframe (aplicar no conjunto de teste)\n",
    "from sklearn.preprocessing import MinMaxScaler\n",
    "escala = MinMaxScaler()\n",
    "X_train = escala.fit_transform(X_train)\n",
    "X_test = escala.transform(X_test)"
   ]
  },
  {
   "cell_type": "markdown",
   "id": "stunning-lodge",
   "metadata": {
    "papermill": {
     "duration": 0.070673,
     "end_time": "2021-07-08T18:31:05.776355",
     "exception": false,
     "start_time": "2021-07-08T18:31:05.705682",
     "status": "completed"
    },
    "tags": []
   },
   "source": [
    "## Treinar e Testar alguns modelos"
   ]
  },
  {
   "cell_type": "code",
   "execution_count": 48,
   "id": "settled-variety",
   "metadata": {
    "execution": {
     "iopub.execute_input": "2021-07-08T18:31:05.926414Z",
     "iopub.status.busy": "2021-07-08T18:31:05.925924Z",
     "iopub.status.idle": "2021-07-08T18:31:08.020386Z",
     "shell.execute_reply": "2021-07-08T18:31:08.019732Z",
     "shell.execute_reply.started": "2021-07-08T18:12:40.047455Z"
    },
    "papermill": {
     "duration": 2.173043,
     "end_time": "2021-07-08T18:31:08.020520",
     "exception": false,
     "start_time": "2021-07-08T18:31:05.847477",
     "status": "completed"
    },
    "tags": []
   },
   "outputs": [
    {
     "name": "stdout",
     "output_type": "stream",
     "text": [
      "    rank_test_score  mean_test_score\n",
      "26                1         0.829833\n",
      "50                1         0.829833\n",
      "63                3         0.829817\n",
      "31                3         0.829817\n",
      "39                3         0.829817\n",
      "Melhores parâmetros: {'criterion': 'entropy', 'max_depth': 6, 'min_samples_leaf': 7}\n"
     ]
    }
   ],
   "source": [
    "# Testar Decision Tree\n",
    "from sklearn.model_selection import GridSearchCV\n",
    "from sklearn.tree import DecisionTreeClassifier\n",
    "\n",
    "clf_tree = DecisionTreeClassifier()\n",
    "parametros = {'min_samples_leaf':[5, 6, 7, 8, 9, 10, 15, 20], 'max_depth':[3, 4, 5, 6, 7, 8, 9, 10], 'criterion': ['entropy', 'gini']}\n",
    "grid = GridSearchCV(estimator=clf_tree, param_grid=parametros, scoring='accuracy', cv=6)\n",
    "\n",
    "# Validating Model\n",
    "grid.fit(X_train, y_train)\n",
    "print(pd.DataFrame(grid.cv_results_)[['rank_test_score','mean_test_score']].sort_values('rank_test_score').head(5))\n",
    "print(f'Melhores parâmetros: {grid.best_params_}')"
   ]
  },
  {
   "cell_type": "code",
   "execution_count": 49,
   "id": "forward-surrey",
   "metadata": {
    "execution": {
     "iopub.execute_input": "2021-07-08T18:31:08.247274Z",
     "iopub.status.busy": "2021-07-08T18:31:08.246625Z",
     "iopub.status.idle": "2021-07-08T18:31:08.252705Z",
     "shell.execute_reply": "2021-07-08T18:31:08.252052Z",
     "shell.execute_reply.started": "2021-07-08T18:12:53.758062Z"
    },
    "papermill": {
     "duration": 0.121275,
     "end_time": "2021-07-08T18:31:08.252868",
     "exception": false,
     "start_time": "2021-07-08T18:31:08.131593",
     "status": "completed"
    },
    "tags": []
   },
   "outputs": [],
   "source": [
    "# Traning Tuning Model\n",
    "tuning_clf_tree = DecisionTreeClassifier(criterion='gini', max_depth=8, min_samples_leaf=15)\n",
    "tuning_clf_tree.fit(X_train, y_train)\n",
    "y_pred = tuning_clf_tree.predict(X_test)"
   ]
  },
  {
   "cell_type": "code",
   "execution_count": 50,
   "id": "studied-replacement",
   "metadata": {
    "execution": {
     "iopub.execute_input": "2021-07-08T18:31:08.479581Z",
     "iopub.status.busy": "2021-07-08T18:31:08.475654Z",
     "iopub.status.idle": "2021-07-08T18:31:08.488242Z",
     "shell.execute_reply": "2021-07-08T18:31:08.488782Z",
     "shell.execute_reply.started": "2021-07-08T18:12:55.514575Z"
    },
    "papermill": {
     "duration": 0.127443,
     "end_time": "2021-07-08T18:31:08.488991",
     "exception": false,
     "start_time": "2021-07-08T18:31:08.361548",
     "status": "completed"
    },
    "tags": []
   },
   "outputs": [
    {
     "name": "stdout",
     "output_type": "stream",
     "text": [
      "Acurácia do Modelo Decision Tree: 80.97014925373134\n",
      "\n",
      "Matriz de Confusão Decision Tree\n",
      "     0   1\n",
      "0  153  12\n",
      "1   39  64\n",
      "Classification Report do Modelo Decision Tree\n",
      "              precision    recall  f1-score   support\n",
      "\n",
      "           0       0.80      0.93      0.86       165\n",
      "           1       0.84      0.62      0.72       103\n",
      "\n",
      "    accuracy                           0.81       268\n",
      "   macro avg       0.82      0.77      0.79       268\n",
      "weighted avg       0.81      0.81      0.80       268\n",
      "\n"
     ]
    }
   ],
   "source": [
    "from sklearn.metrics import classification_report, confusion_matrix, accuracy_score\n",
    "\n",
    "# Evaluating Model Accuracy\n",
    "print(f'Acurácia do Modelo Decision Tree: {accuracy_score(y_test, y_pred)*100}')\n",
    "\n",
    "# Evaluating Model Confusion Matrix\n",
    "matriz_tree = pd.DataFrame(confusion_matrix(y_test, y_pred))\n",
    "print('\\nMatriz de Confusão Decision Tree') \n",
    "print(matriz_tree)\n",
    "\n",
    "# Evaluating Model classification Report \n",
    "print('Classification Report do Modelo Decision Tree')\n",
    "print (classification_report(y_test, y_pred))"
   ]
  },
  {
   "cell_type": "code",
   "execution_count": 51,
   "id": "opened-wireless",
   "metadata": {
    "execution": {
     "iopub.execute_input": "2021-07-08T18:31:08.718030Z",
     "iopub.status.busy": "2021-07-08T18:31:08.717486Z",
     "iopub.status.idle": "2021-07-08T18:31:08.832775Z",
     "shell.execute_reply": "2021-07-08T18:31:08.832349Z",
     "shell.execute_reply.started": "2021-07-08T18:13:01.471056Z"
    },
    "papermill": {
     "duration": 0.235112,
     "end_time": "2021-07-08T18:31:08.832907",
     "exception": false,
     "start_time": "2021-07-08T18:31:08.597795",
     "status": "completed"
    },
    "tags": []
   },
   "outputs": [
    {
     "name": "stdout",
     "output_type": "stream",
     "text": [
      "   rank_test_score  mean_test_score\n",
      "5                1         0.765637\n",
      "0                2         0.762416\n",
      "1                2         0.762416\n",
      "2                2         0.762416\n",
      "3                2         0.762416\n",
      "Melhores parâmetros: {'var_smoothing': 0.1}\n"
     ]
    }
   ],
   "source": [
    "# Testar Naive Bayes\n",
    "from sklearn.naive_bayes import GaussianNB\n",
    "clf_NaiveBayes = GaussianNB()\n",
    "params = {'var_smoothing':[1e-6, 1e-5, 1e-4, 1e-3, 1e-2, 1e-1, 2e-2, 3e-3]}\n",
    "grid = GridSearchCV(estimator=clf_NaiveBayes, param_grid=params, scoring='accuracy', cv=6)\n",
    "\n",
    "# Training and Validating Model\n",
    "grid.fit(X_train, y_train)\n",
    "print(pd.DataFrame(grid.cv_results_)[['rank_test_score','mean_test_score']].sort_values('rank_test_score').head(5))\n",
    "print(f'Melhores parâmetros: {grid.best_params_}')"
   ]
  },
  {
   "cell_type": "code",
   "execution_count": 52,
   "id": "necessary-spread",
   "metadata": {
    "execution": {
     "iopub.execute_input": "2021-07-08T18:31:08.987515Z",
     "iopub.status.busy": "2021-07-08T18:31:08.987009Z",
     "iopub.status.idle": "2021-07-08T18:31:50.152294Z",
     "shell.execute_reply": "2021-07-08T18:31:50.152672Z",
     "shell.execute_reply.started": "2021-07-08T18:13:04.931404Z"
    },
    "papermill": {
     "duration": 41.246899,
     "end_time": "2021-07-08T18:31:50.152808",
     "exception": false,
     "start_time": "2021-07-08T18:31:08.905909",
     "status": "completed"
    },
    "tags": []
   },
   "outputs": [
    {
     "name": "stdout",
     "output_type": "stream",
     "text": [
      "     rank_test_score  mean_test_score\n",
      "122                1         0.869988\n",
      "127                2         0.866820\n",
      "123                3         0.864070\n",
      "101                4         0.863763\n",
      "126                5         0.861905\n",
      "Melhores parâmetros: {'learning_rate': 0.1, 'max_depth': 2, 'n_estimators': 50}\n"
     ]
    }
   ],
   "source": [
    "import warnings\n",
    "warnings.filterwarnings('ignore')\n",
    "\n",
    "# Testar XGBoost\n",
    "from sklearn.model_selection import GridSearchCV\n",
    "from xgboost import XGBRegressor\n",
    "clf_xgb = XGBRegressor()\n",
    "params = {'learning_rate':[1e-5, 1e-4, 1e-3, 1e-2, 1e-1], 'max_depth': [2, 3, 4, 5, 6], 'n_estimators': [10, 20, 50, 70, 100, 110]}\n",
    "grid = GridSearchCV(estimator=clf_xgb, param_grid=params, scoring='roc_auc', cv=6)\n",
    "\n",
    "# Training and Validating Model\n",
    "grid.fit(X_train, y_train)\n",
    "print(pd.DataFrame(grid.cv_results_)[['rank_test_score','mean_test_score']].sort_values('rank_test_score').head(5))\n",
    "print(f'Melhores parâmetros: {grid.best_params_}')"
   ]
  },
  {
   "cell_type": "code",
   "execution_count": 53,
   "id": "false-driving",
   "metadata": {
    "execution": {
     "iopub.execute_input": "2021-07-08T18:31:50.313326Z",
     "iopub.status.busy": "2021-07-08T18:31:50.312744Z",
     "iopub.status.idle": "2021-07-08T18:31:50.336882Z",
     "shell.execute_reply": "2021-07-08T18:31:50.337319Z",
     "shell.execute_reply.started": "2021-07-08T18:14:16.594369Z"
    },
    "papermill": {
     "duration": 0.112233,
     "end_time": "2021-07-08T18:31:50.337467",
     "exception": false,
     "start_time": "2021-07-08T18:31:50.225234",
     "status": "completed"
    },
    "tags": []
   },
   "outputs": [],
   "source": [
    "# Tuning Model (XGBoost)\n",
    "tuning_clf_xgb = XGBRegressor(learning_rate = 0.1, max_depth = 2, n_estimators = 50)\n",
    "tuning_clf_xgb.fit(X_train, y_train)\n",
    "y_pred = tuning_clf_xgb.predict(X_test)"
   ]
  },
  {
   "cell_type": "code",
   "execution_count": 54,
   "id": "national-theology",
   "metadata": {
    "execution": {
     "iopub.execute_input": "2021-07-08T18:31:50.493576Z",
     "iopub.status.busy": "2021-07-08T18:31:50.493039Z",
     "iopub.status.idle": "2021-07-08T18:31:50.504510Z",
     "shell.execute_reply": "2021-07-08T18:31:50.504048Z",
     "shell.execute_reply.started": "2021-07-08T18:14:18.644078Z"
    },
    "papermill": {
     "duration": 0.093614,
     "end_time": "2021-07-08T18:31:50.504632",
     "exception": false,
     "start_time": "2021-07-08T18:31:50.411018",
     "status": "completed"
    },
    "tags": []
   },
   "outputs": [
    {
     "name": "stdout",
     "output_type": "stream",
     "text": [
      "Acurácia do Modelo XGBoost: 81.71641791044776\n",
      "\n",
      "Matriz de Confusão do Modelo XGBoost\n",
      "     0   1\n",
      "0  143  22\n",
      "1   27  76\n",
      "Classification Report do Modelo XGBoost\n",
      "              precision    recall  f1-score   support\n",
      "\n",
      "           0       0.84      0.87      0.85       165\n",
      "           1       0.78      0.74      0.76       103\n",
      "\n",
      "    accuracy                           0.82       268\n",
      "   macro avg       0.81      0.80      0.80       268\n",
      "weighted avg       0.82      0.82      0.82       268\n",
      "\n"
     ]
    }
   ],
   "source": [
    "# Avaliar o desempenho final do Modelo (XGBoost)\n",
    "from sklearn.metrics import classification_report, confusion_matrix, accuracy_score\n",
    "predictions = [round(value) for value in y_pred]\n",
    "\n",
    "# Evaluating Model Accuracy\n",
    "print(f'Acurácia do Modelo XGBoost: {accuracy_score(y_test, predictions)*100}')\n",
    "\n",
    "# Evaluating Model Confusion Matrix\n",
    "matriz_xgb = pd.DataFrame(confusion_matrix(y_test, predictions))\n",
    "print('\\nMatriz de Confusão do Modelo XGBoost') \n",
    "print(matriz_xgb)\n",
    "\n",
    "# Evaluating Model classification Report \n",
    "print('Classification Report do Modelo XGBoost')\n",
    "print (classification_report(y_test, predictions))"
   ]
  },
  {
   "cell_type": "markdown",
   "id": "frequent-warrior",
   "metadata": {
    "papermill": {
     "duration": 0.072434,
     "end_time": "2021-07-08T18:31:50.650509",
     "exception": false,
     "start_time": "2021-07-08T18:31:50.578075",
     "status": "completed"
    },
    "tags": []
   },
   "source": [
    "Avaliando a Matriz de Confusão e também a Precision e Recall, podemos perceber que o desbalanceamento da classe Target está atrapalhando um pouco o desempenho do modelo. Ainda assim esses valores são bem resoáveis para uma análise com a finalidade apenas de estudar e testar o conhecimento. \n",
    "Vou rodar todo o tratamento na base de Test e fazer a previsão final, queserá submetida na competição."
   ]
  },
  {
   "cell_type": "markdown",
   "id": "missing-british",
   "metadata": {
    "papermill": {
     "duration": 0.072012,
     "end_time": "2021-07-08T18:31:50.798455",
     "exception": false,
     "start_time": "2021-07-08T18:31:50.726443",
     "status": "completed"
    },
    "tags": []
   },
   "source": [
    "# Aplicação do Modelo e Submissão do Resultado"
   ]
  },
  {
   "cell_type": "code",
   "execution_count": 55,
   "id": "french-controversy",
   "metadata": {
    "execution": {
     "iopub.execute_input": "2021-07-08T18:31:50.944318Z",
     "iopub.status.busy": "2021-07-08T18:31:50.943847Z",
     "iopub.status.idle": "2021-07-08T18:31:50.972081Z",
     "shell.execute_reply": "2021-07-08T18:31:50.971553Z",
     "shell.execute_reply.started": "2021-07-08T18:15:03.598965Z"
    },
    "papermill": {
     "duration": 0.102178,
     "end_time": "2021-07-08T18:31:50.972199",
     "exception": false,
     "start_time": "2021-07-08T18:31:50.870021",
     "status": "completed"
    },
    "tags": []
   },
   "outputs": [
    {
     "name": "stdout",
     "output_type": "stream",
     "text": [
      "Número de Linhas e Colunas: (418, 11)\n"
     ]
    },
    {
     "data": {
      "text/html": [
       "<div>\n",
       "<style scoped>\n",
       "    .dataframe tbody tr th:only-of-type {\n",
       "        vertical-align: middle;\n",
       "    }\n",
       "\n",
       "    .dataframe tbody tr th {\n",
       "        vertical-align: top;\n",
       "    }\n",
       "\n",
       "    .dataframe thead th {\n",
       "        text-align: right;\n",
       "    }\n",
       "</style>\n",
       "<table border=\"1\" class=\"dataframe\">\n",
       "  <thead>\n",
       "    <tr style=\"text-align: right;\">\n",
       "      <th></th>\n",
       "      <th>PassengerId</th>\n",
       "      <th>Pclass</th>\n",
       "      <th>Name</th>\n",
       "      <th>Sex</th>\n",
       "      <th>Age</th>\n",
       "      <th>SibSp</th>\n",
       "      <th>Parch</th>\n",
       "      <th>Ticket</th>\n",
       "      <th>Fare</th>\n",
       "      <th>Cabin</th>\n",
       "      <th>Embarked</th>\n",
       "    </tr>\n",
       "  </thead>\n",
       "  <tbody>\n",
       "    <tr>\n",
       "      <th>0</th>\n",
       "      <td>892</td>\n",
       "      <td>3</td>\n",
       "      <td>Kelly, Mr. James</td>\n",
       "      <td>male</td>\n",
       "      <td>34.5</td>\n",
       "      <td>0</td>\n",
       "      <td>0</td>\n",
       "      <td>330911</td>\n",
       "      <td>7.8292</td>\n",
       "      <td>NaN</td>\n",
       "      <td>Q</td>\n",
       "    </tr>\n",
       "    <tr>\n",
       "      <th>1</th>\n",
       "      <td>893</td>\n",
       "      <td>3</td>\n",
       "      <td>Wilkes, Mrs. James (Ellen Needs)</td>\n",
       "      <td>female</td>\n",
       "      <td>47.0</td>\n",
       "      <td>1</td>\n",
       "      <td>0</td>\n",
       "      <td>363272</td>\n",
       "      <td>7.0000</td>\n",
       "      <td>NaN</td>\n",
       "      <td>S</td>\n",
       "    </tr>\n",
       "    <tr>\n",
       "      <th>2</th>\n",
       "      <td>894</td>\n",
       "      <td>2</td>\n",
       "      <td>Myles, Mr. Thomas Francis</td>\n",
       "      <td>male</td>\n",
       "      <td>62.0</td>\n",
       "      <td>0</td>\n",
       "      <td>0</td>\n",
       "      <td>240276</td>\n",
       "      <td>9.6875</td>\n",
       "      <td>NaN</td>\n",
       "      <td>Q</td>\n",
       "    </tr>\n",
       "    <tr>\n",
       "      <th>3</th>\n",
       "      <td>895</td>\n",
       "      <td>3</td>\n",
       "      <td>Wirz, Mr. Albert</td>\n",
       "      <td>male</td>\n",
       "      <td>27.0</td>\n",
       "      <td>0</td>\n",
       "      <td>0</td>\n",
       "      <td>315154</td>\n",
       "      <td>8.6625</td>\n",
       "      <td>NaN</td>\n",
       "      <td>S</td>\n",
       "    </tr>\n",
       "    <tr>\n",
       "      <th>4</th>\n",
       "      <td>896</td>\n",
       "      <td>3</td>\n",
       "      <td>Hirvonen, Mrs. Alexander (Helga E Lindqvist)</td>\n",
       "      <td>female</td>\n",
       "      <td>22.0</td>\n",
       "      <td>1</td>\n",
       "      <td>1</td>\n",
       "      <td>3101298</td>\n",
       "      <td>12.2875</td>\n",
       "      <td>NaN</td>\n",
       "      <td>S</td>\n",
       "    </tr>\n",
       "  </tbody>\n",
       "</table>\n",
       "</div>"
      ],
      "text/plain": [
       "   PassengerId  Pclass                                          Name     Sex  \\\n",
       "0          892       3                              Kelly, Mr. James    male   \n",
       "1          893       3              Wilkes, Mrs. James (Ellen Needs)  female   \n",
       "2          894       2                     Myles, Mr. Thomas Francis    male   \n",
       "3          895       3                              Wirz, Mr. Albert    male   \n",
       "4          896       3  Hirvonen, Mrs. Alexander (Helga E Lindqvist)  female   \n",
       "\n",
       "    Age  SibSp  Parch   Ticket     Fare Cabin Embarked  \n",
       "0  34.5      0      0   330911   7.8292   NaN        Q  \n",
       "1  47.0      1      0   363272   7.0000   NaN        S  \n",
       "2  62.0      0      0   240276   9.6875   NaN        Q  \n",
       "3  27.0      0      0   315154   8.6625   NaN        S  \n",
       "4  22.0      1      1  3101298  12.2875   NaN        S  "
      ]
     },
     "execution_count": 55,
     "metadata": {},
     "output_type": "execute_result"
    }
   ],
   "source": [
    "# Abrir a base de Test\n",
    "df_final = pd.read_csv('../input/titanic/test.csv')\n",
    "print(f'Número de Linhas e Colunas: {df_final.shape}')\n",
    "df_final.head()"
   ]
  },
  {
   "cell_type": "code",
   "execution_count": 56,
   "id": "golden-container",
   "metadata": {
    "execution": {
     "iopub.execute_input": "2021-07-08T18:31:51.132240Z",
     "iopub.status.busy": "2021-07-08T18:31:51.131621Z",
     "iopub.status.idle": "2021-07-08T18:31:51.135351Z",
     "shell.execute_reply": "2021-07-08T18:31:51.134788Z",
     "shell.execute_reply.started": "2021-07-08T18:20:55.636713Z"
    },
    "papermill": {
     "duration": 0.086103,
     "end_time": "2021-07-08T18:31:51.135473",
     "exception": false,
     "start_time": "2021-07-08T18:31:51.049370",
     "status": "completed"
    },
    "tags": []
   },
   "outputs": [],
   "source": [
    "# Criar a coluna Faixa Etária \n",
    "conditions = [\n",
    "    (df_final['Age'] <= 6.0),\n",
    "    (df_final['Age'] > 6.0),\n",
    "    (df_final['Age'].isnull())]\n",
    "choices = [0, 1, 2]\n",
    "df_final['Faixa Etária'] = np.select(conditions, choices)"
   ]
  },
  {
   "cell_type": "code",
   "execution_count": 57,
   "id": "exact-taxation",
   "metadata": {
    "execution": {
     "iopub.execute_input": "2021-07-08T18:31:51.294877Z",
     "iopub.status.busy": "2021-07-08T18:31:51.294347Z",
     "iopub.status.idle": "2021-07-08T18:31:51.298108Z",
     "shell.execute_reply": "2021-07-08T18:31:51.298543Z",
     "shell.execute_reply.started": "2021-07-08T18:21:08.831228Z"
    },
    "papermill": {
     "duration": 0.086173,
     "end_time": "2021-07-08T18:31:51.298698",
     "exception": false,
     "start_time": "2021-07-08T18:31:51.212525",
     "status": "completed"
    },
    "tags": []
   },
   "outputs": [],
   "source": [
    "# Criar a coluna Renda \n",
    "conditions = [\n",
    "    (df_final['Fare'] <= 48.0),\n",
    "    (df_final['Fare'] > 48.0)]\n",
    "choices = [0, 1]\n",
    "df_final['Renda'] = np.select(conditions, choices)"
   ]
  },
  {
   "cell_type": "code",
   "execution_count": 58,
   "id": "danish-thunder",
   "metadata": {
    "execution": {
     "iopub.execute_input": "2021-07-08T18:31:51.477553Z",
     "iopub.status.busy": "2021-07-08T18:31:51.461595Z",
     "iopub.status.idle": "2021-07-08T18:31:51.483582Z",
     "shell.execute_reply": "2021-07-08T18:31:51.482993Z",
     "shell.execute_reply.started": "2021-07-08T18:21:44.087652Z"
    },
    "papermill": {
     "duration": 0.109253,
     "end_time": "2021-07-08T18:31:51.483706",
     "exception": false,
     "start_time": "2021-07-08T18:31:51.374453",
     "status": "completed"
    },
    "tags": []
   },
   "outputs": [
    {
     "data": {
      "text/html": [
       "<div>\n",
       "<style scoped>\n",
       "    .dataframe tbody tr th:only-of-type {\n",
       "        vertical-align: middle;\n",
       "    }\n",
       "\n",
       "    .dataframe tbody tr th {\n",
       "        vertical-align: top;\n",
       "    }\n",
       "\n",
       "    .dataframe thead th {\n",
       "        text-align: right;\n",
       "    }\n",
       "</style>\n",
       "<table border=\"1\" class=\"dataframe\">\n",
       "  <thead>\n",
       "    <tr style=\"text-align: right;\">\n",
       "      <th></th>\n",
       "      <th>PassengerId</th>\n",
       "      <th>Pclass</th>\n",
       "      <th>Name</th>\n",
       "      <th>Sex</th>\n",
       "      <th>Age</th>\n",
       "      <th>SibSp</th>\n",
       "      <th>Parch</th>\n",
       "      <th>Ticket</th>\n",
       "      <th>Fare</th>\n",
       "      <th>Cabin</th>\n",
       "      <th>Embarked</th>\n",
       "      <th>Faixa Etária</th>\n",
       "      <th>Renda</th>\n",
       "      <th>Sobrenome</th>\n",
       "      <th>Grupo</th>\n",
       "    </tr>\n",
       "  </thead>\n",
       "  <tbody>\n",
       "    <tr>\n",
       "      <th>0</th>\n",
       "      <td>892</td>\n",
       "      <td>3</td>\n",
       "      <td>Kelly, Mr. James</td>\n",
       "      <td>male</td>\n",
       "      <td>34.5</td>\n",
       "      <td>0</td>\n",
       "      <td>0</td>\n",
       "      <td>330911</td>\n",
       "      <td>7.8292</td>\n",
       "      <td>NaN</td>\n",
       "      <td>Q</td>\n",
       "      <td>1</td>\n",
       "      <td>0</td>\n",
       "      <td>Kelly</td>\n",
       "      <td>0</td>\n",
       "    </tr>\n",
       "    <tr>\n",
       "      <th>1</th>\n",
       "      <td>893</td>\n",
       "      <td>3</td>\n",
       "      <td>Wilkes, Mrs. James (Ellen Needs)</td>\n",
       "      <td>female</td>\n",
       "      <td>47.0</td>\n",
       "      <td>1</td>\n",
       "      <td>0</td>\n",
       "      <td>363272</td>\n",
       "      <td>7.0000</td>\n",
       "      <td>NaN</td>\n",
       "      <td>S</td>\n",
       "      <td>1</td>\n",
       "      <td>0</td>\n",
       "      <td>Wilkes</td>\n",
       "      <td>0</td>\n",
       "    </tr>\n",
       "    <tr>\n",
       "      <th>2</th>\n",
       "      <td>894</td>\n",
       "      <td>2</td>\n",
       "      <td>Myles, Mr. Thomas Francis</td>\n",
       "      <td>male</td>\n",
       "      <td>62.0</td>\n",
       "      <td>0</td>\n",
       "      <td>0</td>\n",
       "      <td>240276</td>\n",
       "      <td>9.6875</td>\n",
       "      <td>NaN</td>\n",
       "      <td>Q</td>\n",
       "      <td>1</td>\n",
       "      <td>0</td>\n",
       "      <td>Myles</td>\n",
       "      <td>0</td>\n",
       "    </tr>\n",
       "    <tr>\n",
       "      <th>3</th>\n",
       "      <td>895</td>\n",
       "      <td>3</td>\n",
       "      <td>Wirz, Mr. Albert</td>\n",
       "      <td>male</td>\n",
       "      <td>27.0</td>\n",
       "      <td>0</td>\n",
       "      <td>0</td>\n",
       "      <td>315154</td>\n",
       "      <td>8.6625</td>\n",
       "      <td>NaN</td>\n",
       "      <td>S</td>\n",
       "      <td>1</td>\n",
       "      <td>0</td>\n",
       "      <td>Wirz</td>\n",
       "      <td>0</td>\n",
       "    </tr>\n",
       "    <tr>\n",
       "      <th>4</th>\n",
       "      <td>896</td>\n",
       "      <td>3</td>\n",
       "      <td>Hirvonen, Mrs. Alexander (Helga E Lindqvist)</td>\n",
       "      <td>female</td>\n",
       "      <td>22.0</td>\n",
       "      <td>1</td>\n",
       "      <td>1</td>\n",
       "      <td>3101298</td>\n",
       "      <td>12.2875</td>\n",
       "      <td>NaN</td>\n",
       "      <td>S</td>\n",
       "      <td>1</td>\n",
       "      <td>0</td>\n",
       "      <td>Hirvonen</td>\n",
       "      <td>0</td>\n",
       "    </tr>\n",
       "  </tbody>\n",
       "</table>\n",
       "</div>"
      ],
      "text/plain": [
       "   PassengerId  Pclass                                          Name     Sex  \\\n",
       "0          892       3                              Kelly, Mr. James    male   \n",
       "1          893       3              Wilkes, Mrs. James (Ellen Needs)  female   \n",
       "2          894       2                     Myles, Mr. Thomas Francis    male   \n",
       "3          895       3                              Wirz, Mr. Albert    male   \n",
       "4          896       3  Hirvonen, Mrs. Alexander (Helga E Lindqvist)  female   \n",
       "\n",
       "    Age  SibSp  Parch   Ticket     Fare Cabin Embarked  Faixa Etária  Renda  \\\n",
       "0  34.5      0      0   330911   7.8292   NaN        Q             1      0   \n",
       "1  47.0      1      0   363272   7.0000   NaN        S             1      0   \n",
       "2  62.0      0      0   240276   9.6875   NaN        Q             1      0   \n",
       "3  27.0      0      0   315154   8.6625   NaN        S             1      0   \n",
       "4  22.0      1      1  3101298  12.2875   NaN        S             1      0   \n",
       "\n",
       "  Sobrenome  Grupo  \n",
       "0     Kelly      0  \n",
       "1    Wilkes      0  \n",
       "2     Myles      0  \n",
       "3      Wirz      0  \n",
       "4  Hirvonen      0  "
      ]
     },
     "execution_count": 58,
     "metadata": {},
     "output_type": "execute_result"
    }
   ],
   "source": [
    "# Criar a coluna Grupo \n",
    "df_final['Sobrenome'] = df_final['Name'].str.split(',').str[0]\n",
    "df_final['Grupo'] = df_final.duplicated(subset=['Sobrenome'], keep=False)\n",
    "df_final['Grupo'] = df_final['Grupo'].replace({True: 1, False: 0})\n",
    "df_final.head()"
   ]
  },
  {
   "cell_type": "code",
   "execution_count": 59,
   "id": "elder-element",
   "metadata": {
    "execution": {
     "iopub.execute_input": "2021-07-08T18:31:51.645128Z",
     "iopub.status.busy": "2021-07-08T18:31:51.641158Z",
     "iopub.status.idle": "2021-07-08T18:31:51.666855Z",
     "shell.execute_reply": "2021-07-08T18:31:51.666431Z",
     "shell.execute_reply.started": "2021-07-08T18:22:32.215232Z"
    },
    "papermill": {
     "duration": 0.107002,
     "end_time": "2021-07-08T18:31:51.666962",
     "exception": false,
     "start_time": "2021-07-08T18:31:51.559960",
     "status": "completed"
    },
    "tags": []
   },
   "outputs": [
    {
     "data": {
      "text/html": [
       "<div>\n",
       "<style scoped>\n",
       "    .dataframe tbody tr th:only-of-type {\n",
       "        vertical-align: middle;\n",
       "    }\n",
       "\n",
       "    .dataframe tbody tr th {\n",
       "        vertical-align: top;\n",
       "    }\n",
       "\n",
       "    .dataframe thead th {\n",
       "        text-align: right;\n",
       "    }\n",
       "</style>\n",
       "<table border=\"1\" class=\"dataframe\">\n",
       "  <thead>\n",
       "    <tr style=\"text-align: right;\">\n",
       "      <th></th>\n",
       "      <th>PassengerId</th>\n",
       "      <th>Pclass</th>\n",
       "      <th>Name</th>\n",
       "      <th>Sex</th>\n",
       "      <th>Age</th>\n",
       "      <th>SibSp</th>\n",
       "      <th>Parch</th>\n",
       "      <th>Ticket</th>\n",
       "      <th>Fare</th>\n",
       "      <th>Cabin</th>\n",
       "      <th>Embarked</th>\n",
       "      <th>Faixa Etária</th>\n",
       "      <th>Renda</th>\n",
       "      <th>Sobrenome</th>\n",
       "      <th>Grupo</th>\n",
       "      <th>Título</th>\n",
       "    </tr>\n",
       "  </thead>\n",
       "  <tbody>\n",
       "    <tr>\n",
       "      <th>0</th>\n",
       "      <td>892</td>\n",
       "      <td>3</td>\n",
       "      <td>Kelly, Mr. James</td>\n",
       "      <td>male</td>\n",
       "      <td>34.5</td>\n",
       "      <td>0</td>\n",
       "      <td>0</td>\n",
       "      <td>330911</td>\n",
       "      <td>7.8292</td>\n",
       "      <td>NaN</td>\n",
       "      <td>Q</td>\n",
       "      <td>1</td>\n",
       "      <td>0</td>\n",
       "      <td>Kelly</td>\n",
       "      <td>0</td>\n",
       "      <td>Mr</td>\n",
       "    </tr>\n",
       "    <tr>\n",
       "      <th>1</th>\n",
       "      <td>893</td>\n",
       "      <td>3</td>\n",
       "      <td>Wilkes, Mrs. James (Ellen Needs)</td>\n",
       "      <td>female</td>\n",
       "      <td>47.0</td>\n",
       "      <td>1</td>\n",
       "      <td>0</td>\n",
       "      <td>363272</td>\n",
       "      <td>7.0000</td>\n",
       "      <td>NaN</td>\n",
       "      <td>S</td>\n",
       "      <td>1</td>\n",
       "      <td>0</td>\n",
       "      <td>Wilkes</td>\n",
       "      <td>0</td>\n",
       "      <td>Mrs</td>\n",
       "    </tr>\n",
       "    <tr>\n",
       "      <th>2</th>\n",
       "      <td>894</td>\n",
       "      <td>2</td>\n",
       "      <td>Myles, Mr. Thomas Francis</td>\n",
       "      <td>male</td>\n",
       "      <td>62.0</td>\n",
       "      <td>0</td>\n",
       "      <td>0</td>\n",
       "      <td>240276</td>\n",
       "      <td>9.6875</td>\n",
       "      <td>NaN</td>\n",
       "      <td>Q</td>\n",
       "      <td>1</td>\n",
       "      <td>0</td>\n",
       "      <td>Myles</td>\n",
       "      <td>0</td>\n",
       "      <td>Mr</td>\n",
       "    </tr>\n",
       "    <tr>\n",
       "      <th>3</th>\n",
       "      <td>895</td>\n",
       "      <td>3</td>\n",
       "      <td>Wirz, Mr. Albert</td>\n",
       "      <td>male</td>\n",
       "      <td>27.0</td>\n",
       "      <td>0</td>\n",
       "      <td>0</td>\n",
       "      <td>315154</td>\n",
       "      <td>8.6625</td>\n",
       "      <td>NaN</td>\n",
       "      <td>S</td>\n",
       "      <td>1</td>\n",
       "      <td>0</td>\n",
       "      <td>Wirz</td>\n",
       "      <td>0</td>\n",
       "      <td>Mr</td>\n",
       "    </tr>\n",
       "    <tr>\n",
       "      <th>4</th>\n",
       "      <td>896</td>\n",
       "      <td>3</td>\n",
       "      <td>Hirvonen, Mrs. Alexander (Helga E Lindqvist)</td>\n",
       "      <td>female</td>\n",
       "      <td>22.0</td>\n",
       "      <td>1</td>\n",
       "      <td>1</td>\n",
       "      <td>3101298</td>\n",
       "      <td>12.2875</td>\n",
       "      <td>NaN</td>\n",
       "      <td>S</td>\n",
       "      <td>1</td>\n",
       "      <td>0</td>\n",
       "      <td>Hirvonen</td>\n",
       "      <td>0</td>\n",
       "      <td>Mrs</td>\n",
       "    </tr>\n",
       "  </tbody>\n",
       "</table>\n",
       "</div>"
      ],
      "text/plain": [
       "   PassengerId  Pclass                                          Name     Sex  \\\n",
       "0          892       3                              Kelly, Mr. James    male   \n",
       "1          893       3              Wilkes, Mrs. James (Ellen Needs)  female   \n",
       "2          894       2                     Myles, Mr. Thomas Francis    male   \n",
       "3          895       3                              Wirz, Mr. Albert    male   \n",
       "4          896       3  Hirvonen, Mrs. Alexander (Helga E Lindqvist)  female   \n",
       "\n",
       "    Age  SibSp  Parch   Ticket     Fare Cabin Embarked  Faixa Etária  Renda  \\\n",
       "0  34.5      0      0   330911   7.8292   NaN        Q             1      0   \n",
       "1  47.0      1      0   363272   7.0000   NaN        S             1      0   \n",
       "2  62.0      0      0   240276   9.6875   NaN        Q             1      0   \n",
       "3  27.0      0      0   315154   8.6625   NaN        S             1      0   \n",
       "4  22.0      1      1  3101298  12.2875   NaN        S             1      0   \n",
       "\n",
       "  Sobrenome  Grupo Título  \n",
       "0     Kelly      0     Mr  \n",
       "1    Wilkes      0    Mrs  \n",
       "2     Myles      0     Mr  \n",
       "3      Wirz      0     Mr  \n",
       "4  Hirvonen      0    Mrs  "
      ]
     },
     "execution_count": 59,
     "metadata": {},
     "output_type": "execute_result"
    }
   ],
   "source": [
    "# Criar coluna dos Títulos dos passageiros\n",
    "df_final['Título'] = df_final['Name'].str.split(',').str[1]\n",
    "df_final['Título'] = df_final['Título'].str.split('.').str[0]\n",
    "df_final.head()"
   ]
  },
  {
   "cell_type": "code",
   "execution_count": 60,
   "id": "restricted-register",
   "metadata": {
    "execution": {
     "iopub.execute_input": "2021-07-08T18:31:51.822998Z",
     "iopub.status.busy": "2021-07-08T18:31:51.822282Z",
     "iopub.status.idle": "2021-07-08T18:31:51.832357Z",
     "shell.execute_reply": "2021-07-08T18:31:51.832706Z",
     "shell.execute_reply.started": "2021-07-08T18:22:38.973054Z"
    },
    "papermill": {
     "duration": 0.090952,
     "end_time": "2021-07-08T18:31:51.832862",
     "exception": false,
     "start_time": "2021-07-08T18:31:51.741910",
     "status": "completed"
    },
    "tags": []
   },
   "outputs": [
    {
     "data": {
      "text/plain": [
       "PassengerId     0\n",
       "Pclass          0\n",
       "Name            0\n",
       "Sex             0\n",
       "Age             0\n",
       "SibSp           0\n",
       "Parch           0\n",
       "Ticket          0\n",
       "Fare            0\n",
       "Cabin           0\n",
       "Embarked        0\n",
       "Faixa Etária    0\n",
       "Renda           0\n",
       "Sobrenome       0\n",
       "Grupo           0\n",
       "Título          0\n",
       "dtype: int64"
      ]
     },
     "execution_count": 60,
     "metadata": {},
     "output_type": "execute_result"
    }
   ],
   "source": [
    "# Subistituir os missing values por 0\n",
    "df_final.fillna(value=0, inplace=True)\n",
    "df_final.isnull().sum()"
   ]
  },
  {
   "cell_type": "code",
   "execution_count": 61,
   "id": "fifty-matrix",
   "metadata": {
    "execution": {
     "iopub.execute_input": "2021-07-08T18:31:51.997707Z",
     "iopub.status.busy": "2021-07-08T18:31:51.997125Z",
     "iopub.status.idle": "2021-07-08T18:31:52.004078Z",
     "shell.execute_reply": "2021-07-08T18:31:52.003581Z",
     "shell.execute_reply.started": "2021-07-08T18:23:30.184354Z"
    },
    "papermill": {
     "duration": 0.094908,
     "end_time": "2021-07-08T18:31:52.004213",
     "exception": false,
     "start_time": "2021-07-08T18:31:51.909305",
     "status": "completed"
    },
    "tags": []
   },
   "outputs": [
    {
     "data": {
      "text/html": [
       "<div>\n",
       "<style scoped>\n",
       "    .dataframe tbody tr th:only-of-type {\n",
       "        vertical-align: middle;\n",
       "    }\n",
       "\n",
       "    .dataframe tbody tr th {\n",
       "        vertical-align: top;\n",
       "    }\n",
       "\n",
       "    .dataframe thead th {\n",
       "        text-align: right;\n",
       "    }\n",
       "</style>\n",
       "<table border=\"1\" class=\"dataframe\">\n",
       "  <thead>\n",
       "    <tr style=\"text-align: right;\">\n",
       "      <th></th>\n",
       "      <th>Pclass</th>\n",
       "      <th>Sex</th>\n",
       "      <th>SibSp</th>\n",
       "      <th>Parch</th>\n",
       "      <th>Cabin</th>\n",
       "      <th>Embarked</th>\n",
       "      <th>Faixa Etária</th>\n",
       "      <th>Renda</th>\n",
       "      <th>Grupo</th>\n",
       "      <th>Título</th>\n",
       "    </tr>\n",
       "  </thead>\n",
       "  <tbody>\n",
       "    <tr>\n",
       "      <th>0</th>\n",
       "      <td>3</td>\n",
       "      <td>male</td>\n",
       "      <td>0</td>\n",
       "      <td>0</td>\n",
       "      <td>0</td>\n",
       "      <td>Q</td>\n",
       "      <td>1</td>\n",
       "      <td>0</td>\n",
       "      <td>0</td>\n",
       "      <td>Mr</td>\n",
       "    </tr>\n",
       "    <tr>\n",
       "      <th>1</th>\n",
       "      <td>3</td>\n",
       "      <td>female</td>\n",
       "      <td>1</td>\n",
       "      <td>0</td>\n",
       "      <td>0</td>\n",
       "      <td>S</td>\n",
       "      <td>1</td>\n",
       "      <td>0</td>\n",
       "      <td>0</td>\n",
       "      <td>Mrs</td>\n",
       "    </tr>\n",
       "    <tr>\n",
       "      <th>2</th>\n",
       "      <td>2</td>\n",
       "      <td>male</td>\n",
       "      <td>0</td>\n",
       "      <td>0</td>\n",
       "      <td>0</td>\n",
       "      <td>Q</td>\n",
       "      <td>1</td>\n",
       "      <td>0</td>\n",
       "      <td>0</td>\n",
       "      <td>Mr</td>\n",
       "    </tr>\n",
       "    <tr>\n",
       "      <th>3</th>\n",
       "      <td>3</td>\n",
       "      <td>male</td>\n",
       "      <td>0</td>\n",
       "      <td>0</td>\n",
       "      <td>0</td>\n",
       "      <td>S</td>\n",
       "      <td>1</td>\n",
       "      <td>0</td>\n",
       "      <td>0</td>\n",
       "      <td>Mr</td>\n",
       "    </tr>\n",
       "    <tr>\n",
       "      <th>4</th>\n",
       "      <td>3</td>\n",
       "      <td>female</td>\n",
       "      <td>1</td>\n",
       "      <td>1</td>\n",
       "      <td>0</td>\n",
       "      <td>S</td>\n",
       "      <td>1</td>\n",
       "      <td>0</td>\n",
       "      <td>0</td>\n",
       "      <td>Mrs</td>\n",
       "    </tr>\n",
       "  </tbody>\n",
       "</table>\n",
       "</div>"
      ],
      "text/plain": [
       "   Pclass     Sex  SibSp  Parch Cabin Embarked  Faixa Etária  Renda  Grupo  \\\n",
       "0       3    male      0      0     0        Q             1      0      0   \n",
       "1       3  female      1      0     0        S             1      0      0   \n",
       "2       2    male      0      0     0        Q             1      0      0   \n",
       "3       3    male      0      0     0        S             1      0      0   \n",
       "4       3  female      1      1     0        S             1      0      0   \n",
       "\n",
       "  Título  \n",
       "0     Mr  \n",
       "1    Mrs  \n",
       "2     Mr  \n",
       "3     Mr  \n",
       "4    Mrs  "
      ]
     },
     "execution_count": 61,
     "metadata": {},
     "output_type": "execute_result"
    }
   ],
   "source": [
    "# Excluir as features que não serão utilizadas na previsão\n",
    "df_final.drop(columns=['PassengerId', 'Name', 'Ticket', 'Age', 'Sobrenome', 'Fare'], inplace=True)\n",
    "df_final.head()"
   ]
  },
  {
   "cell_type": "code",
   "execution_count": 62,
   "id": "floppy-coast",
   "metadata": {
    "execution": {
     "iopub.execute_input": "2021-07-08T18:31:52.176962Z",
     "iopub.status.busy": "2021-07-08T18:31:52.169456Z",
     "iopub.status.idle": "2021-07-08T18:31:52.191565Z",
     "shell.execute_reply": "2021-07-08T18:31:52.191053Z",
     "shell.execute_reply.started": "2021-07-08T18:28:32.746132Z"
    },
    "papermill": {
     "duration": 0.107674,
     "end_time": "2021-07-08T18:31:52.191685",
     "exception": false,
     "start_time": "2021-07-08T18:31:52.084011",
     "status": "completed"
    },
    "tags": []
   },
   "outputs": [
    {
     "data": {
      "text/html": [
       "<div>\n",
       "<style scoped>\n",
       "    .dataframe tbody tr th:only-of-type {\n",
       "        vertical-align: middle;\n",
       "    }\n",
       "\n",
       "    .dataframe tbody tr th {\n",
       "        vertical-align: top;\n",
       "    }\n",
       "\n",
       "    .dataframe thead th {\n",
       "        text-align: right;\n",
       "    }\n",
       "</style>\n",
       "<table border=\"1\" class=\"dataframe\">\n",
       "  <thead>\n",
       "    <tr style=\"text-align: right;\">\n",
       "      <th></th>\n",
       "      <th>Pclass</th>\n",
       "      <th>Sex</th>\n",
       "      <th>SibSp</th>\n",
       "      <th>Parch</th>\n",
       "      <th>Cabin</th>\n",
       "      <th>Embarked</th>\n",
       "      <th>Faixa Etária</th>\n",
       "      <th>Renda</th>\n",
       "      <th>Grupo</th>\n",
       "      <th>Título</th>\n",
       "    </tr>\n",
       "  </thead>\n",
       "  <tbody>\n",
       "    <tr>\n",
       "      <th>0</th>\n",
       "      <td>3</td>\n",
       "      <td>1</td>\n",
       "      <td>0</td>\n",
       "      <td>0</td>\n",
       "      <td>0</td>\n",
       "      <td>3</td>\n",
       "      <td>1</td>\n",
       "      <td>0</td>\n",
       "      <td>0</td>\n",
       "      <td>0</td>\n",
       "    </tr>\n",
       "    <tr>\n",
       "      <th>1</th>\n",
       "      <td>3</td>\n",
       "      <td>0</td>\n",
       "      <td>1</td>\n",
       "      <td>0</td>\n",
       "      <td>0</td>\n",
       "      <td>1</td>\n",
       "      <td>1</td>\n",
       "      <td>0</td>\n",
       "      <td>0</td>\n",
       "      <td>1</td>\n",
       "    </tr>\n",
       "    <tr>\n",
       "      <th>2</th>\n",
       "      <td>2</td>\n",
       "      <td>1</td>\n",
       "      <td>0</td>\n",
       "      <td>0</td>\n",
       "      <td>0</td>\n",
       "      <td>3</td>\n",
       "      <td>1</td>\n",
       "      <td>0</td>\n",
       "      <td>0</td>\n",
       "      <td>0</td>\n",
       "    </tr>\n",
       "    <tr>\n",
       "      <th>3</th>\n",
       "      <td>3</td>\n",
       "      <td>1</td>\n",
       "      <td>0</td>\n",
       "      <td>0</td>\n",
       "      <td>0</td>\n",
       "      <td>1</td>\n",
       "      <td>1</td>\n",
       "      <td>0</td>\n",
       "      <td>0</td>\n",
       "      <td>0</td>\n",
       "    </tr>\n",
       "    <tr>\n",
       "      <th>4</th>\n",
       "      <td>3</td>\n",
       "      <td>0</td>\n",
       "      <td>1</td>\n",
       "      <td>1</td>\n",
       "      <td>0</td>\n",
       "      <td>1</td>\n",
       "      <td>1</td>\n",
       "      <td>0</td>\n",
       "      <td>0</td>\n",
       "      <td>1</td>\n",
       "    </tr>\n",
       "  </tbody>\n",
       "</table>\n",
       "</div>"
      ],
      "text/plain": [
       "  Pclass  Sex  SibSp  Parch  Cabin Embarked Faixa Etária  Renda  Grupo  Título\n",
       "0      3    1      0      0      0        3            1      0      0       0\n",
       "1      3    0      1      0      0        1            1      0      0       1\n",
       "2      2    1      0      0      0        3            1      0      0       0\n",
       "3      3    1      0      0      0        1            1      0      0       0\n",
       "4      3    0      1      1      0        1            1      0      0       1"
      ]
     },
     "execution_count": 62,
     "metadata": {},
     "output_type": "execute_result"
    }
   ],
   "source": [
    "# Transformando os dados, com as mesmas transformações da base de Treino\n",
    "df_final['Pclass'] = df_final['Pclass'].astype(str)\n",
    "df_final['Sex'] = df_final['Sex'].replace({'male': 1, 'female': 0})\n",
    "df_final.loc[df_final['Cabin'] != 0, 'Cabin'] = 1\n",
    "df_final['Cabin'] = df_final['Cabin'].astype(int)\n",
    "df_final['Embarked'] = df_final['Embarked'].replace({'S': 1, 'C': 2, 'Q': 3, 0 : 2}).astype(str)\n",
    "df_final['Título'] = df_final['Título'].str.strip()\n",
    "df_final['Título'] = df_final['Título'].replace({'Mr': 0})\n",
    "df_final.loc[df_final['Título'] != 0, 'Título'] = 1\n",
    "df_final['Título'] = df_final['Título'].astype(int)\n",
    "df_final['Faixa Etária'] = df_final['Faixa Etária'].astype(str)\n",
    "df_final.head()"
   ]
  },
  {
   "cell_type": "code",
   "execution_count": 63,
   "id": "difficult-delay",
   "metadata": {
    "execution": {
     "iopub.execute_input": "2021-07-08T18:31:52.356530Z",
     "iopub.status.busy": "2021-07-08T18:31:52.353990Z",
     "iopub.status.idle": "2021-07-08T18:31:52.370971Z",
     "shell.execute_reply": "2021-07-08T18:31:52.371364Z",
     "shell.execute_reply.started": "2021-07-08T18:28:59.951366Z"
    },
    "papermill": {
     "duration": 0.100385,
     "end_time": "2021-07-08T18:31:52.371509",
     "exception": false,
     "start_time": "2021-07-08T18:31:52.271124",
     "status": "completed"
    },
    "tags": []
   },
   "outputs": [
    {
     "data": {
      "text/html": [
       "<div>\n",
       "<style scoped>\n",
       "    .dataframe tbody tr th:only-of-type {\n",
       "        vertical-align: middle;\n",
       "    }\n",
       "\n",
       "    .dataframe tbody tr th {\n",
       "        vertical-align: top;\n",
       "    }\n",
       "\n",
       "    .dataframe thead th {\n",
       "        text-align: right;\n",
       "    }\n",
       "</style>\n",
       "<table border=\"1\" class=\"dataframe\">\n",
       "  <thead>\n",
       "    <tr style=\"text-align: right;\">\n",
       "      <th></th>\n",
       "      <th>Sex</th>\n",
       "      <th>SibSp</th>\n",
       "      <th>Parch</th>\n",
       "      <th>Cabin</th>\n",
       "      <th>Renda</th>\n",
       "      <th>Grupo</th>\n",
       "      <th>Título</th>\n",
       "      <th>Pclass_1</th>\n",
       "      <th>Pclass_2</th>\n",
       "      <th>Pclass_3</th>\n",
       "      <th>Embarked_1</th>\n",
       "      <th>Embarked_2</th>\n",
       "      <th>Embarked_3</th>\n",
       "      <th>Faixa Etária_0</th>\n",
       "      <th>Faixa Etária_1</th>\n",
       "      <th>Faixa Etária_2</th>\n",
       "    </tr>\n",
       "  </thead>\n",
       "  <tbody>\n",
       "    <tr>\n",
       "      <th>0</th>\n",
       "      <td>1</td>\n",
       "      <td>0</td>\n",
       "      <td>0</td>\n",
       "      <td>0</td>\n",
       "      <td>0</td>\n",
       "      <td>0</td>\n",
       "      <td>0</td>\n",
       "      <td>0</td>\n",
       "      <td>0</td>\n",
       "      <td>1</td>\n",
       "      <td>0</td>\n",
       "      <td>0</td>\n",
       "      <td>1</td>\n",
       "      <td>0</td>\n",
       "      <td>1</td>\n",
       "      <td>0</td>\n",
       "    </tr>\n",
       "    <tr>\n",
       "      <th>1</th>\n",
       "      <td>0</td>\n",
       "      <td>1</td>\n",
       "      <td>0</td>\n",
       "      <td>0</td>\n",
       "      <td>0</td>\n",
       "      <td>0</td>\n",
       "      <td>1</td>\n",
       "      <td>0</td>\n",
       "      <td>0</td>\n",
       "      <td>1</td>\n",
       "      <td>1</td>\n",
       "      <td>0</td>\n",
       "      <td>0</td>\n",
       "      <td>0</td>\n",
       "      <td>1</td>\n",
       "      <td>0</td>\n",
       "    </tr>\n",
       "    <tr>\n",
       "      <th>2</th>\n",
       "      <td>1</td>\n",
       "      <td>0</td>\n",
       "      <td>0</td>\n",
       "      <td>0</td>\n",
       "      <td>0</td>\n",
       "      <td>0</td>\n",
       "      <td>0</td>\n",
       "      <td>0</td>\n",
       "      <td>1</td>\n",
       "      <td>0</td>\n",
       "      <td>0</td>\n",
       "      <td>0</td>\n",
       "      <td>1</td>\n",
       "      <td>0</td>\n",
       "      <td>1</td>\n",
       "      <td>0</td>\n",
       "    </tr>\n",
       "    <tr>\n",
       "      <th>3</th>\n",
       "      <td>1</td>\n",
       "      <td>0</td>\n",
       "      <td>0</td>\n",
       "      <td>0</td>\n",
       "      <td>0</td>\n",
       "      <td>0</td>\n",
       "      <td>0</td>\n",
       "      <td>0</td>\n",
       "      <td>0</td>\n",
       "      <td>1</td>\n",
       "      <td>1</td>\n",
       "      <td>0</td>\n",
       "      <td>0</td>\n",
       "      <td>0</td>\n",
       "      <td>1</td>\n",
       "      <td>0</td>\n",
       "    </tr>\n",
       "    <tr>\n",
       "      <th>4</th>\n",
       "      <td>0</td>\n",
       "      <td>1</td>\n",
       "      <td>1</td>\n",
       "      <td>0</td>\n",
       "      <td>0</td>\n",
       "      <td>0</td>\n",
       "      <td>1</td>\n",
       "      <td>0</td>\n",
       "      <td>0</td>\n",
       "      <td>1</td>\n",
       "      <td>1</td>\n",
       "      <td>0</td>\n",
       "      <td>0</td>\n",
       "      <td>0</td>\n",
       "      <td>1</td>\n",
       "      <td>0</td>\n",
       "    </tr>\n",
       "  </tbody>\n",
       "</table>\n",
       "</div>"
      ],
      "text/plain": [
       "   Sex  SibSp  Parch  Cabin  Renda  Grupo  Título  Pclass_1  Pclass_2  \\\n",
       "0    1      0      0      0      0      0       0         0         0   \n",
       "1    0      1      0      0      0      0       1         0         0   \n",
       "2    1      0      0      0      0      0       0         0         1   \n",
       "3    1      0      0      0      0      0       0         0         0   \n",
       "4    0      1      1      0      0      0       1         0         0   \n",
       "\n",
       "   Pclass_3  Embarked_1  Embarked_2  Embarked_3  Faixa Etária_0  \\\n",
       "0         1           0           0           1               0   \n",
       "1         1           1           0           0               0   \n",
       "2         0           0           0           1               0   \n",
       "3         1           1           0           0               0   \n",
       "4         1           1           0           0               0   \n",
       "\n",
       "   Faixa Etária_1  Faixa Etária_2  \n",
       "0               1               0  \n",
       "1               1               0  \n",
       "2               1               0  \n",
       "3               1               0  \n",
       "4               1               0  "
      ]
     },
     "execution_count": 63,
     "metadata": {},
     "output_type": "execute_result"
    }
   ],
   "source": [
    "# Tratar colunas categóricas para colunas numéricas (label enconde)\n",
    "df_final = pd.get_dummies(df_final)\n",
    "df_final.head()"
   ]
  },
  {
   "cell_type": "code",
   "execution_count": 64,
   "id": "express-optimization",
   "metadata": {
    "execution": {
     "iopub.execute_input": "2021-07-08T18:31:52.532240Z",
     "iopub.status.busy": "2021-07-08T18:31:52.531712Z",
     "iopub.status.idle": "2021-07-08T18:31:52.536776Z",
     "shell.execute_reply": "2021-07-08T18:31:52.536258Z",
     "shell.execute_reply.started": "2021-07-08T18:29:19.596413Z"
    },
    "papermill": {
     "duration": 0.08926,
     "end_time": "2021-07-08T18:31:52.536914",
     "exception": false,
     "start_time": "2021-07-08T18:31:52.447654",
     "status": "completed"
    },
    "tags": []
   },
   "outputs": [
    {
     "data": {
      "text/plain": [
       "array([[1.   , 0.   , 0.   , ..., 0.   , 1.   , 0.   ],\n",
       "       [0.   , 0.125, 0.   , ..., 0.   , 1.   , 0.   ],\n",
       "       [1.   , 0.   , 0.   , ..., 0.   , 1.   , 0.   ],\n",
       "       ...,\n",
       "       [1.   , 0.   , 0.   , ..., 0.   , 1.   , 0.   ],\n",
       "       [1.   , 0.   , 0.   , ..., 0.   , 0.   , 1.   ],\n",
       "       [1.   , 0.125, 0.2  , ..., 0.   , 0.   , 1.   ]])"
      ]
     },
     "execution_count": 64,
     "metadata": {},
     "output_type": "execute_result"
    }
   ],
   "source": [
    "# Normalização dos Dados (com o Scaler criado anteriormente)\n",
    "df_final = escala.transform(df_final)\n",
    "df_final"
   ]
  },
  {
   "cell_type": "code",
   "execution_count": 65,
   "id": "periodic-gospel",
   "metadata": {
    "execution": {
     "iopub.execute_input": "2021-07-08T18:31:52.697282Z",
     "iopub.status.busy": "2021-07-08T18:31:52.694156Z",
     "iopub.status.idle": "2021-07-08T18:31:52.702409Z",
     "shell.execute_reply": "2021-07-08T18:31:52.703132Z",
     "shell.execute_reply.started": "2021-07-08T18:29:29.126607Z"
    },
    "papermill": {
     "duration": 0.089387,
     "end_time": "2021-07-08T18:31:52.703302",
     "exception": false,
     "start_time": "2021-07-08T18:31:52.613915",
     "status": "completed"
    },
    "tags": []
   },
   "outputs": [],
   "source": [
    "# Fazendo a previsão com o Modelo XGBoost Tunado\n",
    "y_xgb = tuning_clf_xgb.predict(df_final)\n",
    "y_xgb = [round(value) for value in y_xgb]"
   ]
  },
  {
   "cell_type": "code",
   "execution_count": 66,
   "id": "specified-frontier",
   "metadata": {
    "execution": {
     "iopub.execute_input": "2021-07-08T18:31:52.861730Z",
     "iopub.status.busy": "2021-07-08T18:31:52.861225Z",
     "iopub.status.idle": "2021-07-08T18:31:52.886356Z",
     "shell.execute_reply": "2021-07-08T18:31:52.885903Z",
     "shell.execute_reply.started": "2021-07-08T18:29:34.770111Z"
    },
    "papermill": {
     "duration": 0.105272,
     "end_time": "2021-07-08T18:31:52.886467",
     "exception": false,
     "start_time": "2021-07-08T18:31:52.781195",
     "status": "completed"
    },
    "tags": []
   },
   "outputs": [
    {
     "data": {
      "text/html": [
       "<div>\n",
       "<style scoped>\n",
       "    .dataframe tbody tr th:only-of-type {\n",
       "        vertical-align: middle;\n",
       "    }\n",
       "\n",
       "    .dataframe tbody tr th {\n",
       "        vertical-align: top;\n",
       "    }\n",
       "\n",
       "    .dataframe thead th {\n",
       "        text-align: right;\n",
       "    }\n",
       "</style>\n",
       "<table border=\"1\" class=\"dataframe\">\n",
       "  <thead>\n",
       "    <tr style=\"text-align: right;\">\n",
       "      <th></th>\n",
       "      <th>PassengerId</th>\n",
       "      <th>Pclass</th>\n",
       "      <th>Name</th>\n",
       "      <th>Sex</th>\n",
       "      <th>Age</th>\n",
       "      <th>SibSp</th>\n",
       "      <th>Parch</th>\n",
       "      <th>Ticket</th>\n",
       "      <th>Fare</th>\n",
       "      <th>Cabin</th>\n",
       "      <th>Embarked</th>\n",
       "      <th>Survived</th>\n",
       "    </tr>\n",
       "  </thead>\n",
       "  <tbody>\n",
       "    <tr>\n",
       "      <th>0</th>\n",
       "      <td>892</td>\n",
       "      <td>3</td>\n",
       "      <td>Kelly, Mr. James</td>\n",
       "      <td>male</td>\n",
       "      <td>34.5</td>\n",
       "      <td>0</td>\n",
       "      <td>0</td>\n",
       "      <td>330911</td>\n",
       "      <td>7.8292</td>\n",
       "      <td>NaN</td>\n",
       "      <td>Q</td>\n",
       "      <td>0</td>\n",
       "    </tr>\n",
       "    <tr>\n",
       "      <th>1</th>\n",
       "      <td>893</td>\n",
       "      <td>3</td>\n",
       "      <td>Wilkes, Mrs. James (Ellen Needs)</td>\n",
       "      <td>female</td>\n",
       "      <td>47.0</td>\n",
       "      <td>1</td>\n",
       "      <td>0</td>\n",
       "      <td>363272</td>\n",
       "      <td>7.0000</td>\n",
       "      <td>NaN</td>\n",
       "      <td>S</td>\n",
       "      <td>1</td>\n",
       "    </tr>\n",
       "    <tr>\n",
       "      <th>2</th>\n",
       "      <td>894</td>\n",
       "      <td>2</td>\n",
       "      <td>Myles, Mr. Thomas Francis</td>\n",
       "      <td>male</td>\n",
       "      <td>62.0</td>\n",
       "      <td>0</td>\n",
       "      <td>0</td>\n",
       "      <td>240276</td>\n",
       "      <td>9.6875</td>\n",
       "      <td>NaN</td>\n",
       "      <td>Q</td>\n",
       "      <td>0</td>\n",
       "    </tr>\n",
       "    <tr>\n",
       "      <th>3</th>\n",
       "      <td>895</td>\n",
       "      <td>3</td>\n",
       "      <td>Wirz, Mr. Albert</td>\n",
       "      <td>male</td>\n",
       "      <td>27.0</td>\n",
       "      <td>0</td>\n",
       "      <td>0</td>\n",
       "      <td>315154</td>\n",
       "      <td>8.6625</td>\n",
       "      <td>NaN</td>\n",
       "      <td>S</td>\n",
       "      <td>0</td>\n",
       "    </tr>\n",
       "    <tr>\n",
       "      <th>4</th>\n",
       "      <td>896</td>\n",
       "      <td>3</td>\n",
       "      <td>Hirvonen, Mrs. Alexander (Helga E Lindqvist)</td>\n",
       "      <td>female</td>\n",
       "      <td>22.0</td>\n",
       "      <td>1</td>\n",
       "      <td>1</td>\n",
       "      <td>3101298</td>\n",
       "      <td>12.2875</td>\n",
       "      <td>NaN</td>\n",
       "      <td>S</td>\n",
       "      <td>1</td>\n",
       "    </tr>\n",
       "    <tr>\n",
       "      <th>5</th>\n",
       "      <td>897</td>\n",
       "      <td>3</td>\n",
       "      <td>Svensson, Mr. Johan Cervin</td>\n",
       "      <td>male</td>\n",
       "      <td>14.0</td>\n",
       "      <td>0</td>\n",
       "      <td>0</td>\n",
       "      <td>7538</td>\n",
       "      <td>9.2250</td>\n",
       "      <td>NaN</td>\n",
       "      <td>S</td>\n",
       "      <td>0</td>\n",
       "    </tr>\n",
       "    <tr>\n",
       "      <th>6</th>\n",
       "      <td>898</td>\n",
       "      <td>3</td>\n",
       "      <td>Connolly, Miss. Kate</td>\n",
       "      <td>female</td>\n",
       "      <td>30.0</td>\n",
       "      <td>0</td>\n",
       "      <td>0</td>\n",
       "      <td>330972</td>\n",
       "      <td>7.6292</td>\n",
       "      <td>NaN</td>\n",
       "      <td>Q</td>\n",
       "      <td>1</td>\n",
       "    </tr>\n",
       "    <tr>\n",
       "      <th>7</th>\n",
       "      <td>899</td>\n",
       "      <td>2</td>\n",
       "      <td>Caldwell, Mr. Albert Francis</td>\n",
       "      <td>male</td>\n",
       "      <td>26.0</td>\n",
       "      <td>1</td>\n",
       "      <td>1</td>\n",
       "      <td>248738</td>\n",
       "      <td>29.0000</td>\n",
       "      <td>NaN</td>\n",
       "      <td>S</td>\n",
       "      <td>0</td>\n",
       "    </tr>\n",
       "    <tr>\n",
       "      <th>8</th>\n",
       "      <td>900</td>\n",
       "      <td>3</td>\n",
       "      <td>Abrahim, Mrs. Joseph (Sophie Halaut Easu)</td>\n",
       "      <td>female</td>\n",
       "      <td>18.0</td>\n",
       "      <td>0</td>\n",
       "      <td>0</td>\n",
       "      <td>2657</td>\n",
       "      <td>7.2292</td>\n",
       "      <td>NaN</td>\n",
       "      <td>C</td>\n",
       "      <td>1</td>\n",
       "    </tr>\n",
       "    <tr>\n",
       "      <th>9</th>\n",
       "      <td>901</td>\n",
       "      <td>3</td>\n",
       "      <td>Davies, Mr. John Samuel</td>\n",
       "      <td>male</td>\n",
       "      <td>21.0</td>\n",
       "      <td>2</td>\n",
       "      <td>0</td>\n",
       "      <td>A/4 48871</td>\n",
       "      <td>24.1500</td>\n",
       "      <td>NaN</td>\n",
       "      <td>S</td>\n",
       "      <td>0</td>\n",
       "    </tr>\n",
       "  </tbody>\n",
       "</table>\n",
       "</div>"
      ],
      "text/plain": [
       "   PassengerId  Pclass                                          Name     Sex  \\\n",
       "0          892       3                              Kelly, Mr. James    male   \n",
       "1          893       3              Wilkes, Mrs. James (Ellen Needs)  female   \n",
       "2          894       2                     Myles, Mr. Thomas Francis    male   \n",
       "3          895       3                              Wirz, Mr. Albert    male   \n",
       "4          896       3  Hirvonen, Mrs. Alexander (Helga E Lindqvist)  female   \n",
       "5          897       3                    Svensson, Mr. Johan Cervin    male   \n",
       "6          898       3                          Connolly, Miss. Kate  female   \n",
       "7          899       2                  Caldwell, Mr. Albert Francis    male   \n",
       "8          900       3     Abrahim, Mrs. Joseph (Sophie Halaut Easu)  female   \n",
       "9          901       3                       Davies, Mr. John Samuel    male   \n",
       "\n",
       "    Age  SibSp  Parch     Ticket     Fare Cabin Embarked  Survived  \n",
       "0  34.5      0      0     330911   7.8292   NaN        Q         0  \n",
       "1  47.0      1      0     363272   7.0000   NaN        S         1  \n",
       "2  62.0      0      0     240276   9.6875   NaN        Q         0  \n",
       "3  27.0      0      0     315154   8.6625   NaN        S         0  \n",
       "4  22.0      1      1    3101298  12.2875   NaN        S         1  \n",
       "5  14.0      0      0       7538   9.2250   NaN        S         0  \n",
       "6  30.0      0      0     330972   7.6292   NaN        Q         1  \n",
       "7  26.0      1      1     248738  29.0000   NaN        S         0  \n",
       "8  18.0      0      0       2657   7.2292   NaN        C         1  \n",
       "9  21.0      2      0  A/4 48871  24.1500   NaN        S         0  "
      ]
     },
     "execution_count": 66,
     "metadata": {},
     "output_type": "execute_result"
    }
   ],
   "source": [
    "# Criar base final com as previsões para submissão\n",
    "df_envio = pd.read_csv('../input/titanic/test.csv')\n",
    "df_envio['Survived'] = y_xgb\n",
    "df_envio.head(10)"
   ]
  },
  {
   "cell_type": "code",
   "execution_count": 67,
   "id": "continental-admission",
   "metadata": {
    "execution": {
     "iopub.execute_input": "2021-07-08T18:31:53.048580Z",
     "iopub.status.busy": "2021-07-08T18:31:53.047907Z",
     "iopub.status.idle": "2021-07-08T18:31:53.053922Z",
     "shell.execute_reply": "2021-07-08T18:31:53.053400Z",
     "shell.execute_reply.started": "2021-07-08T18:29:43.388332Z"
    },
    "papermill": {
     "duration": 0.094518,
     "end_time": "2021-07-08T18:31:53.054031",
     "exception": false,
     "start_time": "2021-07-08T18:31:52.959513",
     "status": "completed"
    },
    "tags": []
   },
   "outputs": [
    {
     "data": {
      "text/html": [
       "<div>\n",
       "<style scoped>\n",
       "    .dataframe tbody tr th:only-of-type {\n",
       "        vertical-align: middle;\n",
       "    }\n",
       "\n",
       "    .dataframe tbody tr th {\n",
       "        vertical-align: top;\n",
       "    }\n",
       "\n",
       "    .dataframe thead th {\n",
       "        text-align: right;\n",
       "    }\n",
       "</style>\n",
       "<table border=\"1\" class=\"dataframe\">\n",
       "  <thead>\n",
       "    <tr style=\"text-align: right;\">\n",
       "      <th></th>\n",
       "      <th>PassengerId</th>\n",
       "      <th>Survived</th>\n",
       "    </tr>\n",
       "  </thead>\n",
       "  <tbody>\n",
       "    <tr>\n",
       "      <th>0</th>\n",
       "      <td>892</td>\n",
       "      <td>0</td>\n",
       "    </tr>\n",
       "    <tr>\n",
       "      <th>1</th>\n",
       "      <td>893</td>\n",
       "      <td>1</td>\n",
       "    </tr>\n",
       "    <tr>\n",
       "      <th>2</th>\n",
       "      <td>894</td>\n",
       "      <td>0</td>\n",
       "    </tr>\n",
       "    <tr>\n",
       "      <th>3</th>\n",
       "      <td>895</td>\n",
       "      <td>0</td>\n",
       "    </tr>\n",
       "    <tr>\n",
       "      <th>4</th>\n",
       "      <td>896</td>\n",
       "      <td>1</td>\n",
       "    </tr>\n",
       "  </tbody>\n",
       "</table>\n",
       "</div>"
      ],
      "text/plain": [
       "   PassengerId  Survived\n",
       "0          892         0\n",
       "1          893         1\n",
       "2          894         0\n",
       "3          895         0\n",
       "4          896         1"
      ]
     },
     "execution_count": 67,
     "metadata": {},
     "output_type": "execute_result"
    }
   ],
   "source": [
    "# Salvar como CSV no formado requerido\n",
    "df_envio = df_envio[['PassengerId', 'Survived']]\n",
    "df_envio.head()"
   ]
  },
  {
   "cell_type": "code",
   "execution_count": 68,
   "id": "corrected-smell",
   "metadata": {
    "execution": {
     "iopub.execute_input": "2021-07-08T18:31:53.221305Z",
     "iopub.status.busy": "2021-07-08T18:31:53.220520Z",
     "iopub.status.idle": "2021-07-08T18:31:53.227063Z",
     "shell.execute_reply": "2021-07-08T18:31:53.227619Z",
     "shell.execute_reply.started": "2021-07-08T18:30:15.623845Z"
    },
    "papermill": {
     "duration": 0.09337,
     "end_time": "2021-07-08T18:31:53.227796",
     "exception": false,
     "start_time": "2021-07-08T18:31:53.134426",
     "status": "completed"
    },
    "tags": []
   },
   "outputs": [],
   "source": [
    "# Arvquivo final\n",
    "df_envio.to_csv('final_pred_titanic_jwl.csv',index=False)"
   ]
  }
 ],
 "metadata": {
  "kernelspec": {
   "display_name": "Python 3",
   "language": "python",
   "name": "python3"
  },
  "language_info": {
   "codemirror_mode": {
    "name": "ipython",
    "version": 3
   },
   "file_extension": ".py",
   "mimetype": "text/x-python",
   "name": "python",
   "nbconvert_exporter": "python",
   "pygments_lexer": "ipython3",
   "version": "3.7.10"
  },
  "papermill": {
   "default_parameters": {},
   "duration": 73.314582,
   "end_time": "2021-07-08T18:31:55.168028",
   "environment_variables": {},
   "exception": null,
   "input_path": "__notebook__.ipynb",
   "output_path": "__notebook__.ipynb",
   "parameters": {},
   "start_time": "2021-07-08T18:30:41.853446",
   "version": "2.3.3"
  }
 },
 "nbformat": 4,
 "nbformat_minor": 5
}
